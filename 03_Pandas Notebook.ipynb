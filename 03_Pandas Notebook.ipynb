{
 "cells": [
  {
   "cell_type": "markdown",
   "id": "1d59ce7d",
   "metadata": {},
   "source": [
    "# Pandas, Matplotlib and Seaborn"
   ]
  },
  {
   "cell_type": "markdown",
   "id": "3e9cb5a8",
   "metadata": {},
   "source": [
    "[Dataset Soruce](https://www.kaggle.com/datasets/rajkumarpandey02/gdp-in-usd-per-capita-income-by-country)"
   ]
  },
  {
   "cell_type": "markdown",
   "id": "7d8ea84d",
   "metadata": {},
   "source": [
    "CONTENT\n",
    "<p>The figures presented here do not take into account differences in the cost of living in different countries, and the results vary greatly from one year to another based on fluctuations in the exchange rates of the country's currency. Such fluctuations change a country's ranking from one year to the next, even though they often make little or no difference to the standard of living of its population.\n",
    "\n",
    "GDP per capita is often considered an indicator of a country's standard of living; however, this is inaccurate because GDP per capita is not a measure of personal income.\n",
    "\n",
    "Comparisons of national income are also frequently made on the basis of purchasing power parity (PPP), to adjust for differences in the cost of living in different countries. (See List of countries by GDP (PPP) per capita.) PPP largely removes the exchange rate problem but not others; it does not reflect the value of economic output in international trade, and it also requires more estimation than GDP per capita. On the whole, PPP per capita figures are more narrowly spread than nominal GDP per capita figures.</p>"
   ]
  },
  {
   "cell_type": "markdown",
   "id": "439369dd",
   "metadata": {},
   "source": [
    "Here are some resources to learn about GDP: \n",
    "#### [World Bank](https://data.worldbank.org/indicator/ny.gdp.pcap.cd?most_recent_value_desc=false)\n",
    "#### [Our World in Data](https://ourworldindata.org/grapher/gdp-per-capita-worldbank)\n",
    "#### [IMF](https://www.imf.org/external/datamapper/NGDPD@WEO/OEMDC/ADVEC/WEOWORLD)\n",
    "#### [UN Data](https://data.un.org/Data.aspx?d=SNAAMA&f=grID%3A101%3BcurrID%3AUSD%3BpcFlag%3A1)\n",
    "\n"
   ]
  },
  {
   "cell_type": "code",
   "execution_count": 4,
   "id": "c877d1ec",
   "metadata": {},
   "outputs": [],
   "source": [
    "#import pandas library alias as pd\n",
    "import pandas as pd"
   ]
  },
  {
   "cell_type": "code",
   "execution_count": 6,
   "id": "d007012d",
   "metadata": {},
   "outputs": [],
   "source": [
    "# read csv file\n",
    "df = pd.read_csv(\"GDP (nominal) per Capita.csv\",encoding= 'unicode_escape',  index_col=0)"
   ]
  },
  {
   "cell_type": "markdown",
   "id": "96a8f1f7",
   "metadata": {
    "jp-MarkdownHeadingCollapsed": true
   },
   "source": [
    "## EDA (Exploratory Data Analysis)"
   ]
  },
  {
   "cell_type": "markdown",
   "id": "5110f855-43ca-4e07-bab6-0339c0cfb3a0",
   "metadata": {},
   "source": [
    "### Use this section to explore and inspect dataset."
   ]
  },
  {
   "cell_type": "code",
   "execution_count": null,
   "id": "2936370b",
   "metadata": {},
   "outputs": [],
   "source": [
    "#check the head "
   ]
  },
  {
   "cell_type": "code",
   "execution_count": 8,
   "id": "a7037c1f",
   "metadata": {},
   "outputs": [
    {
     "data": {
      "text/html": [
       "<div>\n",
       "<style scoped>\n",
       "    .dataframe tbody tr th:only-of-type {\n",
       "        vertical-align: middle;\n",
       "    }\n",
       "\n",
       "    .dataframe tbody tr th {\n",
       "        vertical-align: top;\n",
       "    }\n",
       "\n",
       "    .dataframe thead th {\n",
       "        text-align: right;\n",
       "    }\n",
       "</style>\n",
       "<table border=\"1\" class=\"dataframe\">\n",
       "  <thead>\n",
       "    <tr style=\"text-align: right;\">\n",
       "      <th></th>\n",
       "      <th>Country/Territory</th>\n",
       "      <th>UN_Region</th>\n",
       "      <th>IMF_Estimate</th>\n",
       "      <th>IMF_Year</th>\n",
       "      <th>WorldBank_Estimate</th>\n",
       "      <th>WorldBank_Year</th>\n",
       "      <th>UN_Estimate</th>\n",
       "      <th>UN_Year</th>\n",
       "    </tr>\n",
       "  </thead>\n",
       "  <tbody>\n",
       "    <tr>\n",
       "      <th>1</th>\n",
       "      <td>Monaco</td>\n",
       "      <td>Europe</td>\n",
       "      <td>0</td>\n",
       "      <td>0</td>\n",
       "      <td>234316</td>\n",
       "      <td>2021</td>\n",
       "      <td>234317</td>\n",
       "      <td>2021</td>\n",
       "    </tr>\n",
       "    <tr>\n",
       "      <th>2</th>\n",
       "      <td>Liechtenstein</td>\n",
       "      <td>Europe</td>\n",
       "      <td>0</td>\n",
       "      <td>0</td>\n",
       "      <td>157755</td>\n",
       "      <td>2020</td>\n",
       "      <td>169260</td>\n",
       "      <td>2021</td>\n",
       "    </tr>\n",
       "    <tr>\n",
       "      <th>3</th>\n",
       "      <td>Luxembourg</td>\n",
       "      <td>Europe</td>\n",
       "      <td>132372</td>\n",
       "      <td>2023</td>\n",
       "      <td>133590</td>\n",
       "      <td>2021</td>\n",
       "      <td>133745</td>\n",
       "      <td>2021</td>\n",
       "    </tr>\n",
       "    <tr>\n",
       "      <th>4</th>\n",
       "      <td>Ireland</td>\n",
       "      <td>Europe</td>\n",
       "      <td>114581</td>\n",
       "      <td>2023</td>\n",
       "      <td>100172</td>\n",
       "      <td>2021</td>\n",
       "      <td>101109</td>\n",
       "      <td>2021</td>\n",
       "    </tr>\n",
       "    <tr>\n",
       "      <th>5</th>\n",
       "      <td>Bermuda</td>\n",
       "      <td>Americas</td>\n",
       "      <td>0</td>\n",
       "      <td>0</td>\n",
       "      <td>114090</td>\n",
       "      <td>2021</td>\n",
       "      <td>112653</td>\n",
       "      <td>2021</td>\n",
       "    </tr>\n",
       "  </tbody>\n",
       "</table>\n",
       "</div>"
      ],
      "text/plain": [
       "  Country/Territory UN_Region  IMF_Estimate  IMF_Year  WorldBank_Estimate  \\\n",
       "1            Monaco    Europe             0         0              234316   \n",
       "2     Liechtenstein    Europe             0         0              157755   \n",
       "3        Luxembourg    Europe        132372      2023              133590   \n",
       "4           Ireland    Europe        114581      2023              100172   \n",
       "5           Bermuda  Americas             0         0              114090   \n",
       "\n",
       "   WorldBank_Year  UN_Estimate UN_Year  \n",
       "1            2021       234317    2021  \n",
       "2            2020       169260    2021  \n",
       "3            2021       133745    2021  \n",
       "4            2021       101109    2021  \n",
       "5            2021       112653    2021  "
      ]
     },
     "execution_count": 8,
     "metadata": {},
     "output_type": "execute_result"
    }
   ],
   "source": [
    "df.head()"
   ]
  },
  {
   "cell_type": "code",
   "execution_count": null,
   "id": "46130ff5-2188-4116-9efd-90749b66989c",
   "metadata": {},
   "outputs": [],
   "source": [
    "#check the tail "
   ]
  },
  {
   "cell_type": "code",
   "execution_count": 10,
   "id": "751a251c-d814-4754-a477-0e632222e6af",
   "metadata": {},
   "outputs": [
    {
     "data": {
      "text/html": [
       "<div>\n",
       "<style scoped>\n",
       "    .dataframe tbody tr th:only-of-type {\n",
       "        vertical-align: middle;\n",
       "    }\n",
       "\n",
       "    .dataframe tbody tr th {\n",
       "        vertical-align: top;\n",
       "    }\n",
       "\n",
       "    .dataframe thead th {\n",
       "        text-align: right;\n",
       "    }\n",
       "</style>\n",
       "<table border=\"1\" class=\"dataframe\">\n",
       "  <thead>\n",
       "    <tr style=\"text-align: right;\">\n",
       "      <th></th>\n",
       "      <th>Country/Territory</th>\n",
       "      <th>UN_Region</th>\n",
       "      <th>IMF_Estimate</th>\n",
       "      <th>IMF_Year</th>\n",
       "      <th>WorldBank_Estimate</th>\n",
       "      <th>WorldBank_Year</th>\n",
       "      <th>UN_Estimate</th>\n",
       "      <th>UN_Year</th>\n",
       "    </tr>\n",
       "  </thead>\n",
       "  <tbody>\n",
       "    <tr>\n",
       "      <th>219</th>\n",
       "      <td>Malawi</td>\n",
       "      <td>Africa</td>\n",
       "      <td>496</td>\n",
       "      <td>2023</td>\n",
       "      <td>635</td>\n",
       "      <td>2021</td>\n",
       "      <td>613</td>\n",
       "      <td>2021</td>\n",
       "    </tr>\n",
       "    <tr>\n",
       "      <th>220</th>\n",
       "      <td>South Sudan</td>\n",
       "      <td>Africa</td>\n",
       "      <td>467</td>\n",
       "      <td>2023</td>\n",
       "      <td>1072</td>\n",
       "      <td>2015</td>\n",
       "      <td>400</td>\n",
       "      <td>2021</td>\n",
       "    </tr>\n",
       "    <tr>\n",
       "      <th>221</th>\n",
       "      <td>Sierra Leone</td>\n",
       "      <td>Africa</td>\n",
       "      <td>415</td>\n",
       "      <td>2023</td>\n",
       "      <td>480</td>\n",
       "      <td>2021</td>\n",
       "      <td>505</td>\n",
       "      <td>2021</td>\n",
       "    </tr>\n",
       "    <tr>\n",
       "      <th>222</th>\n",
       "      <td>Afghanistan</td>\n",
       "      <td>Asia</td>\n",
       "      <td>611</td>\n",
       "      <td>2020</td>\n",
       "      <td>369</td>\n",
       "      <td>2021</td>\n",
       "      <td>373</td>\n",
       "      <td>2021</td>\n",
       "    </tr>\n",
       "    <tr>\n",
       "      <th>223</th>\n",
       "      <td>Burundi</td>\n",
       "      <td>Africa</td>\n",
       "      <td>249</td>\n",
       "      <td>2023</td>\n",
       "      <td>222</td>\n",
       "      <td>2021</td>\n",
       "      <td>311</td>\n",
       "      <td>2021</td>\n",
       "    </tr>\n",
       "  </tbody>\n",
       "</table>\n",
       "</div>"
      ],
      "text/plain": [
       "    Country/Territory UN_Region  IMF_Estimate  IMF_Year  WorldBank_Estimate  \\\n",
       "219            Malawi    Africa           496      2023                 635   \n",
       "220       South Sudan    Africa           467      2023                1072   \n",
       "221      Sierra Leone    Africa           415      2023                 480   \n",
       "222       Afghanistan      Asia           611      2020                 369   \n",
       "223           Burundi    Africa           249      2023                 222   \n",
       "\n",
       "     WorldBank_Year  UN_Estimate UN_Year  \n",
       "219            2021          613    2021  \n",
       "220            2015          400    2021  \n",
       "221            2021          505    2021  \n",
       "222            2021          373    2021  \n",
       "223            2021          311    2021  "
      ]
     },
     "execution_count": 10,
     "metadata": {},
     "output_type": "execute_result"
    }
   ],
   "source": [
    "df.tail()"
   ]
  },
  {
   "cell_type": "code",
   "execution_count": null,
   "id": "483a7631-4033-45b6-a512-8e8305b4fcbc",
   "metadata": {},
   "outputs": [],
   "source": [
    "# check info"
   ]
  },
  {
   "cell_type": "code",
   "execution_count": 12,
   "id": "0bc07ef9-b301-45b7-9b11-17f77a0f6d59",
   "metadata": {},
   "outputs": [
    {
     "name": "stdout",
     "output_type": "stream",
     "text": [
      "<class 'pandas.core.frame.DataFrame'>\n",
      "Index: 223 entries, 1 to 223\n",
      "Data columns (total 8 columns):\n",
      " #   Column              Non-Null Count  Dtype \n",
      "---  ------              --------------  ----- \n",
      " 0   Country/Territory   223 non-null    object\n",
      " 1   UN_Region           223 non-null    object\n",
      " 2   IMF_Estimate        223 non-null    int64 \n",
      " 3   IMF_Year            223 non-null    int64 \n",
      " 4   WorldBank_Estimate  223 non-null    int64 \n",
      " 5   WorldBank_Year      223 non-null    int64 \n",
      " 6   UN_Estimate         223 non-null    int64 \n",
      " 7   UN_Year             223 non-null    object\n",
      "dtypes: int64(5), object(3)\n",
      "memory usage: 15.7+ KB\n"
     ]
    }
   ],
   "source": [
    "df.info()"
   ]
  },
  {
   "cell_type": "code",
   "execution_count": 243,
   "id": "0e0319f7-1906-4702-ab37-b660f14503e9",
   "metadata": {},
   "outputs": [
    {
     "name": "stderr",
     "output_type": "stream",
     "text": [
      "C:\\Users\\Alex\\AppData\\Local\\Temp\\ipykernel_780\\2131664113.py:2: FutureWarning: Setting an item of incompatible dtype is deprecated and will raise an error in a future version of pandas. Value '2021' has dtype incompatible with int64, please explicitly cast to a compatible dtype first.\n",
      "  df.loc[df[\"UN_Year\"]==\"[n 10]2021\", \"UN_Year\"] = \"2021\"\n"
     ]
    }
   ],
   "source": [
    "# changing a rogue entry in UN_Year column\n",
    "df.loc[df[\"UN_Year\"]==\"[n 10]2021\", \"UN_Year\"] = \"2021\""
   ]
  },
  {
   "cell_type": "code",
   "execution_count": 245,
   "id": "dd136907-99fc-4fff-a9ef-abb4a9ed823b",
   "metadata": {},
   "outputs": [],
   "source": [
    "# updating the UN_Year column to interger\n",
    "df.UN_Year = df.UN_Year.astype(\"int64\")"
   ]
  },
  {
   "cell_type": "code",
   "execution_count": 241,
   "id": "b7b5ee7e-95a4-4b3d-afd9-94a7627c9920",
   "metadata": {},
   "outputs": [
    {
     "name": "stdout",
     "output_type": "stream",
     "text": [
      "<class 'pandas.core.frame.DataFrame'>\n",
      "Index: 223 entries, 1 to 223\n",
      "Data columns (total 8 columns):\n",
      " #   Column              Non-Null Count  Dtype \n",
      "---  ------              --------------  ----- \n",
      " 0   Country/Territory   223 non-null    object\n",
      " 1   UN_Region           223 non-null    object\n",
      " 2   IMF_Estimate        223 non-null    object\n",
      " 3   IMF_Year            223 non-null    int64 \n",
      " 4   WorldBank_Estimate  223 non-null    int64 \n",
      " 5   WorldBank_Year      223 non-null    int64 \n",
      " 6   UN_Estimate         223 non-null    int64 \n",
      " 7   UN_Year             223 non-null    int64 \n",
      "dtypes: int64(5), object(3)\n",
      "memory usage: 23.8+ KB\n"
     ]
    }
   ],
   "source": [
    "df.info()"
   ]
  },
  {
   "cell_type": "code",
   "execution_count": null,
   "id": "4e68b2e0-1288-46ef-a01b-978bbfef9ade",
   "metadata": {},
   "outputs": [],
   "source": [
    "# check 3 samples"
   ]
  },
  {
   "cell_type": "code",
   "execution_count": 14,
   "id": "e54fe7c7-dd01-49a8-8a6f-ad417c8688c4",
   "metadata": {},
   "outputs": [
    {
     "data": {
      "text/html": [
       "<div>\n",
       "<style scoped>\n",
       "    .dataframe tbody tr th:only-of-type {\n",
       "        vertical-align: middle;\n",
       "    }\n",
       "\n",
       "    .dataframe tbody tr th {\n",
       "        vertical-align: top;\n",
       "    }\n",
       "\n",
       "    .dataframe thead th {\n",
       "        text-align: right;\n",
       "    }\n",
       "</style>\n",
       "<table border=\"1\" class=\"dataframe\">\n",
       "  <thead>\n",
       "    <tr style=\"text-align: right;\">\n",
       "      <th></th>\n",
       "      <th>Country/Territory</th>\n",
       "      <th>UN_Region</th>\n",
       "      <th>IMF_Estimate</th>\n",
       "      <th>IMF_Year</th>\n",
       "      <th>WorldBank_Estimate</th>\n",
       "      <th>WorldBank_Year</th>\n",
       "      <th>UN_Estimate</th>\n",
       "      <th>UN_Year</th>\n",
       "    </tr>\n",
       "  </thead>\n",
       "  <tbody>\n",
       "    <tr>\n",
       "      <th>66</th>\n",
       "      <td>Uruguay</td>\n",
       "      <td>Americas</td>\n",
       "      <td>21677</td>\n",
       "      <td>2023</td>\n",
       "      <td>17313</td>\n",
       "      <td>2021</td>\n",
       "      <td>17313</td>\n",
       "      <td>2021</td>\n",
       "    </tr>\n",
       "    <tr>\n",
       "      <th>6</th>\n",
       "      <td>Norway</td>\n",
       "      <td>Europe</td>\n",
       "      <td>101103</td>\n",
       "      <td>2023</td>\n",
       "      <td>89154</td>\n",
       "      <td>2021</td>\n",
       "      <td>89242</td>\n",
       "      <td>2021</td>\n",
       "    </tr>\n",
       "    <tr>\n",
       "      <th>111</th>\n",
       "      <td>Dominica</td>\n",
       "      <td>Americas</td>\n",
       "      <td>9144</td>\n",
       "      <td>2023</td>\n",
       "      <td>7653</td>\n",
       "      <td>2021</td>\n",
       "      <td>7571</td>\n",
       "      <td>2021</td>\n",
       "    </tr>\n",
       "  </tbody>\n",
       "</table>\n",
       "</div>"
      ],
      "text/plain": [
       "    Country/Territory UN_Region  IMF_Estimate  IMF_Year  WorldBank_Estimate  \\\n",
       "66            Uruguay  Americas         21677      2023               17313   \n",
       "6              Norway    Europe        101103      2023               89154   \n",
       "111          Dominica  Americas          9144      2023                7653   \n",
       "\n",
       "     WorldBank_Year  UN_Estimate UN_Year  \n",
       "66             2021        17313    2021  \n",
       "6              2021        89242    2021  \n",
       "111            2021         7571    2021  "
      ]
     },
     "execution_count": 14,
     "metadata": {},
     "output_type": "execute_result"
    }
   ],
   "source": [
    "df.sample(3)"
   ]
  },
  {
   "cell_type": "code",
   "execution_count": null,
   "id": "a96b56d7-aee0-4ee4-914d-ae95e9ebb42e",
   "metadata": {},
   "outputs": [],
   "source": [
    "# shape of the data"
   ]
  },
  {
   "cell_type": "code",
   "execution_count": 18,
   "id": "d4ff9f51-b4e1-486b-9ba4-c1b6e8baa262",
   "metadata": {},
   "outputs": [
    {
     "data": {
      "text/plain": [
       "(223, 8)"
      ]
     },
     "execution_count": 18,
     "metadata": {},
     "output_type": "execute_result"
    }
   ],
   "source": [
    "df.shape"
   ]
  },
  {
   "cell_type": "code",
   "execution_count": null,
   "id": "c6a2fe8d-c396-43ef-847b-0d21f68e8b84",
   "metadata": {},
   "outputs": [],
   "source": [
    "# describing the data"
   ]
  },
  {
   "cell_type": "code",
   "execution_count": 36,
   "id": "87f01b70-f82f-487c-adee-e6b8b66ff06b",
   "metadata": {},
   "outputs": [
    {
     "data": {
      "text/plain": [
       "Country/Territory     object\n",
       "UN_Region             object\n",
       "IMF_Estimate           int64\n",
       "IMF_Year               int64\n",
       "WorldBank_Estimate     int64\n",
       "WorldBank_Year         int64\n",
       "UN_Estimate            int64\n",
       "UN_Year               object\n",
       "dtype: object"
      ]
     },
     "execution_count": 36,
     "metadata": {},
     "output_type": "execute_result"
    }
   ],
   "source": [
    "df.dtypes"
   ]
  },
  {
   "cell_type": "code",
   "execution_count": 249,
   "id": "0a0af7ef-3bca-4ec3-86c0-c8af11175a36",
   "metadata": {},
   "outputs": [
    {
     "data": {
      "text/html": [
       "<div>\n",
       "<style scoped>\n",
       "    .dataframe tbody tr th:only-of-type {\n",
       "        vertical-align: middle;\n",
       "    }\n",
       "\n",
       "    .dataframe tbody tr th {\n",
       "        vertical-align: top;\n",
       "    }\n",
       "\n",
       "    .dataframe thead th {\n",
       "        text-align: right;\n",
       "    }\n",
       "</style>\n",
       "<table border=\"1\" class=\"dataframe\">\n",
       "  <thead>\n",
       "    <tr style=\"text-align: right;\">\n",
       "      <th></th>\n",
       "      <th>IMF_Year</th>\n",
       "      <th>WorldBank_Estimate</th>\n",
       "      <th>WorldBank_Year</th>\n",
       "      <th>UN_Estimate</th>\n",
       "      <th>UN_Year</th>\n",
       "    </tr>\n",
       "  </thead>\n",
       "  <tbody>\n",
       "    <tr>\n",
       "      <th>count</th>\n",
       "      <td>223.000000</td>\n",
       "      <td>223.000000</td>\n",
       "      <td>223.000000</td>\n",
       "      <td>223.000000</td>\n",
       "      <td>223.000000</td>\n",
       "    </tr>\n",
       "    <tr>\n",
       "      <th>mean</th>\n",
       "      <td>1787.098655</td>\n",
       "      <td>18927.417040</td>\n",
       "      <td>1957.278027</td>\n",
       "      <td>17767.304933</td>\n",
       "      <td>1939.434978</td>\n",
       "    </tr>\n",
       "    <tr>\n",
       "      <th>std</th>\n",
       "      <td>650.695912</td>\n",
       "      <td>29103.564915</td>\n",
       "      <td>353.145867</td>\n",
       "      <td>28698.104167</td>\n",
       "      <td>398.625921</td>\n",
       "    </tr>\n",
       "    <tr>\n",
       "      <th>min</th>\n",
       "      <td>0.000000</td>\n",
       "      <td>0.000000</td>\n",
       "      <td>0.000000</td>\n",
       "      <td>0.000000</td>\n",
       "      <td>0.000000</td>\n",
       "    </tr>\n",
       "    <tr>\n",
       "      <th>25%</th>\n",
       "      <td>2023.000000</td>\n",
       "      <td>2273.500000</td>\n",
       "      <td>2021.000000</td>\n",
       "      <td>2039.000000</td>\n",
       "      <td>2021.000000</td>\n",
       "    </tr>\n",
       "    <tr>\n",
       "      <th>50%</th>\n",
       "      <td>2023.000000</td>\n",
       "      <td>6805.000000</td>\n",
       "      <td>2021.000000</td>\n",
       "      <td>6396.000000</td>\n",
       "      <td>2021.000000</td>\n",
       "    </tr>\n",
       "    <tr>\n",
       "      <th>75%</th>\n",
       "      <td>2023.000000</td>\n",
       "      <td>23715.000000</td>\n",
       "      <td>2021.000000</td>\n",
       "      <td>20740.000000</td>\n",
       "      <td>2021.000000</td>\n",
       "    </tr>\n",
       "    <tr>\n",
       "      <th>max</th>\n",
       "      <td>2023.000000</td>\n",
       "      <td>234316.000000</td>\n",
       "      <td>2021.000000</td>\n",
       "      <td>234317.000000</td>\n",
       "      <td>2021.000000</td>\n",
       "    </tr>\n",
       "  </tbody>\n",
       "</table>\n",
       "</div>"
      ],
      "text/plain": [
       "          IMF_Year  WorldBank_Estimate  WorldBank_Year    UN_Estimate  \\\n",
       "count   223.000000          223.000000      223.000000     223.000000   \n",
       "mean   1787.098655        18927.417040     1957.278027   17767.304933   \n",
       "std     650.695912        29103.564915      353.145867   28698.104167   \n",
       "min       0.000000            0.000000        0.000000       0.000000   \n",
       "25%    2023.000000         2273.500000     2021.000000    2039.000000   \n",
       "50%    2023.000000         6805.000000     2021.000000    6396.000000   \n",
       "75%    2023.000000        23715.000000     2021.000000   20740.000000   \n",
       "max    2023.000000       234316.000000     2021.000000  234317.000000   \n",
       "\n",
       "           UN_Year  \n",
       "count   223.000000  \n",
       "mean   1939.434978  \n",
       "std     398.625921  \n",
       "min       0.000000  \n",
       "25%    2021.000000  \n",
       "50%    2021.000000  \n",
       "75%    2021.000000  \n",
       "max    2021.000000  "
      ]
     },
     "execution_count": 249,
     "metadata": {},
     "output_type": "execute_result"
    }
   ],
   "source": [
    "df.describe()"
   ]
  },
  {
   "cell_type": "code",
   "execution_count": null,
   "id": "f31c7f89-9c6a-40fc-9941-b5ea9ab52196",
   "metadata": {},
   "outputs": [],
   "source": [
    "# columns names"
   ]
  },
  {
   "cell_type": "code",
   "execution_count": 33,
   "id": "3e9c11be-46cb-4903-8d99-7d8f43f45f9d",
   "metadata": {},
   "outputs": [
    {
     "data": {
      "text/plain": [
       "Index(['Country/Territory', 'UN_Region', 'IMF_Estimate', 'IMF_Year',\n",
       "       'WorldBank_Estimate', 'WorldBank_Year', 'UN_Estimate', 'UN_Year'],\n",
       "      dtype='object')"
      ]
     },
     "execution_count": 33,
     "metadata": {},
     "output_type": "execute_result"
    }
   ],
   "source": [
    "df.columns"
   ]
  },
  {
   "cell_type": "code",
   "execution_count": null,
   "id": "483250d8-486e-4046-9ebe-e73940f0f1f3",
   "metadata": {},
   "outputs": [],
   "source": [
    "# number of countries per region"
   ]
  },
  {
   "cell_type": "code",
   "execution_count": 43,
   "id": "5d6acaba-eb81-4bd5-a465-5b0f7958222e",
   "metadata": {},
   "outputs": [
    {
     "data": {
      "text/plain": [
       "UN_Region\n",
       "Africa      55\n",
       "Asia        51\n",
       "Europe      48\n",
       "Americas    48\n",
       "Oceania     20\n",
       "World        1\n",
       "Name: count, dtype: int64"
      ]
     },
     "execution_count": 43,
     "metadata": {},
     "output_type": "execute_result"
    }
   ],
   "source": [
    "df[\"UN_Region\"].value_counts()"
   ]
  },
  {
   "cell_type": "code",
   "execution_count": null,
   "id": "77d9e7de-6cd3-4e17-bae0-de4cfc1bec78",
   "metadata": {},
   "outputs": [],
   "source": [
    "# World as Country/Territory?"
   ]
  },
  {
   "cell_type": "code",
   "execution_count": 50,
   "id": "9b4fa562-10a4-490e-9154-b2557c93c5d9",
   "metadata": {},
   "outputs": [
    {
     "data": {
      "text/html": [
       "<div>\n",
       "<style scoped>\n",
       "    .dataframe tbody tr th:only-of-type {\n",
       "        vertical-align: middle;\n",
       "    }\n",
       "\n",
       "    .dataframe tbody tr th {\n",
       "        vertical-align: top;\n",
       "    }\n",
       "\n",
       "    .dataframe thead th {\n",
       "        text-align: right;\n",
       "    }\n",
       "</style>\n",
       "<table border=\"1\" class=\"dataframe\">\n",
       "  <thead>\n",
       "    <tr style=\"text-align: right;\">\n",
       "      <th></th>\n",
       "      <th>Country/Territory</th>\n",
       "      <th>UN_Region</th>\n",
       "      <th>IMF_Estimate</th>\n",
       "      <th>IMF_Year</th>\n",
       "      <th>WorldBank_Estimate</th>\n",
       "      <th>WorldBank_Year</th>\n",
       "      <th>UN_Estimate</th>\n",
       "      <th>UN_Year</th>\n",
       "    </tr>\n",
       "  </thead>\n",
       "  <tbody>\n",
       "    <tr>\n",
       "      <th>93</th>\n",
       "      <td>World</td>\n",
       "      <td>World</td>\n",
       "      <td>13440</td>\n",
       "      <td>2023</td>\n",
       "      <td>12235</td>\n",
       "      <td>2021</td>\n",
       "      <td>12230</td>\n",
       "      <td>2021</td>\n",
       "    </tr>\n",
       "  </tbody>\n",
       "</table>\n",
       "</div>"
      ],
      "text/plain": [
       "   Country/Territory UN_Region  IMF_Estimate  IMF_Year  WorldBank_Estimate  \\\n",
       "93             World     World         13440      2023               12235   \n",
       "\n",
       "    WorldBank_Year  UN_Estimate UN_Year  \n",
       "93            2021        12230    2021  "
      ]
     },
     "execution_count": 50,
     "metadata": {},
     "output_type": "execute_result"
    }
   ],
   "source": [
    "df.loc[df[\"Country/Territory\"] == \"World\"]"
   ]
  },
  {
   "cell_type": "code",
   "execution_count": null,
   "id": "b7bc9a55-6295-4d8d-8fb1-372a6a201a17",
   "metadata": {},
   "outputs": [],
   "source": [
    "#What is European Union[n 1]?"
   ]
  },
  {
   "cell_type": "code",
   "execution_count": 54,
   "id": "2a260770-c658-4844-9783-120a9ae3a039",
   "metadata": {},
   "outputs": [
    {
     "data": {
      "text/html": [
       "<div>\n",
       "<style scoped>\n",
       "    .dataframe tbody tr th:only-of-type {\n",
       "        vertical-align: middle;\n",
       "    }\n",
       "\n",
       "    .dataframe tbody tr th {\n",
       "        vertical-align: top;\n",
       "    }\n",
       "\n",
       "    .dataframe thead th {\n",
       "        text-align: right;\n",
       "    }\n",
       "</style>\n",
       "<table border=\"1\" class=\"dataframe\">\n",
       "  <thead>\n",
       "    <tr style=\"text-align: right;\">\n",
       "      <th></th>\n",
       "      <th>Country/Territory</th>\n",
       "      <th>UN_Region</th>\n",
       "      <th>IMF_Estimate</th>\n",
       "      <th>IMF_Year</th>\n",
       "      <th>WorldBank_Estimate</th>\n",
       "      <th>WorldBank_Year</th>\n",
       "      <th>UN_Estimate</th>\n",
       "      <th>UN_Year</th>\n",
       "    </tr>\n",
       "  </thead>\n",
       "  <tbody>\n",
       "    <tr>\n",
       "      <th>36</th>\n",
       "      <td>European Union[n 1]</td>\n",
       "      <td>Europe</td>\n",
       "      <td>39940</td>\n",
       "      <td>2023</td>\n",
       "      <td>38411</td>\n",
       "      <td>2021</td>\n",
       "      <td>31875</td>\n",
       "      <td>2021</td>\n",
       "    </tr>\n",
       "  </tbody>\n",
       "</table>\n",
       "</div>"
      ],
      "text/plain": [
       "      Country/Territory UN_Region  IMF_Estimate  IMF_Year  WorldBank_Estimate  \\\n",
       "36  European Union[n 1]    Europe         39940      2023               38411   \n",
       "\n",
       "    WorldBank_Year  UN_Estimate UN_Year  \n",
       "36            2021        31875    2021  "
      ]
     },
     "execution_count": 54,
     "metadata": {},
     "output_type": "execute_result"
    }
   ],
   "source": [
    "df.loc[df[\"Country/Territory\"] == \"European Union[n 1]\"]"
   ]
  },
  {
   "cell_type": "code",
   "execution_count": null,
   "id": "e36a6506-e322-4065-a437-a7013d7459fb",
   "metadata": {},
   "outputs": [],
   "source": [
    "# check for missing values"
   ]
  },
  {
   "cell_type": "code",
   "execution_count": 57,
   "id": "c02ead7c-7f52-40e6-8aaf-f8dfca2f0c65",
   "metadata": {
    "scrolled": true
   },
   "outputs": [
    {
     "data": {
      "text/plain": [
       "Country/Territory     0\n",
       "UN_Region             0\n",
       "IMF_Estimate          0\n",
       "IMF_Year              0\n",
       "WorldBank_Estimate    0\n",
       "WorldBank_Year        0\n",
       "UN_Estimate           0\n",
       "UN_Year               0\n",
       "dtype: int64"
      ]
     },
     "execution_count": 57,
     "metadata": {},
     "output_type": "execute_result"
    }
   ],
   "source": [
    "df.isnull().sum()"
   ]
  },
  {
   "cell_type": "code",
   "execution_count": null,
   "id": "b8f6f646-6aa8-4fda-863c-db4cfd87f903",
   "metadata": {},
   "outputs": [],
   "source": [
    "# Average GDP by IMF Estimate?"
   ]
  },
  {
   "cell_type": "code",
   "execution_count": 62,
   "id": "0f521222-bf94-44c7-add3-cbf5cf53b285",
   "metadata": {},
   "outputs": [
    {
     "data": {
      "text/plain": [
       "15351.632286995517"
      ]
     },
     "execution_count": 62,
     "metadata": {},
     "output_type": "execute_result"
    }
   ],
   "source": [
    "df[\"IMF_Estimate\"].mean()"
   ]
  },
  {
   "cell_type": "code",
   "execution_count": null,
   "id": "e7c533e8-90cb-4430-a386-7862786a3b52",
   "metadata": {},
   "outputs": [],
   "source": [
    "# Average GDP by UN Estimate?"
   ]
  },
  {
   "cell_type": "code",
   "execution_count": 64,
   "id": "2ca049cf-d28f-429e-b222-c33ed88e2254",
   "metadata": {},
   "outputs": [
    {
     "data": {
      "text/plain": [
       "17767.304932735427"
      ]
     },
     "execution_count": 64,
     "metadata": {},
     "output_type": "execute_result"
    }
   ],
   "source": [
    "df[\"UN_Estimate\"].mean()"
   ]
  },
  {
   "cell_type": "code",
   "execution_count": null,
   "id": "5c9e0395-fd5a-4765-8c4e-d91d4358bcc5",
   "metadata": {},
   "outputs": [],
   "source": [
    "# Average GDP by World Bank Estimate?"
   ]
  },
  {
   "cell_type": "code",
   "execution_count": 66,
   "id": "0236af4e-ef60-4a90-8773-242947be5919",
   "metadata": {},
   "outputs": [
    {
     "data": {
      "text/plain": [
       "18927.417040358745"
      ]
     },
     "execution_count": 66,
     "metadata": {},
     "output_type": "execute_result"
    }
   ],
   "source": [
    "df[\"WorldBank_Estimate\"].mean()"
   ]
  },
  {
   "cell_type": "code",
   "execution_count": null,
   "id": "fa442ece-2af8-4aec-abfa-882cb27d5ea6",
   "metadata": {},
   "outputs": [],
   "source": [
    "# Average GDP by IMF Estimate for European Countries?"
   ]
  },
  {
   "cell_type": "code",
   "execution_count": 71,
   "id": "036b587f-7089-42ad-a4a6-33b0a7b907a3",
   "metadata": {},
   "outputs": [
    {
     "data": {
      "text/plain": [
       "34446.75"
      ]
     },
     "execution_count": 71,
     "metadata": {},
     "output_type": "execute_result"
    }
   ],
   "source": [
    "df[df[\"UN_Region\"] == \"Europe\"][\"IMF_Estimate\"].mean()"
   ]
  },
  {
   "cell_type": "code",
   "execution_count": null,
   "id": "b5f34893-c2a3-47de-94ac-53f35fd149df",
   "metadata": {},
   "outputs": [],
   "source": [
    "# GPD for the UK"
   ]
  },
  {
   "cell_type": "code",
   "execution_count": 79,
   "id": "9393627b-285f-4092-bb60-14e51ebcba85",
   "metadata": {},
   "outputs": [
    {
     "data": {
      "text/plain": [
       "IMF_Estimate          46371.0\n",
       "UN_Estimate           46542.0\n",
       "WorldBank_Estimate    46510.0\n",
       "dtype: float64"
      ]
     },
     "execution_count": 79,
     "metadata": {},
     "output_type": "execute_result"
    }
   ],
   "source": [
    "df[df[\"Country/Territory\"] == \"United Kingdom\"][[\"IMF_Estimate\",\"UN_Estimate\",\"WorldBank_Estimate\"]].mean()"
   ]
  },
  {
   "cell_type": "code",
   "execution_count": null,
   "id": "ca4a2e48-503d-4401-8d9f-6d5afb9373b5",
   "metadata": {},
   "outputs": [],
   "source": [
    "# Countries in Europe below average"
   ]
  },
  {
   "cell_type": "code",
   "execution_count": 87,
   "id": "00e18543-e035-4e92-9b34-532a95f0e4bd",
   "metadata": {
    "scrolled": true
   },
   "outputs": [
    {
     "data": {
      "text/html": [
       "<div>\n",
       "<style scoped>\n",
       "    .dataframe tbody tr th:only-of-type {\n",
       "        vertical-align: middle;\n",
       "    }\n",
       "\n",
       "    .dataframe tbody tr th {\n",
       "        vertical-align: top;\n",
       "    }\n",
       "\n",
       "    .dataframe thead th {\n",
       "        text-align: right;\n",
       "    }\n",
       "</style>\n",
       "<table border=\"1\" class=\"dataframe\">\n",
       "  <thead>\n",
       "    <tr style=\"text-align: right;\">\n",
       "      <th></th>\n",
       "      <th>Country/Territory</th>\n",
       "      <th>UN_Region</th>\n",
       "      <th>IMF_Estimate</th>\n",
       "      <th>IMF_Year</th>\n",
       "      <th>WorldBank_Estimate</th>\n",
       "      <th>WorldBank_Year</th>\n",
       "      <th>UN_Estimate</th>\n",
       "      <th>UN_Year</th>\n",
       "    </tr>\n",
       "  </thead>\n",
       "  <tbody>\n",
       "    <tr>\n",
       "      <th>70</th>\n",
       "      <td>Croatia</td>\n",
       "      <td>Europe</td>\n",
       "      <td>20537</td>\n",
       "      <td>2023</td>\n",
       "      <td>17685</td>\n",
       "      <td>2021</td>\n",
       "      <td>16983</td>\n",
       "      <td>2021</td>\n",
       "    </tr>\n",
       "    <tr>\n",
       "      <th>72</th>\n",
       "      <td>Poland</td>\n",
       "      <td>Europe</td>\n",
       "      <td>19912</td>\n",
       "      <td>2023</td>\n",
       "      <td>18000</td>\n",
       "      <td>2021</td>\n",
       "      <td>17736</td>\n",
       "      <td>2021</td>\n",
       "    </tr>\n",
       "    <tr>\n",
       "      <th>75</th>\n",
       "      <td>Hungary</td>\n",
       "      <td>Europe</td>\n",
       "      <td>19385</td>\n",
       "      <td>2023</td>\n",
       "      <td>18728</td>\n",
       "      <td>2021</td>\n",
       "      <td>18728</td>\n",
       "      <td>2021</td>\n",
       "    </tr>\n",
       "    <tr>\n",
       "      <th>78</th>\n",
       "      <td>Romania</td>\n",
       "      <td>Europe</td>\n",
       "      <td>18530</td>\n",
       "      <td>2023</td>\n",
       "      <td>14858</td>\n",
       "      <td>2021</td>\n",
       "      <td>14698</td>\n",
       "      <td>2021</td>\n",
       "    </tr>\n",
       "    <tr>\n",
       "      <th>87</th>\n",
       "      <td>Bulgaria</td>\n",
       "      <td>Europe</td>\n",
       "      <td>14893</td>\n",
       "      <td>2023</td>\n",
       "      <td>12222</td>\n",
       "      <td>2021</td>\n",
       "      <td>12207</td>\n",
       "      <td>2021</td>\n",
       "    </tr>\n",
       "    <tr>\n",
       "      <th>90</th>\n",
       "      <td>Russia</td>\n",
       "      <td>Europe</td>\n",
       "      <td>14403</td>\n",
       "      <td>2023</td>\n",
       "      <td>12195</td>\n",
       "      <td>2021</td>\n",
       "      <td>12259</td>\n",
       "      <td>2021</td>\n",
       "    </tr>\n",
       "    <tr>\n",
       "      <th>103</th>\n",
       "      <td>Montenegro</td>\n",
       "      <td>Europe</td>\n",
       "      <td>11289</td>\n",
       "      <td>2023</td>\n",
       "      <td>9466</td>\n",
       "      <td>2021</td>\n",
       "      <td>9252</td>\n",
       "      <td>2021</td>\n",
       "    </tr>\n",
       "    <tr>\n",
       "      <th>106</th>\n",
       "      <td>Serbia</td>\n",
       "      <td>Europe</td>\n",
       "      <td>10849</td>\n",
       "      <td>2023</td>\n",
       "      <td>9230</td>\n",
       "      <td>2021</td>\n",
       "      <td>8643</td>\n",
       "      <td>2021</td>\n",
       "    </tr>\n",
       "    <tr>\n",
       "      <th>112</th>\n",
       "      <td>Bosnia and Herzegovina</td>\n",
       "      <td>Europe</td>\n",
       "      <td>8223</td>\n",
       "      <td>2023</td>\n",
       "      <td>7143</td>\n",
       "      <td>2021</td>\n",
       "      <td>7143</td>\n",
       "      <td>2021</td>\n",
       "    </tr>\n",
       "    <tr>\n",
       "      <th>115</th>\n",
       "      <td>Belarus</td>\n",
       "      <td>Europe</td>\n",
       "      <td>7944</td>\n",
       "      <td>2023</td>\n",
       "      <td>7302</td>\n",
       "      <td>2021</td>\n",
       "      <td>7121</td>\n",
       "      <td>2021</td>\n",
       "    </tr>\n",
       "    <tr>\n",
       "      <th>118</th>\n",
       "      <td>North Macedonia</td>\n",
       "      <td>Europe</td>\n",
       "      <td>7384</td>\n",
       "      <td>2023</td>\n",
       "      <td>6695</td>\n",
       "      <td>2021</td>\n",
       "      <td>6600</td>\n",
       "      <td>2021</td>\n",
       "    </tr>\n",
       "    <tr>\n",
       "      <th>120</th>\n",
       "      <td>Albania</td>\n",
       "      <td>Europe</td>\n",
       "      <td>7058</td>\n",
       "      <td>2023</td>\n",
       "      <td>6493</td>\n",
       "      <td>2021</td>\n",
       "      <td>6396</td>\n",
       "      <td>2021</td>\n",
       "    </tr>\n",
       "    <tr>\n",
       "      <th>127</th>\n",
       "      <td>Moldova</td>\n",
       "      <td>Europe</td>\n",
       "      <td>6342</td>\n",
       "      <td>2023</td>\n",
       "      <td>5231</td>\n",
       "      <td>2021</td>\n",
       "      <td>4468</td>\n",
       "      <td>2021</td>\n",
       "    </tr>\n",
       "    <tr>\n",
       "      <th>133</th>\n",
       "      <td>Kosovo</td>\n",
       "      <td>Europe</td>\n",
       "      <td>5641</td>\n",
       "      <td>2023</td>\n",
       "      <td>5270</td>\n",
       "      <td>2021</td>\n",
       "      <td>5663</td>\n",
       "      <td>2021</td>\n",
       "    </tr>\n",
       "    <tr>\n",
       "      <th>143</th>\n",
       "      <td>Ukraine</td>\n",
       "      <td>Europe</td>\n",
       "      <td>4654</td>\n",
       "      <td>2023</td>\n",
       "      <td>4836</td>\n",
       "      <td>2021</td>\n",
       "      <td>4596</td>\n",
       "      <td>2021</td>\n",
       "    </tr>\n",
       "  </tbody>\n",
       "</table>\n",
       "</div>"
      ],
      "text/plain": [
       "          Country/Territory UN_Region  IMF_Estimate  IMF_Year  \\\n",
       "70                  Croatia    Europe         20537      2023   \n",
       "72                   Poland    Europe         19912      2023   \n",
       "75                  Hungary    Europe         19385      2023   \n",
       "78                  Romania    Europe         18530      2023   \n",
       "87                 Bulgaria    Europe         14893      2023   \n",
       "90                   Russia    Europe         14403      2023   \n",
       "103              Montenegro    Europe         11289      2023   \n",
       "106                  Serbia    Europe         10849      2023   \n",
       "112  Bosnia and Herzegovina    Europe          8223      2023   \n",
       "115                 Belarus    Europe          7944      2023   \n",
       "118         North Macedonia    Europe          7384      2023   \n",
       "120                 Albania    Europe          7058      2023   \n",
       "127                 Moldova    Europe          6342      2023   \n",
       "133                  Kosovo    Europe          5641      2023   \n",
       "143                 Ukraine    Europe          4654      2023   \n",
       "\n",
       "     WorldBank_Estimate  WorldBank_Year  UN_Estimate UN_Year  \n",
       "70                17685            2021        16983    2021  \n",
       "72                18000            2021        17736    2021  \n",
       "75                18728            2021        18728    2021  \n",
       "78                14858            2021        14698    2021  \n",
       "87                12222            2021        12207    2021  \n",
       "90                12195            2021        12259    2021  \n",
       "103                9466            2021         9252    2021  \n",
       "106                9230            2021         8643    2021  \n",
       "112                7143            2021         7143    2021  \n",
       "115                7302            2021         7121    2021  \n",
       "118                6695            2021         6600    2021  \n",
       "120                6493            2021         6396    2021  \n",
       "127                5231            2021         4468    2021  \n",
       "133                5270            2021         5663    2021  \n",
       "143                4836            2021         4596    2021  "
      ]
     },
     "execution_count": 87,
     "metadata": {},
     "output_type": "execute_result"
    }
   ],
   "source": [
    "df.loc[(df[\"UN_Region\"] == \"Europe\") & (df[\"WorldBank_Estimate\"] < df[\"WorldBank_Estimate\"].mean())]"
   ]
  },
  {
   "cell_type": "code",
   "execution_count": null,
   "id": "b1a8923e-81b1-4fa4-93da-860feccf298b",
   "metadata": {},
   "outputs": [],
   "source": [
    "# Value count for year columns"
   ]
  },
  {
   "cell_type": "code",
   "execution_count": 99,
   "id": "00ca23d2-b33c-460f-8124-e93dfc97d10c",
   "metadata": {},
   "outputs": [
    {
     "data": {
      "text/plain": [
       "IMF_Year\n",
       "2023    193\n",
       "0        26\n",
       "2020      2\n",
       "2022      2\n",
       "Name: count, dtype: int64"
      ]
     },
     "execution_count": 99,
     "metadata": {},
     "output_type": "execute_result"
    }
   ],
   "source": [
    "df[\"IMF_Year\"].value_counts()"
   ]
  },
  {
   "cell_type": "code",
   "execution_count": 101,
   "id": "06f34e66-6b38-445b-aa17-b27ebdceab94",
   "metadata": {},
   "outputs": [
    {
     "data": {
      "text/plain": [
       "WorldBank_Year\n",
       "2021    199\n",
       "2020      7\n",
       "0         7\n",
       "2019      3\n",
       "2018      2\n",
       "2014      2\n",
       "2007      1\n",
       "2011      1\n",
       "2015      1\n",
       "Name: count, dtype: int64"
      ]
     },
     "execution_count": 101,
     "metadata": {},
     "output_type": "execute_result"
    }
   ],
   "source": [
    "df[\"WorldBank_Year\"].value_counts()"
   ]
  },
  {
   "cell_type": "code",
   "execution_count": 103,
   "id": "21e69262-7f2e-481a-bd80-d79401d6b6ef",
   "metadata": {},
   "outputs": [
    {
     "data": {
      "text/plain": [
       "UN_Year\n",
       "2021          213\n",
       "0               9\n",
       "[n 10]2021      1\n",
       "Name: count, dtype: int64"
      ]
     },
     "execution_count": 103,
     "metadata": {},
     "output_type": "execute_result"
    }
   ],
   "source": [
    "df[\"UN_Year\"].value_counts()"
   ]
  },
  {
   "cell_type": "code",
   "execution_count": null,
   "id": "4cd0a1c1-8500-4d05-8560-7fa61309dfa7",
   "metadata": {},
   "outputs": [],
   "source": [
    "## Which countries in Europe has higher GDP than UK?"
   ]
  },
  {
   "cell_type": "code",
   "execution_count": 125,
   "id": "f176afd4-7527-41b0-81cf-00acc41c0869",
   "metadata": {},
   "outputs": [
    {
     "data": {
      "text/html": [
       "<div>\n",
       "<style scoped>\n",
       "    .dataframe tbody tr th:only-of-type {\n",
       "        vertical-align: middle;\n",
       "    }\n",
       "\n",
       "    .dataframe tbody tr th {\n",
       "        vertical-align: top;\n",
       "    }\n",
       "\n",
       "    .dataframe thead th {\n",
       "        text-align: right;\n",
       "    }\n",
       "</style>\n",
       "<table border=\"1\" class=\"dataframe\">\n",
       "  <thead>\n",
       "    <tr style=\"text-align: right;\">\n",
       "      <th></th>\n",
       "      <th>Country/Territory</th>\n",
       "      <th>UN_Region</th>\n",
       "      <th>IMF_Estimate</th>\n",
       "      <th>IMF_Year</th>\n",
       "      <th>WorldBank_Estimate</th>\n",
       "      <th>WorldBank_Year</th>\n",
       "      <th>UN_Estimate</th>\n",
       "      <th>UN_Year</th>\n",
       "    </tr>\n",
       "  </thead>\n",
       "  <tbody>\n",
       "    <tr>\n",
       "      <th>1</th>\n",
       "      <td>Monaco</td>\n",
       "      <td>Europe</td>\n",
       "      <td>0</td>\n",
       "      <td>0</td>\n",
       "      <td>234316</td>\n",
       "      <td>2021</td>\n",
       "      <td>234317</td>\n",
       "      <td>2021</td>\n",
       "    </tr>\n",
       "    <tr>\n",
       "      <th>2</th>\n",
       "      <td>Liechtenstein</td>\n",
       "      <td>Europe</td>\n",
       "      <td>0</td>\n",
       "      <td>0</td>\n",
       "      <td>157755</td>\n",
       "      <td>2020</td>\n",
       "      <td>169260</td>\n",
       "      <td>2021</td>\n",
       "    </tr>\n",
       "    <tr>\n",
       "      <th>3</th>\n",
       "      <td>Luxembourg</td>\n",
       "      <td>Europe</td>\n",
       "      <td>132372</td>\n",
       "      <td>2023</td>\n",
       "      <td>133590</td>\n",
       "      <td>2021</td>\n",
       "      <td>133745</td>\n",
       "      <td>2021</td>\n",
       "    </tr>\n",
       "    <tr>\n",
       "      <th>4</th>\n",
       "      <td>Ireland</td>\n",
       "      <td>Europe</td>\n",
       "      <td>114581</td>\n",
       "      <td>2023</td>\n",
       "      <td>100172</td>\n",
       "      <td>2021</td>\n",
       "      <td>101109</td>\n",
       "      <td>2021</td>\n",
       "    </tr>\n",
       "    <tr>\n",
       "      <th>6</th>\n",
       "      <td>Norway</td>\n",
       "      <td>Europe</td>\n",
       "      <td>101103</td>\n",
       "      <td>2023</td>\n",
       "      <td>89154</td>\n",
       "      <td>2021</td>\n",
       "      <td>89242</td>\n",
       "      <td>2021</td>\n",
       "    </tr>\n",
       "    <tr>\n",
       "      <th>7</th>\n",
       "      <td>Switzerland</td>\n",
       "      <td>Europe</td>\n",
       "      <td>98767</td>\n",
       "      <td>2023</td>\n",
       "      <td>91992</td>\n",
       "      <td>2021</td>\n",
       "      <td>93525</td>\n",
       "      <td>2021</td>\n",
       "    </tr>\n",
       "    <tr>\n",
       "      <th>9</th>\n",
       "      <td>Isle of Man</td>\n",
       "      <td>Europe</td>\n",
       "      <td>0</td>\n",
       "      <td>0</td>\n",
       "      <td>87158</td>\n",
       "      <td>2019</td>\n",
       "      <td>0</td>\n",
       "      <td>0</td>\n",
       "    </tr>\n",
       "    <tr>\n",
       "      <th>13</th>\n",
       "      <td>Iceland</td>\n",
       "      <td>Europe</td>\n",
       "      <td>75180</td>\n",
       "      <td>2023</td>\n",
       "      <td>68728</td>\n",
       "      <td>2021</td>\n",
       "      <td>69133</td>\n",
       "      <td>2021</td>\n",
       "    </tr>\n",
       "    <tr>\n",
       "      <th>14</th>\n",
       "      <td>Channel Islands</td>\n",
       "      <td>Europe</td>\n",
       "      <td>0</td>\n",
       "      <td>0</td>\n",
       "      <td>75153</td>\n",
       "      <td>2007</td>\n",
       "      <td>0</td>\n",
       "      <td>0</td>\n",
       "    </tr>\n",
       "    <tr>\n",
       "      <th>15</th>\n",
       "      <td>Faroe Islands</td>\n",
       "      <td>Europe</td>\n",
       "      <td>0</td>\n",
       "      <td>0</td>\n",
       "      <td>69010</td>\n",
       "      <td>2021</td>\n",
       "      <td>0</td>\n",
       "      <td>0</td>\n",
       "    </tr>\n",
       "    <tr>\n",
       "      <th>16</th>\n",
       "      <td>Denmark</td>\n",
       "      <td>Europe</td>\n",
       "      <td>68827</td>\n",
       "      <td>2023</td>\n",
       "      <td>68008</td>\n",
       "      <td>2021</td>\n",
       "      <td>68037</td>\n",
       "      <td>2021</td>\n",
       "    </tr>\n",
       "    <tr>\n",
       "      <th>18</th>\n",
       "      <td>Netherlands</td>\n",
       "      <td>Europe</td>\n",
       "      <td>61098</td>\n",
       "      <td>2023</td>\n",
       "      <td>57768</td>\n",
       "      <td>2021</td>\n",
       "      <td>57871</td>\n",
       "      <td>2021</td>\n",
       "    </tr>\n",
       "    <tr>\n",
       "      <th>20</th>\n",
       "      <td>Austria</td>\n",
       "      <td>Europe</td>\n",
       "      <td>56802</td>\n",
       "      <td>2023</td>\n",
       "      <td>53638</td>\n",
       "      <td>2021</td>\n",
       "      <td>53840</td>\n",
       "      <td>2021</td>\n",
       "    </tr>\n",
       "    <tr>\n",
       "      <th>22</th>\n",
       "      <td>Sweden</td>\n",
       "      <td>Europe</td>\n",
       "      <td>55395</td>\n",
       "      <td>2023</td>\n",
       "      <td>61029</td>\n",
       "      <td>2021</td>\n",
       "      <td>60730</td>\n",
       "      <td>2021</td>\n",
       "    </tr>\n",
       "    <tr>\n",
       "      <th>23</th>\n",
       "      <td>Finland</td>\n",
       "      <td>Europe</td>\n",
       "      <td>54351</td>\n",
       "      <td>2023</td>\n",
       "      <td>53655</td>\n",
       "      <td>2021</td>\n",
       "      <td>53703</td>\n",
       "      <td>2021</td>\n",
       "    </tr>\n",
       "    <tr>\n",
       "      <th>24</th>\n",
       "      <td>Belgium</td>\n",
       "      <td>Europe</td>\n",
       "      <td>53377</td>\n",
       "      <td>2023</td>\n",
       "      <td>51247</td>\n",
       "      <td>2021</td>\n",
       "      <td>51166</td>\n",
       "      <td>2021</td>\n",
       "    </tr>\n",
       "    <tr>\n",
       "      <th>28</th>\n",
       "      <td>Germany</td>\n",
       "      <td>Europe</td>\n",
       "      <td>51383</td>\n",
       "      <td>2023</td>\n",
       "      <td>51204</td>\n",
       "      <td>2021</td>\n",
       "      <td>51073</td>\n",
       "      <td>2021</td>\n",
       "    </tr>\n",
       "  </tbody>\n",
       "</table>\n",
       "</div>"
      ],
      "text/plain": [
       "   Country/Territory UN_Region  IMF_Estimate  IMF_Year  WorldBank_Estimate  \\\n",
       "1             Monaco    Europe             0         0              234316   \n",
       "2      Liechtenstein    Europe             0         0              157755   \n",
       "3         Luxembourg    Europe        132372      2023              133590   \n",
       "4            Ireland    Europe        114581      2023              100172   \n",
       "6             Norway    Europe        101103      2023               89154   \n",
       "7        Switzerland    Europe         98767      2023               91992   \n",
       "9        Isle of Man    Europe             0         0               87158   \n",
       "13           Iceland    Europe         75180      2023               68728   \n",
       "14   Channel Islands    Europe             0         0               75153   \n",
       "15     Faroe Islands    Europe             0         0               69010   \n",
       "16           Denmark    Europe         68827      2023               68008   \n",
       "18       Netherlands    Europe         61098      2023               57768   \n",
       "20           Austria    Europe         56802      2023               53638   \n",
       "22            Sweden    Europe         55395      2023               61029   \n",
       "23           Finland    Europe         54351      2023               53655   \n",
       "24           Belgium    Europe         53377      2023               51247   \n",
       "28           Germany    Europe         51383      2023               51204   \n",
       "\n",
       "    WorldBank_Year  UN_Estimate UN_Year  \n",
       "1             2021       234317    2021  \n",
       "2             2020       169260    2021  \n",
       "3             2021       133745    2021  \n",
       "4             2021       101109    2021  \n",
       "6             2021        89242    2021  \n",
       "7             2021        93525    2021  \n",
       "9             2019            0       0  \n",
       "13            2021        69133    2021  \n",
       "14            2007            0       0  \n",
       "15            2021            0       0  \n",
       "16            2021        68037    2021  \n",
       "18            2021        57871    2021  \n",
       "20            2021        53840    2021  \n",
       "22            2021        60730    2021  \n",
       "23            2021        53703    2021  \n",
       "24            2021        51166    2021  \n",
       "28            2021        51073    2021  "
      ]
     },
     "execution_count": 125,
     "metadata": {},
     "output_type": "execute_result"
    }
   ],
   "source": [
    "UK_GDP = df.loc[df[\"Country/Territory\"] == \"United Kingdom\", \"WorldBank_Estimate\"].mean()\n",
    "df.loc[(df[\"UN_Region\"] == \"Europe\") & (df[\"WorldBank_Estimate\"] > UK_GDP)]                                                "
   ]
  },
  {
   "cell_type": "code",
   "execution_count": null,
   "id": "89a3f801-a381-4590-b41d-e1cccb633940",
   "metadata": {},
   "outputs": [],
   "source": [
    "# Average GPD for other regions"
   ]
  },
  {
   "cell_type": "code",
   "execution_count": 127,
   "id": "ab46c7d0-39d8-4774-b4a8-f52897eb3c38",
   "metadata": {},
   "outputs": [
    {
     "data": {
      "text/plain": [
       "11722.954285714286"
      ]
     },
     "execution_count": 127,
     "metadata": {},
     "output_type": "execute_result"
    }
   ],
   "source": [
    "df[df[\"UN_Region\"] != \"Europe\"][\"WorldBank_Estimate\"].mean()"
   ]
  },
  {
   "cell_type": "code",
   "execution_count": 145,
   "id": "aa8d9a58-8c2c-4a61-8d3a-38d6a39a5e52",
   "metadata": {},
   "outputs": [
    {
     "data": {
      "text/plain": [
       "13921.313725490196"
      ]
     },
     "execution_count": 145,
     "metadata": {},
     "output_type": "execute_result"
    }
   ],
   "source": [
    "df[df[\"UN_Region\"] == \"Asia\"][\"WorldBank_Estimate\"].mean()"
   ]
  },
  {
   "cell_type": "code",
   "execution_count": 135,
   "id": "12cbc5f3-7143-44d0-8ad4-e60b3b756310",
   "metadata": {},
   "outputs": [
    {
     "data": {
      "text/plain": [
       "2470.836363636364"
      ]
     },
     "execution_count": 135,
     "metadata": {},
     "output_type": "execute_result"
    }
   ],
   "source": [
    "df[df[\"UN_Region\"] == \"Africa\"][\"WorldBank_Estimate\"].mean()"
   ]
  },
  {
   "cell_type": "code",
   "execution_count": 147,
   "id": "93a8e24a-c4b2-4966-ab36-05d2721c4270",
   "metadata": {},
   "outputs": [
    {
     "data": {
      "text/plain": [
       "18565.125"
      ]
     },
     "execution_count": 147,
     "metadata": {},
     "output_type": "execute_result"
    }
   ],
   "source": [
    "df[df[\"UN_Region\"] == \"Americas\"][\"WorldBank_Estimate\"].mean()"
   ]
  },
  {
   "cell_type": "code",
   "execution_count": 149,
   "id": "e2c49621-3603-4626-ad9d-de68d81c7482",
   "metadata": {},
   "outputs": [
    {
     "data": {
      "text/plain": [
       "15113.65"
      ]
     },
     "execution_count": 149,
     "metadata": {},
     "output_type": "execute_result"
    }
   ],
   "source": [
    "df[df[\"UN_Region\"] == \"Oceania\"][\"WorldBank_Estimate\"].mean()"
   ]
  },
  {
   "cell_type": "markdown",
   "id": "a7368ecd",
   "metadata": {
    "jp-MarkdownHeadingCollapsed": true
   },
   "source": [
    "## Which countries below average by IMF world estimate?"
   ]
  },
  {
   "cell_type": "code",
   "execution_count": 493,
   "id": "dfda8a27-1fb1-4be6-9714-bfd81ee35c2d",
   "metadata": {},
   "outputs": [],
   "source": [
    "# your code here"
   ]
  },
  {
   "cell_type": "code",
   "execution_count": 153,
   "id": "055e687f-4e11-4cd5-93da-afb6de776db2",
   "metadata": {},
   "outputs": [
    {
     "name": "stdout",
     "output_type": "stream",
     "text": [
      "18927.417040358745\n"
     ]
    }
   ],
   "source": [
    "IMF_avg = df[\"WorldBank_Estimate\"].mean()\n",
    "print(IMF_avg)"
   ]
  },
  {
   "cell_type": "code",
   "execution_count": 159,
   "id": "854144cd-e87c-4097-9a7f-f715ce61b420",
   "metadata": {},
   "outputs": [
    {
     "data": {
      "text/html": [
       "<div>\n",
       "<style scoped>\n",
       "    .dataframe tbody tr th:only-of-type {\n",
       "        vertical-align: middle;\n",
       "    }\n",
       "\n",
       "    .dataframe tbody tr th {\n",
       "        vertical-align: top;\n",
       "    }\n",
       "\n",
       "    .dataframe thead th {\n",
       "        text-align: right;\n",
       "    }\n",
       "</style>\n",
       "<table border=\"1\" class=\"dataframe\">\n",
       "  <thead>\n",
       "    <tr style=\"text-align: right;\">\n",
       "      <th></th>\n",
       "      <th>Country/Territory</th>\n",
       "      <th>UN_Region</th>\n",
       "      <th>IMF_Estimate</th>\n",
       "      <th>IMF_Year</th>\n",
       "      <th>WorldBank_Estimate</th>\n",
       "      <th>WorldBank_Year</th>\n",
       "      <th>UN_Estimate</th>\n",
       "      <th>UN_Year</th>\n",
       "    </tr>\n",
       "  </thead>\n",
       "  <tbody>\n",
       "    <tr>\n",
       "      <th>31</th>\n",
       "      <td>British Virgin Islands</td>\n",
       "      <td>Americas</td>\n",
       "      <td>0</td>\n",
       "      <td>0</td>\n",
       "      <td>0</td>\n",
       "      <td>0</td>\n",
       "      <td>49444</td>\n",
       "      <td>2021</td>\n",
       "    </tr>\n",
       "    <tr>\n",
       "      <th>46</th>\n",
       "      <td>Taiwan</td>\n",
       "      <td>Asia</td>\n",
       "      <td>33907</td>\n",
       "      <td>2023</td>\n",
       "      <td>0</td>\n",
       "      <td>0</td>\n",
       "      <td>0</td>\n",
       "      <td>0</td>\n",
       "    </tr>\n",
       "    <tr>\n",
       "      <th>66</th>\n",
       "      <td>Uruguay</td>\n",
       "      <td>Americas</td>\n",
       "      <td>21677</td>\n",
       "      <td>2023</td>\n",
       "      <td>17313</td>\n",
       "      <td>2021</td>\n",
       "      <td>17313</td>\n",
       "      <td>2021</td>\n",
       "    </tr>\n",
       "    <tr>\n",
       "      <th>67</th>\n",
       "      <td>Barbados</td>\n",
       "      <td>Americas</td>\n",
       "      <td>21085</td>\n",
       "      <td>2023</td>\n",
       "      <td>17226</td>\n",
       "      <td>2021</td>\n",
       "      <td>17225</td>\n",
       "      <td>2021</td>\n",
       "    </tr>\n",
       "    <tr>\n",
       "      <th>69</th>\n",
       "      <td>Guyana</td>\n",
       "      <td>Americas</td>\n",
       "      <td>20539</td>\n",
       "      <td>2023</td>\n",
       "      <td>9999</td>\n",
       "      <td>2021</td>\n",
       "      <td>9999</td>\n",
       "      <td>2021</td>\n",
       "    </tr>\n",
       "    <tr>\n",
       "      <th>...</th>\n",
       "      <td>...</td>\n",
       "      <td>...</td>\n",
       "      <td>...</td>\n",
       "      <td>...</td>\n",
       "      <td>...</td>\n",
       "      <td>...</td>\n",
       "      <td>...</td>\n",
       "      <td>...</td>\n",
       "    </tr>\n",
       "    <tr>\n",
       "      <th>219</th>\n",
       "      <td>Malawi</td>\n",
       "      <td>Africa</td>\n",
       "      <td>496</td>\n",
       "      <td>2023</td>\n",
       "      <td>635</td>\n",
       "      <td>2021</td>\n",
       "      <td>613</td>\n",
       "      <td>2021</td>\n",
       "    </tr>\n",
       "    <tr>\n",
       "      <th>220</th>\n",
       "      <td>South Sudan</td>\n",
       "      <td>Africa</td>\n",
       "      <td>467</td>\n",
       "      <td>2023</td>\n",
       "      <td>1072</td>\n",
       "      <td>2015</td>\n",
       "      <td>400</td>\n",
       "      <td>2021</td>\n",
       "    </tr>\n",
       "    <tr>\n",
       "      <th>221</th>\n",
       "      <td>Sierra Leone</td>\n",
       "      <td>Africa</td>\n",
       "      <td>415</td>\n",
       "      <td>2023</td>\n",
       "      <td>480</td>\n",
       "      <td>2021</td>\n",
       "      <td>505</td>\n",
       "      <td>2021</td>\n",
       "    </tr>\n",
       "    <tr>\n",
       "      <th>222</th>\n",
       "      <td>Afghanistan</td>\n",
       "      <td>Asia</td>\n",
       "      <td>611</td>\n",
       "      <td>2020</td>\n",
       "      <td>369</td>\n",
       "      <td>2021</td>\n",
       "      <td>373</td>\n",
       "      <td>2021</td>\n",
       "    </tr>\n",
       "    <tr>\n",
       "      <th>223</th>\n",
       "      <td>Burundi</td>\n",
       "      <td>Africa</td>\n",
       "      <td>249</td>\n",
       "      <td>2023</td>\n",
       "      <td>222</td>\n",
       "      <td>2021</td>\n",
       "      <td>311</td>\n",
       "      <td>2021</td>\n",
       "    </tr>\n",
       "  </tbody>\n",
       "</table>\n",
       "<p>158 rows × 8 columns</p>\n",
       "</div>"
      ],
      "text/plain": [
       "          Country/Territory UN_Region  IMF_Estimate  IMF_Year  \\\n",
       "31   British Virgin Islands  Americas             0         0   \n",
       "46                   Taiwan      Asia         33907      2023   \n",
       "66                  Uruguay  Americas         21677      2023   \n",
       "67                 Barbados  Americas         21085      2023   \n",
       "69                   Guyana  Americas         20539      2023   \n",
       "..                      ...       ...           ...       ...   \n",
       "219                  Malawi    Africa           496      2023   \n",
       "220             South Sudan    Africa           467      2023   \n",
       "221            Sierra Leone    Africa           415      2023   \n",
       "222             Afghanistan      Asia           611      2020   \n",
       "223                 Burundi    Africa           249      2023   \n",
       "\n",
       "     WorldBank_Estimate  WorldBank_Year  UN_Estimate UN_Year  \n",
       "31                    0               0        49444    2021  \n",
       "46                    0               0            0       0  \n",
       "66                17313            2021        17313    2021  \n",
       "67                17226            2021        17225    2021  \n",
       "69                 9999            2021         9999    2021  \n",
       "..                  ...             ...          ...     ...  \n",
       "219                 635            2021          613    2021  \n",
       "220                1072            2015          400    2021  \n",
       "221                 480            2021          505    2021  \n",
       "222                 369            2021          373    2021  \n",
       "223                 222            2021          311    2021  \n",
       "\n",
       "[158 rows x 8 columns]"
      ]
     },
     "execution_count": 159,
     "metadata": {},
     "output_type": "execute_result"
    }
   ],
   "source": [
    "df.loc[df[\"WorldBank_Estimate\"] < IMF_avg]"
   ]
  },
  {
   "cell_type": "markdown",
   "id": "71573d1b",
   "metadata": {},
   "source": [
    "### IMF estimate 0 values"
   ]
  },
  {
   "cell_type": "code",
   "execution_count": 163,
   "id": "dce16b9d-e347-4484-b9f3-0d71b71c08a8",
   "metadata": {},
   "outputs": [
    {
     "data": {
      "text/html": [
       "<div>\n",
       "<style scoped>\n",
       "    .dataframe tbody tr th:only-of-type {\n",
       "        vertical-align: middle;\n",
       "    }\n",
       "\n",
       "    .dataframe tbody tr th {\n",
       "        vertical-align: top;\n",
       "    }\n",
       "\n",
       "    .dataframe thead th {\n",
       "        text-align: right;\n",
       "    }\n",
       "</style>\n",
       "<table border=\"1\" class=\"dataframe\">\n",
       "  <thead>\n",
       "    <tr style=\"text-align: right;\">\n",
       "      <th></th>\n",
       "      <th>Country/Territory</th>\n",
       "      <th>UN_Region</th>\n",
       "      <th>IMF_Estimate</th>\n",
       "      <th>IMF_Year</th>\n",
       "      <th>WorldBank_Estimate</th>\n",
       "      <th>WorldBank_Year</th>\n",
       "      <th>UN_Estimate</th>\n",
       "      <th>UN_Year</th>\n",
       "    </tr>\n",
       "  </thead>\n",
       "  <tbody>\n",
       "    <tr>\n",
       "      <th>3</th>\n",
       "      <td>Luxembourg</td>\n",
       "      <td>Europe</td>\n",
       "      <td>132372</td>\n",
       "      <td>2023</td>\n",
       "      <td>133590</td>\n",
       "      <td>2021</td>\n",
       "      <td>133745</td>\n",
       "      <td>2021</td>\n",
       "    </tr>\n",
       "    <tr>\n",
       "      <th>4</th>\n",
       "      <td>Ireland</td>\n",
       "      <td>Europe</td>\n",
       "      <td>114581</td>\n",
       "      <td>2023</td>\n",
       "      <td>100172</td>\n",
       "      <td>2021</td>\n",
       "      <td>101109</td>\n",
       "      <td>2021</td>\n",
       "    </tr>\n",
       "    <tr>\n",
       "      <th>6</th>\n",
       "      <td>Norway</td>\n",
       "      <td>Europe</td>\n",
       "      <td>101103</td>\n",
       "      <td>2023</td>\n",
       "      <td>89154</td>\n",
       "      <td>2021</td>\n",
       "      <td>89242</td>\n",
       "      <td>2021</td>\n",
       "    </tr>\n",
       "    <tr>\n",
       "      <th>7</th>\n",
       "      <td>Switzerland</td>\n",
       "      <td>Europe</td>\n",
       "      <td>98767</td>\n",
       "      <td>2023</td>\n",
       "      <td>91992</td>\n",
       "      <td>2021</td>\n",
       "      <td>93525</td>\n",
       "      <td>2021</td>\n",
       "    </tr>\n",
       "    <tr>\n",
       "      <th>8</th>\n",
       "      <td>Singapore</td>\n",
       "      <td>Asia</td>\n",
       "      <td>91100</td>\n",
       "      <td>2023</td>\n",
       "      <td>72794</td>\n",
       "      <td>2021</td>\n",
       "      <td>66822</td>\n",
       "      <td>2021</td>\n",
       "    </tr>\n",
       "    <tr>\n",
       "      <th>...</th>\n",
       "      <td>...</td>\n",
       "      <td>...</td>\n",
       "      <td>...</td>\n",
       "      <td>...</td>\n",
       "      <td>...</td>\n",
       "      <td>...</td>\n",
       "      <td>...</td>\n",
       "      <td>...</td>\n",
       "    </tr>\n",
       "    <tr>\n",
       "      <th>82</th>\n",
       "      <td>CuraÃ§ao</td>\n",
       "      <td>Americas</td>\n",
       "      <td>0</td>\n",
       "      <td>0</td>\n",
       "      <td>17718</td>\n",
       "      <td>2021</td>\n",
       "      <td>14183</td>\n",
       "      <td>2021</td>\n",
       "    </tr>\n",
       "    <tr>\n",
       "      <th>85</th>\n",
       "      <td>Montserrat</td>\n",
       "      <td>Americas</td>\n",
       "      <td>0</td>\n",
       "      <td>0</td>\n",
       "      <td>0</td>\n",
       "      <td>0</td>\n",
       "      <td>16199</td>\n",
       "      <td>2021</td>\n",
       "    </tr>\n",
       "    <tr>\n",
       "      <th>86</th>\n",
       "      <td>American Samoa</td>\n",
       "      <td>Oceania</td>\n",
       "      <td>0</td>\n",
       "      <td>0</td>\n",
       "      <td>15743</td>\n",
       "      <td>2021</td>\n",
       "      <td>0</td>\n",
       "      <td>0</td>\n",
       "    </tr>\n",
       "    <tr>\n",
       "      <th>104</th>\n",
       "      <td>Cuba</td>\n",
       "      <td>Americas</td>\n",
       "      <td>0</td>\n",
       "      <td>0</td>\n",
       "      <td>9500</td>\n",
       "      <td>2020</td>\n",
       "      <td>11255</td>\n",
       "      <td>2021</td>\n",
       "    </tr>\n",
       "    <tr>\n",
       "      <th>1</th>\n",
       "      <td>Monaco</td>\n",
       "      <td>Europe</td>\n",
       "      <td>0</td>\n",
       "      <td>0</td>\n",
       "      <td>234316</td>\n",
       "      <td>2021</td>\n",
       "      <td>234317</td>\n",
       "      <td>2021</td>\n",
       "    </tr>\n",
       "  </tbody>\n",
       "</table>\n",
       "<p>223 rows × 8 columns</p>\n",
       "</div>"
      ],
      "text/plain": [
       "    Country/Territory UN_Region  IMF_Estimate  IMF_Year  WorldBank_Estimate  \\\n",
       "3          Luxembourg    Europe        132372      2023              133590   \n",
       "4             Ireland    Europe        114581      2023              100172   \n",
       "6              Norway    Europe        101103      2023               89154   \n",
       "7         Switzerland    Europe         98767      2023               91992   \n",
       "8           Singapore      Asia         91100      2023               72794   \n",
       "..                ...       ...           ...       ...                 ...   \n",
       "82           CuraÃ§ao  Americas             0         0               17718   \n",
       "85         Montserrat  Americas             0         0                   0   \n",
       "86     American Samoa   Oceania             0         0               15743   \n",
       "104              Cuba  Americas             0         0                9500   \n",
       "1              Monaco    Europe             0         0              234316   \n",
       "\n",
       "     WorldBank_Year  UN_Estimate UN_Year  \n",
       "3              2021       133745    2021  \n",
       "4              2021       101109    2021  \n",
       "6              2021        89242    2021  \n",
       "7              2021        93525    2021  \n",
       "8              2021        66822    2021  \n",
       "..              ...          ...     ...  \n",
       "82             2021        14183    2021  \n",
       "85                0        16199    2021  \n",
       "86             2021            0       0  \n",
       "104            2020        11255    2021  \n",
       "1              2021       234317    2021  \n",
       "\n",
       "[223 rows x 8 columns]"
      ]
     },
     "execution_count": 163,
     "metadata": {},
     "output_type": "execute_result"
    }
   ],
   "source": [
    "df.loc[:,:].sort_values(by=\"IMF_Estimate\", ascending = False)"
   ]
  },
  {
   "cell_type": "markdown",
   "id": "2228dc87",
   "metadata": {
    "jp-MarkdownHeadingCollapsed": true
   },
   "source": [
    "## Which country has highest UN Estimate?"
   ]
  },
  {
   "cell_type": "code",
   "execution_count": 183,
   "id": "8205397d",
   "metadata": {},
   "outputs": [
    {
     "data": {
      "text/html": [
       "<div>\n",
       "<style scoped>\n",
       "    .dataframe tbody tr th:only-of-type {\n",
       "        vertical-align: middle;\n",
       "    }\n",
       "\n",
       "    .dataframe tbody tr th {\n",
       "        vertical-align: top;\n",
       "    }\n",
       "\n",
       "    .dataframe thead th {\n",
       "        text-align: right;\n",
       "    }\n",
       "</style>\n",
       "<table border=\"1\" class=\"dataframe\">\n",
       "  <thead>\n",
       "    <tr style=\"text-align: right;\">\n",
       "      <th></th>\n",
       "      <th>Country/Territory</th>\n",
       "      <th>UN_Region</th>\n",
       "      <th>IMF_Estimate</th>\n",
       "      <th>IMF_Year</th>\n",
       "      <th>WorldBank_Estimate</th>\n",
       "      <th>WorldBank_Year</th>\n",
       "      <th>UN_Estimate</th>\n",
       "      <th>UN_Year</th>\n",
       "    </tr>\n",
       "  </thead>\n",
       "  <tbody>\n",
       "    <tr>\n",
       "      <th>1</th>\n",
       "      <td>Monaco</td>\n",
       "      <td>Europe</td>\n",
       "      <td>0</td>\n",
       "      <td>0</td>\n",
       "      <td>234316</td>\n",
       "      <td>2021</td>\n",
       "      <td>234317</td>\n",
       "      <td>2021</td>\n",
       "    </tr>\n",
       "  </tbody>\n",
       "</table>\n",
       "</div>"
      ],
      "text/plain": [
       "  Country/Territory UN_Region  IMF_Estimate  IMF_Year  WorldBank_Estimate  \\\n",
       "1            Monaco    Europe             0         0              234316   \n",
       "\n",
       "   WorldBank_Year  UN_Estimate UN_Year  \n",
       "1            2021       234317    2021  "
      ]
     },
     "execution_count": 183,
     "metadata": {},
     "output_type": "execute_result"
    }
   ],
   "source": [
    "df.loc[:,:].sort_values(by=\"UN_Estimate\", ascending = False).head(1)"
   ]
  },
  {
   "cell_type": "markdown",
   "id": "3a1d3c89",
   "metadata": {
    "jp-MarkdownHeadingCollapsed": true
   },
   "source": [
    "## Which country has highest Worlbank Estimate?"
   ]
  },
  {
   "cell_type": "code",
   "execution_count": 185,
   "id": "87478f85-1f55-471b-b4cf-494f5623d6d9",
   "metadata": {},
   "outputs": [
    {
     "data": {
      "text/html": [
       "<div>\n",
       "<style scoped>\n",
       "    .dataframe tbody tr th:only-of-type {\n",
       "        vertical-align: middle;\n",
       "    }\n",
       "\n",
       "    .dataframe tbody tr th {\n",
       "        vertical-align: top;\n",
       "    }\n",
       "\n",
       "    .dataframe thead th {\n",
       "        text-align: right;\n",
       "    }\n",
       "</style>\n",
       "<table border=\"1\" class=\"dataframe\">\n",
       "  <thead>\n",
       "    <tr style=\"text-align: right;\">\n",
       "      <th></th>\n",
       "      <th>Country/Territory</th>\n",
       "      <th>UN_Region</th>\n",
       "      <th>IMF_Estimate</th>\n",
       "      <th>IMF_Year</th>\n",
       "      <th>WorldBank_Estimate</th>\n",
       "      <th>WorldBank_Year</th>\n",
       "      <th>UN_Estimate</th>\n",
       "      <th>UN_Year</th>\n",
       "    </tr>\n",
       "  </thead>\n",
       "  <tbody>\n",
       "    <tr>\n",
       "      <th>1</th>\n",
       "      <td>Monaco</td>\n",
       "      <td>Europe</td>\n",
       "      <td>0</td>\n",
       "      <td>0</td>\n",
       "      <td>234316</td>\n",
       "      <td>2021</td>\n",
       "      <td>234317</td>\n",
       "      <td>2021</td>\n",
       "    </tr>\n",
       "  </tbody>\n",
       "</table>\n",
       "</div>"
      ],
      "text/plain": [
       "  Country/Territory UN_Region  IMF_Estimate  IMF_Year  WorldBank_Estimate  \\\n",
       "1            Monaco    Europe             0         0              234316   \n",
       "\n",
       "   WorldBank_Year  UN_Estimate UN_Year  \n",
       "1            2021       234317    2021  "
      ]
     },
     "execution_count": 185,
     "metadata": {},
     "output_type": "execute_result"
    }
   ],
   "source": [
    "df.loc[:,:].sort_values(by=\"WorldBank_Estimate\", ascending = False).head(1)"
   ]
  },
  {
   "cell_type": "markdown",
   "id": "7efaadc8",
   "metadata": {
    "jp-MarkdownHeadingCollapsed": true
   },
   "source": [
    "## Which country has highest IMF Estimate?"
   ]
  },
  {
   "cell_type": "code",
   "execution_count": 187,
   "id": "9f3dbffc",
   "metadata": {},
   "outputs": [
    {
     "data": {
      "text/html": [
       "<div>\n",
       "<style scoped>\n",
       "    .dataframe tbody tr th:only-of-type {\n",
       "        vertical-align: middle;\n",
       "    }\n",
       "\n",
       "    .dataframe tbody tr th {\n",
       "        vertical-align: top;\n",
       "    }\n",
       "\n",
       "    .dataframe thead th {\n",
       "        text-align: right;\n",
       "    }\n",
       "</style>\n",
       "<table border=\"1\" class=\"dataframe\">\n",
       "  <thead>\n",
       "    <tr style=\"text-align: right;\">\n",
       "      <th></th>\n",
       "      <th>Country/Territory</th>\n",
       "      <th>UN_Region</th>\n",
       "      <th>IMF_Estimate</th>\n",
       "      <th>IMF_Year</th>\n",
       "      <th>WorldBank_Estimate</th>\n",
       "      <th>WorldBank_Year</th>\n",
       "      <th>UN_Estimate</th>\n",
       "      <th>UN_Year</th>\n",
       "    </tr>\n",
       "  </thead>\n",
       "  <tbody>\n",
       "    <tr>\n",
       "      <th>3</th>\n",
       "      <td>Luxembourg</td>\n",
       "      <td>Europe</td>\n",
       "      <td>132372</td>\n",
       "      <td>2023</td>\n",
       "      <td>133590</td>\n",
       "      <td>2021</td>\n",
       "      <td>133745</td>\n",
       "      <td>2021</td>\n",
       "    </tr>\n",
       "  </tbody>\n",
       "</table>\n",
       "</div>"
      ],
      "text/plain": [
       "  Country/Territory UN_Region  IMF_Estimate  IMF_Year  WorldBank_Estimate  \\\n",
       "3        Luxembourg    Europe        132372      2023              133590   \n",
       "\n",
       "   WorldBank_Year  UN_Estimate UN_Year  \n",
       "3            2021       133745    2021  "
      ]
     },
     "execution_count": 187,
     "metadata": {},
     "output_type": "execute_result"
    }
   ],
   "source": [
    "df.loc[:,:].sort_values(by=\"IMF_Estimate\", ascending = False).head(1)"
   ]
  },
  {
   "cell_type": "markdown",
   "id": "4b4f060e-3352-4e53-8f07-42131e363ed5",
   "metadata": {
    "jp-MarkdownHeadingCollapsed": true
   },
   "source": [
    "## Filling 0 Values by average"
   ]
  },
  {
   "cell_type": "code",
   "execution_count": 189,
   "id": "66070730-be45-4c5b-b508-92113f9ab826",
   "metadata": {},
   "outputs": [],
   "source": [
    "import numpy as np"
   ]
  },
  {
   "cell_type": "code",
   "execution_count": 191,
   "id": "f0326b3c-aa84-44ed-b83b-1a2c48bc0343",
   "metadata": {
    "scrolled": true
   },
   "outputs": [
    {
     "data": {
      "text/html": [
       "<div>\n",
       "<style scoped>\n",
       "    .dataframe tbody tr th:only-of-type {\n",
       "        vertical-align: middle;\n",
       "    }\n",
       "\n",
       "    .dataframe tbody tr th {\n",
       "        vertical-align: top;\n",
       "    }\n",
       "\n",
       "    .dataframe thead th {\n",
       "        text-align: right;\n",
       "    }\n",
       "</style>\n",
       "<table border=\"1\" class=\"dataframe\">\n",
       "  <thead>\n",
       "    <tr style=\"text-align: right;\">\n",
       "      <th></th>\n",
       "      <th>Country/Territory</th>\n",
       "      <th>UN_Region</th>\n",
       "      <th>IMF_Estimate</th>\n",
       "      <th>IMF_Year</th>\n",
       "      <th>WorldBank_Estimate</th>\n",
       "      <th>WorldBank_Year</th>\n",
       "      <th>UN_Estimate</th>\n",
       "      <th>UN_Year</th>\n",
       "    </tr>\n",
       "  </thead>\n",
       "  <tbody>\n",
       "    <tr>\n",
       "      <th>1</th>\n",
       "      <td>Monaco</td>\n",
       "      <td>Europe</td>\n",
       "      <td>0</td>\n",
       "      <td>0</td>\n",
       "      <td>234316</td>\n",
       "      <td>2021</td>\n",
       "      <td>234317</td>\n",
       "      <td>2021</td>\n",
       "    </tr>\n",
       "    <tr>\n",
       "      <th>2</th>\n",
       "      <td>Liechtenstein</td>\n",
       "      <td>Europe</td>\n",
       "      <td>0</td>\n",
       "      <td>0</td>\n",
       "      <td>157755</td>\n",
       "      <td>2020</td>\n",
       "      <td>169260</td>\n",
       "      <td>2021</td>\n",
       "    </tr>\n",
       "    <tr>\n",
       "      <th>5</th>\n",
       "      <td>Bermuda</td>\n",
       "      <td>Americas</td>\n",
       "      <td>0</td>\n",
       "      <td>0</td>\n",
       "      <td>114090</td>\n",
       "      <td>2021</td>\n",
       "      <td>112653</td>\n",
       "      <td>2021</td>\n",
       "    </tr>\n",
       "    <tr>\n",
       "      <th>9</th>\n",
       "      <td>Isle of Man</td>\n",
       "      <td>Europe</td>\n",
       "      <td>0</td>\n",
       "      <td>0</td>\n",
       "      <td>87158</td>\n",
       "      <td>2019</td>\n",
       "      <td>0</td>\n",
       "      <td>0</td>\n",
       "    </tr>\n",
       "    <tr>\n",
       "      <th>10</th>\n",
       "      <td>Cayman Islands</td>\n",
       "      <td>Americas</td>\n",
       "      <td>0</td>\n",
       "      <td>0</td>\n",
       "      <td>86569</td>\n",
       "      <td>2021</td>\n",
       "      <td>85250</td>\n",
       "      <td>2021</td>\n",
       "    </tr>\n",
       "    <tr>\n",
       "      <th>14</th>\n",
       "      <td>Channel Islands</td>\n",
       "      <td>Europe</td>\n",
       "      <td>0</td>\n",
       "      <td>0</td>\n",
       "      <td>75153</td>\n",
       "      <td>2007</td>\n",
       "      <td>0</td>\n",
       "      <td>0</td>\n",
       "    </tr>\n",
       "    <tr>\n",
       "      <th>15</th>\n",
       "      <td>Faroe Islands</td>\n",
       "      <td>Europe</td>\n",
       "      <td>0</td>\n",
       "      <td>0</td>\n",
       "      <td>69010</td>\n",
       "      <td>2021</td>\n",
       "      <td>0</td>\n",
       "      <td>0</td>\n",
       "    </tr>\n",
       "    <tr>\n",
       "      <th>19</th>\n",
       "      <td>Greenland</td>\n",
       "      <td>Americas</td>\n",
       "      <td>0</td>\n",
       "      <td>0</td>\n",
       "      <td>54571</td>\n",
       "      <td>2020</td>\n",
       "      <td>58185</td>\n",
       "      <td>2021</td>\n",
       "    </tr>\n",
       "    <tr>\n",
       "      <th>31</th>\n",
       "      <td>British Virgin Islands</td>\n",
       "      <td>Americas</td>\n",
       "      <td>0</td>\n",
       "      <td>0</td>\n",
       "      <td>0</td>\n",
       "      <td>0</td>\n",
       "      <td>49444</td>\n",
       "      <td>2021</td>\n",
       "    </tr>\n",
       "    <tr>\n",
       "      <th>37</th>\n",
       "      <td>US Virgin Islands</td>\n",
       "      <td>Americas</td>\n",
       "      <td>0</td>\n",
       "      <td>0</td>\n",
       "      <td>39552</td>\n",
       "      <td>2020</td>\n",
       "      <td>0</td>\n",
       "      <td>0</td>\n",
       "    </tr>\n",
       "    <tr>\n",
       "      <th>39</th>\n",
       "      <td>New Caledonia</td>\n",
       "      <td>Oceania</td>\n",
       "      <td>0</td>\n",
       "      <td>0</td>\n",
       "      <td>37160</td>\n",
       "      <td>2021</td>\n",
       "      <td>34994</td>\n",
       "      <td>2021</td>\n",
       "    </tr>\n",
       "    <tr>\n",
       "      <th>42</th>\n",
       "      <td>Guam</td>\n",
       "      <td>Oceania</td>\n",
       "      <td>0</td>\n",
       "      <td>0</td>\n",
       "      <td>35905</td>\n",
       "      <td>2021</td>\n",
       "      <td>0</td>\n",
       "      <td>0</td>\n",
       "    </tr>\n",
       "    <tr>\n",
       "      <th>58</th>\n",
       "      <td>Sint Maarten (Dutch part)</td>\n",
       "      <td>Americas</td>\n",
       "      <td>0</td>\n",
       "      <td>0</td>\n",
       "      <td>28988</td>\n",
       "      <td>2018</td>\n",
       "      <td>26199</td>\n",
       "      <td>2021</td>\n",
       "    </tr>\n",
       "    <tr>\n",
       "      <th>61</th>\n",
       "      <td>Northern Mariana Islands</td>\n",
       "      <td>Oceania</td>\n",
       "      <td>0</td>\n",
       "      <td>0</td>\n",
       "      <td>23707</td>\n",
       "      <td>2019</td>\n",
       "      <td>0</td>\n",
       "      <td>0</td>\n",
       "    </tr>\n",
       "    <tr>\n",
       "      <th>65</th>\n",
       "      <td>Saint Martin (French part)</td>\n",
       "      <td>Americas</td>\n",
       "      <td>0</td>\n",
       "      <td>0</td>\n",
       "      <td>21921</td>\n",
       "      <td>2014</td>\n",
       "      <td>0</td>\n",
       "      <td>0</td>\n",
       "    </tr>\n",
       "    <tr>\n",
       "      <th>68</th>\n",
       "      <td>Turks and Caicos Islands</td>\n",
       "      <td>Americas</td>\n",
       "      <td>0</td>\n",
       "      <td>0</td>\n",
       "      <td>20909</td>\n",
       "      <td>2021</td>\n",
       "      <td>20909</td>\n",
       "      <td>2021</td>\n",
       "    </tr>\n",
       "    <tr>\n",
       "      <th>71</th>\n",
       "      <td>French Polynesia</td>\n",
       "      <td>Oceania</td>\n",
       "      <td>0</td>\n",
       "      <td>0</td>\n",
       "      <td>19915</td>\n",
       "      <td>2021</td>\n",
       "      <td>19915</td>\n",
       "      <td>2021</td>\n",
       "    </tr>\n",
       "    <tr>\n",
       "      <th>76</th>\n",
       "      <td>Cook Islands</td>\n",
       "      <td>Oceania</td>\n",
       "      <td>0</td>\n",
       "      <td>0</td>\n",
       "      <td>0</td>\n",
       "      <td>0</td>\n",
       "      <td>19264</td>\n",
       "      <td>2021</td>\n",
       "    </tr>\n",
       "    <tr>\n",
       "      <th>77</th>\n",
       "      <td>Anguilla</td>\n",
       "      <td>Americas</td>\n",
       "      <td>0</td>\n",
       "      <td>0</td>\n",
       "      <td>0</td>\n",
       "      <td>0</td>\n",
       "      <td>19216</td>\n",
       "      <td>2021</td>\n",
       "    </tr>\n",
       "    <tr>\n",
       "      <th>82</th>\n",
       "      <td>CuraÃ§ao</td>\n",
       "      <td>Americas</td>\n",
       "      <td>0</td>\n",
       "      <td>0</td>\n",
       "      <td>17718</td>\n",
       "      <td>2021</td>\n",
       "      <td>14183</td>\n",
       "      <td>2021</td>\n",
       "    </tr>\n",
       "    <tr>\n",
       "      <th>85</th>\n",
       "      <td>Montserrat</td>\n",
       "      <td>Americas</td>\n",
       "      <td>0</td>\n",
       "      <td>0</td>\n",
       "      <td>0</td>\n",
       "      <td>0</td>\n",
       "      <td>16199</td>\n",
       "      <td>2021</td>\n",
       "    </tr>\n",
       "    <tr>\n",
       "      <th>86</th>\n",
       "      <td>American Samoa</td>\n",
       "      <td>Oceania</td>\n",
       "      <td>0</td>\n",
       "      <td>0</td>\n",
       "      <td>15743</td>\n",
       "      <td>2021</td>\n",
       "      <td>0</td>\n",
       "      <td>0</td>\n",
       "    </tr>\n",
       "    <tr>\n",
       "      <th>104</th>\n",
       "      <td>Cuba</td>\n",
       "      <td>Americas</td>\n",
       "      <td>0</td>\n",
       "      <td>0</td>\n",
       "      <td>9500</td>\n",
       "      <td>2020</td>\n",
       "      <td>11255</td>\n",
       "      <td>2021</td>\n",
       "    </tr>\n",
       "    <tr>\n",
       "      <th>196</th>\n",
       "      <td>Zanzibar</td>\n",
       "      <td>Africa</td>\n",
       "      <td>0</td>\n",
       "      <td>0</td>\n",
       "      <td>0</td>\n",
       "      <td>0</td>\n",
       "      <td>1211</td>\n",
       "      <td>2021</td>\n",
       "    </tr>\n",
       "    <tr>\n",
       "      <th>204</th>\n",
       "      <td>Syria</td>\n",
       "      <td>Asia</td>\n",
       "      <td>0</td>\n",
       "      <td>0</td>\n",
       "      <td>533</td>\n",
       "      <td>2020</td>\n",
       "      <td>925</td>\n",
       "      <td>2021</td>\n",
       "    </tr>\n",
       "    <tr>\n",
       "      <th>212</th>\n",
       "      <td>North Korea</td>\n",
       "      <td>Asia</td>\n",
       "      <td>0</td>\n",
       "      <td>0</td>\n",
       "      <td>0</td>\n",
       "      <td>0</td>\n",
       "      <td>654</td>\n",
       "      <td>2021</td>\n",
       "    </tr>\n",
       "  </tbody>\n",
       "</table>\n",
       "</div>"
      ],
      "text/plain": [
       "              Country/Territory UN_Region  IMF_Estimate  IMF_Year  \\\n",
       "1                        Monaco    Europe             0         0   \n",
       "2                 Liechtenstein    Europe             0         0   \n",
       "5                       Bermuda  Americas             0         0   \n",
       "9                   Isle of Man    Europe             0         0   \n",
       "10               Cayman Islands  Americas             0         0   \n",
       "14              Channel Islands    Europe             0         0   \n",
       "15                Faroe Islands    Europe             0         0   \n",
       "19                    Greenland  Americas             0         0   \n",
       "31       British Virgin Islands  Americas             0         0   \n",
       "37            US Virgin Islands  Americas             0         0   \n",
       "39                New Caledonia   Oceania             0         0   \n",
       "42                         Guam   Oceania             0         0   \n",
       "58    Sint Maarten (Dutch part)  Americas             0         0   \n",
       "61     Northern Mariana Islands   Oceania             0         0   \n",
       "65   Saint Martin (French part)  Americas             0         0   \n",
       "68     Turks and Caicos Islands  Americas             0         0   \n",
       "71             French Polynesia   Oceania             0         0   \n",
       "76                 Cook Islands   Oceania             0         0   \n",
       "77                     Anguilla  Americas             0         0   \n",
       "82                     CuraÃ§ao  Americas             0         0   \n",
       "85                   Montserrat  Americas             0         0   \n",
       "86               American Samoa   Oceania             0         0   \n",
       "104                        Cuba  Americas             0         0   \n",
       "196                    Zanzibar    Africa             0         0   \n",
       "204                       Syria      Asia             0         0   \n",
       "212                 North Korea      Asia             0         0   \n",
       "\n",
       "     WorldBank_Estimate  WorldBank_Year  UN_Estimate UN_Year  \n",
       "1                234316            2021       234317    2021  \n",
       "2                157755            2020       169260    2021  \n",
       "5                114090            2021       112653    2021  \n",
       "9                 87158            2019            0       0  \n",
       "10                86569            2021        85250    2021  \n",
       "14                75153            2007            0       0  \n",
       "15                69010            2021            0       0  \n",
       "19                54571            2020        58185    2021  \n",
       "31                    0               0        49444    2021  \n",
       "37                39552            2020            0       0  \n",
       "39                37160            2021        34994    2021  \n",
       "42                35905            2021            0       0  \n",
       "58                28988            2018        26199    2021  \n",
       "61                23707            2019            0       0  \n",
       "65                21921            2014            0       0  \n",
       "68                20909            2021        20909    2021  \n",
       "71                19915            2021        19915    2021  \n",
       "76                    0               0        19264    2021  \n",
       "77                    0               0        19216    2021  \n",
       "82                17718            2021        14183    2021  \n",
       "85                    0               0        16199    2021  \n",
       "86                15743            2021            0       0  \n",
       "104                9500            2020        11255    2021  \n",
       "196                   0               0         1211    2021  \n",
       "204                 533            2020          925    2021  \n",
       "212                   0               0          654    2021  "
      ]
     },
     "execution_count": 191,
     "metadata": {},
     "output_type": "execute_result"
    }
   ],
   "source": [
    "df.loc[df[\"IMF_Estimate\"]==0]"
   ]
  },
  {
   "cell_type": "code",
   "execution_count": 193,
   "id": "48b3f09e-8c51-43d5-ac74-4c33042a2300",
   "metadata": {},
   "outputs": [
    {
     "data": {
      "text/html": [
       "<div>\n",
       "<style scoped>\n",
       "    .dataframe tbody tr th:only-of-type {\n",
       "        vertical-align: middle;\n",
       "    }\n",
       "\n",
       "    .dataframe tbody tr th {\n",
       "        vertical-align: top;\n",
       "    }\n",
       "\n",
       "    .dataframe thead th {\n",
       "        text-align: right;\n",
       "    }\n",
       "</style>\n",
       "<table border=\"1\" class=\"dataframe\">\n",
       "  <thead>\n",
       "    <tr style=\"text-align: right;\">\n",
       "      <th></th>\n",
       "      <th>Country/Territory</th>\n",
       "      <th>UN_Region</th>\n",
       "      <th>IMF_Estimate</th>\n",
       "      <th>IMF_Year</th>\n",
       "      <th>WorldBank_Estimate</th>\n",
       "      <th>WorldBank_Year</th>\n",
       "      <th>UN_Estimate</th>\n",
       "      <th>UN_Year</th>\n",
       "    </tr>\n",
       "  </thead>\n",
       "  <tbody>\n",
       "    <tr>\n",
       "      <th>1</th>\n",
       "      <td>Monaco</td>\n",
       "      <td>Europe</td>\n",
       "      <td>&lt;NA&gt;</td>\n",
       "      <td>0</td>\n",
       "      <td>234316</td>\n",
       "      <td>2021</td>\n",
       "      <td>234317</td>\n",
       "      <td>2021</td>\n",
       "    </tr>\n",
       "    <tr>\n",
       "      <th>2</th>\n",
       "      <td>Liechtenstein</td>\n",
       "      <td>Europe</td>\n",
       "      <td>&lt;NA&gt;</td>\n",
       "      <td>0</td>\n",
       "      <td>157755</td>\n",
       "      <td>2020</td>\n",
       "      <td>169260</td>\n",
       "      <td>2021</td>\n",
       "    </tr>\n",
       "    <tr>\n",
       "      <th>3</th>\n",
       "      <td>Luxembourg</td>\n",
       "      <td>Europe</td>\n",
       "      <td>132372</td>\n",
       "      <td>2023</td>\n",
       "      <td>133590</td>\n",
       "      <td>2021</td>\n",
       "      <td>133745</td>\n",
       "      <td>2021</td>\n",
       "    </tr>\n",
       "    <tr>\n",
       "      <th>4</th>\n",
       "      <td>Ireland</td>\n",
       "      <td>Europe</td>\n",
       "      <td>114581</td>\n",
       "      <td>2023</td>\n",
       "      <td>100172</td>\n",
       "      <td>2021</td>\n",
       "      <td>101109</td>\n",
       "      <td>2021</td>\n",
       "    </tr>\n",
       "    <tr>\n",
       "      <th>5</th>\n",
       "      <td>Bermuda</td>\n",
       "      <td>Americas</td>\n",
       "      <td>&lt;NA&gt;</td>\n",
       "      <td>0</td>\n",
       "      <td>114090</td>\n",
       "      <td>2021</td>\n",
       "      <td>112653</td>\n",
       "      <td>2021</td>\n",
       "    </tr>\n",
       "  </tbody>\n",
       "</table>\n",
       "</div>"
      ],
      "text/plain": [
       "  Country/Territory UN_Region IMF_Estimate  IMF_Year  WorldBank_Estimate  \\\n",
       "1            Monaco    Europe         <NA>         0              234316   \n",
       "2     Liechtenstein    Europe         <NA>         0              157755   \n",
       "3        Luxembourg    Europe       132372      2023              133590   \n",
       "4           Ireland    Europe       114581      2023              100172   \n",
       "5           Bermuda  Americas         <NA>         0              114090   \n",
       "\n",
       "   WorldBank_Year  UN_Estimate UN_Year  \n",
       "1            2021       234317    2021  \n",
       "2            2020       169260    2021  \n",
       "3            2021       133745    2021  \n",
       "4            2021       101109    2021  \n",
       "5            2021       112653    2021  "
      ]
     },
     "execution_count": 193,
     "metadata": {},
     "output_type": "execute_result"
    }
   ],
   "source": [
    "# replace 0 with null values\n",
    "df[\"IMF_Estimate\"] = df[\"IMF_Estimate\"].replace(0, pd.NA)\n",
    "df.head()"
   ]
  },
  {
   "cell_type": "code",
   "execution_count": null,
   "id": "ba1c29d1-9c58-4bf1-8c7d-deab42fbb998",
   "metadata": {},
   "outputs": [],
   "source": []
  },
  {
   "cell_type": "code",
   "execution_count": 195,
   "id": "a5deaf5e-d69d-40ce-a6d7-e7205c29f006",
   "metadata": {},
   "outputs": [
    {
     "name": "stdout",
     "output_type": "stream",
     "text": [
      "1      234316.5\n",
      "2      163507.5\n",
      "3      133667.5\n",
      "4      100640.5\n",
      "5      113371.5\n",
      "         ...   \n",
      "219       624.0\n",
      "220       736.0\n",
      "221       492.5\n",
      "222       371.0\n",
      "223       266.5\n",
      "Length: 223, dtype: float64\n"
     ]
    }
   ],
   "source": [
    "# Calculate the average of 'worldbank' and 'un' columns\n",
    "avg_worldbank_un = df[[\"WorldBank_Estimate\",\"UN_Estimate\"]].mean(axis=1)\n",
    "print(avg_worldbank_un)"
   ]
  },
  {
   "cell_type": "code",
   "execution_count": 197,
   "id": "1302b35e-2811-4d38-b7c7-bc60a18a37a8",
   "metadata": {},
   "outputs": [],
   "source": [
    "#ignore the warning\n",
    "pd.set_option('future.no_silent_downcasting', True)"
   ]
  },
  {
   "cell_type": "code",
   "execution_count": 199,
   "id": "e6204448-c58b-413d-8015-36a7727c2ef5",
   "metadata": {},
   "outputs": [],
   "source": [
    "# Fill the null values in 'imf' column with the calculated average\n",
    "df[\"IMF_Estimate\"] = df[\"IMF_Estimate\"].fillna(avg_worldbank_un)\n"
   ]
  },
  {
   "cell_type": "code",
   "execution_count": 201,
   "id": "31f244cc-98cf-4836-ab6d-dd03f4d89863",
   "metadata": {},
   "outputs": [
    {
     "data": {
      "text/html": [
       "<div>\n",
       "<style scoped>\n",
       "    .dataframe tbody tr th:only-of-type {\n",
       "        vertical-align: middle;\n",
       "    }\n",
       "\n",
       "    .dataframe tbody tr th {\n",
       "        vertical-align: top;\n",
       "    }\n",
       "\n",
       "    .dataframe thead th {\n",
       "        text-align: right;\n",
       "    }\n",
       "</style>\n",
       "<table border=\"1\" class=\"dataframe\">\n",
       "  <thead>\n",
       "    <tr style=\"text-align: right;\">\n",
       "      <th></th>\n",
       "      <th>Country/Territory</th>\n",
       "      <th>UN_Region</th>\n",
       "      <th>IMF_Estimate</th>\n",
       "      <th>IMF_Year</th>\n",
       "      <th>WorldBank_Estimate</th>\n",
       "      <th>WorldBank_Year</th>\n",
       "      <th>UN_Estimate</th>\n",
       "      <th>UN_Year</th>\n",
       "    </tr>\n",
       "  </thead>\n",
       "  <tbody>\n",
       "    <tr>\n",
       "      <th>1</th>\n",
       "      <td>Monaco</td>\n",
       "      <td>Europe</td>\n",
       "      <td>234316.5</td>\n",
       "      <td>0</td>\n",
       "      <td>234316</td>\n",
       "      <td>2021</td>\n",
       "      <td>234317</td>\n",
       "      <td>2021</td>\n",
       "    </tr>\n",
       "    <tr>\n",
       "      <th>2</th>\n",
       "      <td>Liechtenstein</td>\n",
       "      <td>Europe</td>\n",
       "      <td>163507.5</td>\n",
       "      <td>0</td>\n",
       "      <td>157755</td>\n",
       "      <td>2020</td>\n",
       "      <td>169260</td>\n",
       "      <td>2021</td>\n",
       "    </tr>\n",
       "    <tr>\n",
       "      <th>3</th>\n",
       "      <td>Luxembourg</td>\n",
       "      <td>Europe</td>\n",
       "      <td>132372</td>\n",
       "      <td>2023</td>\n",
       "      <td>133590</td>\n",
       "      <td>2021</td>\n",
       "      <td>133745</td>\n",
       "      <td>2021</td>\n",
       "    </tr>\n",
       "    <tr>\n",
       "      <th>4</th>\n",
       "      <td>Ireland</td>\n",
       "      <td>Europe</td>\n",
       "      <td>114581</td>\n",
       "      <td>2023</td>\n",
       "      <td>100172</td>\n",
       "      <td>2021</td>\n",
       "      <td>101109</td>\n",
       "      <td>2021</td>\n",
       "    </tr>\n",
       "    <tr>\n",
       "      <th>5</th>\n",
       "      <td>Bermuda</td>\n",
       "      <td>Americas</td>\n",
       "      <td>113371.5</td>\n",
       "      <td>0</td>\n",
       "      <td>114090</td>\n",
       "      <td>2021</td>\n",
       "      <td>112653</td>\n",
       "      <td>2021</td>\n",
       "    </tr>\n",
       "    <tr>\n",
       "      <th>6</th>\n",
       "      <td>Norway</td>\n",
       "      <td>Europe</td>\n",
       "      <td>101103</td>\n",
       "      <td>2023</td>\n",
       "      <td>89154</td>\n",
       "      <td>2021</td>\n",
       "      <td>89242</td>\n",
       "      <td>2021</td>\n",
       "    </tr>\n",
       "    <tr>\n",
       "      <th>7</th>\n",
       "      <td>Switzerland</td>\n",
       "      <td>Europe</td>\n",
       "      <td>98767</td>\n",
       "      <td>2023</td>\n",
       "      <td>91992</td>\n",
       "      <td>2021</td>\n",
       "      <td>93525</td>\n",
       "      <td>2021</td>\n",
       "    </tr>\n",
       "    <tr>\n",
       "      <th>8</th>\n",
       "      <td>Singapore</td>\n",
       "      <td>Asia</td>\n",
       "      <td>91100</td>\n",
       "      <td>2023</td>\n",
       "      <td>72794</td>\n",
       "      <td>2021</td>\n",
       "      <td>66822</td>\n",
       "      <td>2021</td>\n",
       "    </tr>\n",
       "    <tr>\n",
       "      <th>9</th>\n",
       "      <td>Isle of Man</td>\n",
       "      <td>Europe</td>\n",
       "      <td>43579.0</td>\n",
       "      <td>0</td>\n",
       "      <td>87158</td>\n",
       "      <td>2019</td>\n",
       "      <td>0</td>\n",
       "      <td>0</td>\n",
       "    </tr>\n",
       "    <tr>\n",
       "      <th>10</th>\n",
       "      <td>Cayman Islands</td>\n",
       "      <td>Americas</td>\n",
       "      <td>85909.5</td>\n",
       "      <td>0</td>\n",
       "      <td>86569</td>\n",
       "      <td>2021</td>\n",
       "      <td>85250</td>\n",
       "      <td>2021</td>\n",
       "    </tr>\n",
       "  </tbody>\n",
       "</table>\n",
       "</div>"
      ],
      "text/plain": [
       "   Country/Territory UN_Region IMF_Estimate  IMF_Year  WorldBank_Estimate  \\\n",
       "1             Monaco    Europe     234316.5         0              234316   \n",
       "2      Liechtenstein    Europe     163507.5         0              157755   \n",
       "3         Luxembourg    Europe       132372      2023              133590   \n",
       "4            Ireland    Europe       114581      2023              100172   \n",
       "5            Bermuda  Americas     113371.5         0              114090   \n",
       "6             Norway    Europe       101103      2023               89154   \n",
       "7        Switzerland    Europe        98767      2023               91992   \n",
       "8          Singapore      Asia        91100      2023               72794   \n",
       "9        Isle of Man    Europe      43579.0         0               87158   \n",
       "10    Cayman Islands  Americas      85909.5         0               86569   \n",
       "\n",
       "    WorldBank_Year  UN_Estimate UN_Year  \n",
       "1             2021       234317    2021  \n",
       "2             2020       169260    2021  \n",
       "3             2021       133745    2021  \n",
       "4             2021       101109    2021  \n",
       "5             2021       112653    2021  \n",
       "6             2021        89242    2021  \n",
       "7             2021        93525    2021  \n",
       "8             2021        66822    2021  \n",
       "9             2019            0       0  \n",
       "10            2021        85250    2021  "
      ]
     },
     "execution_count": 201,
     "metadata": {},
     "output_type": "execute_result"
    }
   ],
   "source": [
    "df.head(10)"
   ]
  },
  {
   "cell_type": "markdown",
   "id": "162be68a-dee1-478a-80b6-ac8e8537bcf7",
   "metadata": {},
   "source": [
    "[Visit this link to learn more about ffill](https://www.w3schools.com/python/pandas/ref_df_ffill.asp)"
   ]
  },
  {
   "cell_type": "markdown",
   "id": "56061f24-0128-4773-a177-37b33640c9a9",
   "metadata": {},
   "source": [
    "[Visit this link to learn more about bfill](https://www.w3schools.com/python/pandas/ref_df_bfill.asp)"
   ]
  },
  {
   "cell_type": "markdown",
   "id": "70c23a49-9c48-403c-bfc5-beb46f2f46be",
   "metadata": {
    "jp-MarkdownHeadingCollapsed": true
   },
   "source": [
    "## groupby()"
   ]
  },
  {
   "cell_type": "markdown",
   "id": "15d1a651-dade-4c81-ac23-87b116a727b3",
   "metadata": {},
   "source": [
    "[Learn more about groupby](https://www.geeksforgeeks.org/pandas-groupby/)"
   ]
  },
  {
   "cell_type": "markdown",
   "id": "7d881b62-6d7b-497f-ad66-70e82904b079",
   "metadata": {},
   "source": [
    "[Watch the video](https://www.youtube.com/watch?v=ipoSjrN0oh0&ab_channel=ChartExplorers)"
   ]
  },
  {
   "cell_type": "code",
   "execution_count": 203,
   "id": "cdd710ab-a361-46f7-83fd-1de90c37a16c",
   "metadata": {},
   "outputs": [
    {
     "data": {
      "text/plain": [
       "UN_Region\n",
       "Africa       2813.354545\n",
       "Americas     20280.53125\n",
       "Asia        16685.960784\n",
       "Europe       45144.34375\n",
       "Oceania        14298.225\n",
       "World            13440.0\n",
       "Name: IMF_Estimate, dtype: object"
      ]
     },
     "execution_count": 203,
     "metadata": {},
     "output_type": "execute_result"
    }
   ],
   "source": [
    "# Average GDP per Region\n",
    "df.groupby(\"UN_Region\")[\"IMF_Estimate\"].mean()"
   ]
  },
  {
   "cell_type": "code",
   "execution_count": 205,
   "id": "3706d6bf-9f36-45c8-9489-793bfbe32abc",
   "metadata": {},
   "outputs": [
    {
     "data": {
      "text/plain": [
       "UN_Region\n",
       "Africa       12085\n",
       "Americas    112653\n",
       "Asia         66822\n",
       "Europe      234317\n",
       "Oceania      66916\n",
       "World        12230\n",
       "Name: UN_Estimate, dtype: int64"
      ]
     },
     "execution_count": 205,
     "metadata": {},
     "output_type": "execute_result"
    }
   ],
   "source": [
    "# Max GDP for each Region\n",
    "df.groupby(\"UN_Region\")[\"UN_Estimate\"].max()"
   ]
  },
  {
   "cell_type": "code",
   "execution_count": 207,
   "id": "0d3aa2c0-8cab-41da-aeea-90212805ba22",
   "metadata": {},
   "outputs": [
    {
     "data": {
      "text/html": [
       "<div>\n",
       "<style scoped>\n",
       "    .dataframe tbody tr th:only-of-type {\n",
       "        vertical-align: middle;\n",
       "    }\n",
       "\n",
       "    .dataframe tbody tr th {\n",
       "        vertical-align: top;\n",
       "    }\n",
       "\n",
       "    .dataframe thead th {\n",
       "        text-align: right;\n",
       "    }\n",
       "</style>\n",
       "<table border=\"1\" class=\"dataframe\">\n",
       "  <thead>\n",
       "    <tr style=\"text-align: right;\">\n",
       "      <th></th>\n",
       "      <th>min</th>\n",
       "      <th>max</th>\n",
       "    </tr>\n",
       "    <tr>\n",
       "      <th>UN_Region</th>\n",
       "      <th></th>\n",
       "      <th></th>\n",
       "    </tr>\n",
       "  </thead>\n",
       "  <tbody>\n",
       "    <tr>\n",
       "      <th>Africa</th>\n",
       "      <td>0</td>\n",
       "      <td>14653</td>\n",
       "    </tr>\n",
       "    <tr>\n",
       "      <th>Americas</th>\n",
       "      <td>0</td>\n",
       "      <td>114090</td>\n",
       "    </tr>\n",
       "    <tr>\n",
       "      <th>Asia</th>\n",
       "      <td>0</td>\n",
       "      <td>72794</td>\n",
       "    </tr>\n",
       "    <tr>\n",
       "      <th>Europe</th>\n",
       "      <td>4836</td>\n",
       "      <td>234316</td>\n",
       "    </tr>\n",
       "    <tr>\n",
       "      <th>Oceania</th>\n",
       "      <td>0</td>\n",
       "      <td>60443</td>\n",
       "    </tr>\n",
       "    <tr>\n",
       "      <th>World</th>\n",
       "      <td>12235</td>\n",
       "      <td>12235</td>\n",
       "    </tr>\n",
       "  </tbody>\n",
       "</table>\n",
       "</div>"
      ],
      "text/plain": [
       "             min     max\n",
       "UN_Region               \n",
       "Africa         0   14653\n",
       "Americas       0  114090\n",
       "Asia           0   72794\n",
       "Europe      4836  234316\n",
       "Oceania        0   60443\n",
       "World      12235   12235"
      ]
     },
     "execution_count": 207,
     "metadata": {},
     "output_type": "execute_result"
    }
   ],
   "source": [
    "df.groupby(\"UN_Region\")[\"WorldBank_Estimate\"].agg([\"min\", \"max\"])"
   ]
  },
  {
   "cell_type": "code",
   "execution_count": 251,
   "id": "45e1e5cb-a0a0-49ac-becf-b7efed7970e6",
   "metadata": {},
   "outputs": [
    {
     "data": {
      "text/html": [
       "<div>\n",
       "<style scoped>\n",
       "    .dataframe tbody tr th:only-of-type {\n",
       "        vertical-align: middle;\n",
       "    }\n",
       "\n",
       "    .dataframe tbody tr th {\n",
       "        vertical-align: top;\n",
       "    }\n",
       "\n",
       "    .dataframe thead th {\n",
       "        text-align: right;\n",
       "    }\n",
       "</style>\n",
       "<table border=\"1\" class=\"dataframe\">\n",
       "  <thead>\n",
       "    <tr style=\"text-align: right;\">\n",
       "      <th></th>\n",
       "      <th>Country/Territory</th>\n",
       "      <th>UN_Region</th>\n",
       "      <th>IMF_Estimate</th>\n",
       "      <th>IMF_Year</th>\n",
       "      <th>WorldBank_Estimate</th>\n",
       "      <th>WorldBank_Year</th>\n",
       "      <th>UN_Estimate</th>\n",
       "      <th>UN_Year</th>\n",
       "    </tr>\n",
       "  </thead>\n",
       "  <tbody>\n",
       "    <tr>\n",
       "      <th>74</th>\n",
       "      <td>Seychelles</td>\n",
       "      <td>Africa</td>\n",
       "      <td>19536</td>\n",
       "      <td>2023</td>\n",
       "      <td>14653</td>\n",
       "      <td>2021</td>\n",
       "      <td>12085</td>\n",
       "      <td>2021</td>\n",
       "    </tr>\n",
       "  </tbody>\n",
       "</table>\n",
       "</div>"
      ],
      "text/plain": [
       "   Country/Territory UN_Region IMF_Estimate  IMF_Year  WorldBank_Estimate  \\\n",
       "74        Seychelles    Africa        19536      2023               14653   \n",
       "\n",
       "    WorldBank_Year  UN_Estimate  UN_Year  \n",
       "74            2021        12085     2021  "
      ]
     },
     "execution_count": 251,
     "metadata": {},
     "output_type": "execute_result"
    }
   ],
   "source": [
    "df.loc[df[\"UN_Region\"]==\"Africa\"].nlargest(1, \"WorldBank_Estimate\")"
   ]
  },
  {
   "cell_type": "markdown",
   "id": "3432bd13",
   "metadata": {
    "jp-MarkdownHeadingCollapsed": true
   },
   "source": [
    "## Checking Missing Values"
   ]
  },
  {
   "cell_type": "code",
   "execution_count": null,
   "id": "48996ae2",
   "metadata": {},
   "outputs": [],
   "source": [
    "# check missing value for each column"
   ]
  },
  {
   "cell_type": "code",
   "execution_count": 253,
   "id": "4ed58539-7b98-423d-a998-bf63a5b54cee",
   "metadata": {},
   "outputs": [
    {
     "data": {
      "text/plain": [
       "Country/Territory     0\n",
       "UN_Region             0\n",
       "IMF_Estimate          0\n",
       "IMF_Year              0\n",
       "WorldBank_Estimate    0\n",
       "WorldBank_Year        0\n",
       "UN_Estimate           0\n",
       "UN_Year               0\n",
       "dtype: int64"
      ]
     },
     "execution_count": 253,
     "metadata": {},
     "output_type": "execute_result"
    }
   ],
   "source": [
    "df.isnull().sum()"
   ]
  },
  {
   "cell_type": "code",
   "execution_count": null,
   "id": "194f30f0",
   "metadata": {},
   "outputs": [],
   "source": [
    "# check total number of missing values"
   ]
  },
  {
   "cell_type": "code",
   "execution_count": 255,
   "id": "a08c53e0",
   "metadata": {},
   "outputs": [
    {
     "data": {
      "text/plain": [
       "0"
      ]
     },
     "execution_count": 255,
     "metadata": {},
     "output_type": "execute_result"
    }
   ],
   "source": [
    "df.isnull().sum().sum()"
   ]
  },
  {
   "cell_type": "code",
   "execution_count": null,
   "id": "b606b7f3-bafd-42b0-a153-ccf2975c03a2",
   "metadata": {},
   "outputs": [],
   "source": []
  },
  {
   "cell_type": "code",
   "execution_count": null,
   "id": "ffb84567-3048-4d9d-abd4-99598f3ddbe8",
   "metadata": {},
   "outputs": [],
   "source": []
  },
  {
   "cell_type": "code",
   "execution_count": null,
   "id": "264795b5-206d-4c19-9978-71fe1a54a475",
   "metadata": {},
   "outputs": [],
   "source": []
  },
  {
   "cell_type": "code",
   "execution_count": null,
   "id": "4fc7446d-90cf-4a53-9c39-bc87fc14c5a9",
   "metadata": {},
   "outputs": [],
   "source": []
  },
  {
   "cell_type": "markdown",
   "id": "84e9d86b",
   "metadata": {},
   "source": [
    "## Visualization"
   ]
  },
  {
   "cell_type": "code",
   "execution_count": 257,
   "id": "bf0b0c79",
   "metadata": {},
   "outputs": [
    {
     "name": "stderr",
     "output_type": "stream",
     "text": [
      "Matplotlib is building the font cache; this may take a moment.\n"
     ]
    }
   ],
   "source": [
    "import matplotlib.pyplot as plt\n",
    "import seaborn as sns"
   ]
  },
  {
   "cell_type": "markdown",
   "id": "4a4da1d7",
   "metadata": {
    "jp-MarkdownHeadingCollapsed": true
   },
   "source": [
    "### Histogram"
   ]
  },
  {
   "cell_type": "code",
   "execution_count": 258,
   "id": "a924b0ee",
   "metadata": {},
   "outputs": [
    {
     "data": {
      "image/png": "[encoded data removed]",
      "text/plain": [
       "<Figure size 1000x800 with 6 Axes>"
      ]
     },
     "metadata": {},
     "output_type": "display_data"
    }
   ],
   "source": [
    "df.hist(figsize=(10,8))\n",
    "plt.show()"
   ]
  },
  {
   "cell_type": "code",
   "execution_count": 275,
   "id": "42ecb079-e64f-4db4-8fff-eea57bca2425",
   "metadata": {},
   "outputs": [],
   "source": [
    "df[\"IMF_Estimate\"] = df[\"IMF_Estimate\"].astype(\"int64\")"
   ]
  },
  {
   "cell_type": "code",
   "execution_count": 273,
   "id": "45fc4edf",
   "metadata": {},
   "outputs": [
    {
     "data": {
      "image/png": "[encoded data removed]",
      "text/plain": [
       "<Figure size 1200x900 with 4 Axes>"
      ]
     },
     "metadata": {},
     "output_type": "display_data"
    }
   ],
   "source": [
    "df[[\"IMF_Estimate\", \"UN_Estimate\", \"WorldBank_Estimate\"]].hist(figsize=(12,9))\n",
    "\n",
    "plt.show()"
   ]
  },
  {
   "cell_type": "code",
   "execution_count": 277,
   "id": "765a97e0",
   "metadata": {},
   "outputs": [
    {
     "data": {
      "image/png": "[encoded data removed]",
      "text/plain": [
       "<Figure size 1200x500 with 4 Axes>"
      ]
     },
     "metadata": {},
     "output_type": "display_data"
    }
   ],
   "source": [
    "df[[\"IMF_Estimate\", \"UN_Estimate\", \"WorldBank_Estimate\"]].hist(bins=5, figsize=(12,5))\n",
    "\n",
    "plt.show()"
   ]
  },
  {
   "cell_type": "code",
   "execution_count": 265,
   "id": "1f89e26d",
   "metadata": {},
   "outputs": [
    {
     "data": {
      "text/plain": [
       "min         0\n",
       "max    234316\n",
       "Name: WorldBank_Estimate, dtype: int64"
      ]
     },
     "execution_count": 265,
     "metadata": {},
     "output_type": "execute_result"
    }
   ],
   "source": [
    "df[\"WorldBank_Estimate\"].agg([\"min\",\"max\"])"
   ]
  },
  {
   "cell_type": "code",
   "execution_count": null,
   "id": "623ac797",
   "metadata": {},
   "outputs": [],
   "source": [
    "234316/5\n",
    "#1 bin size if bins=5"
   ]
  },
  {
   "cell_type": "code",
   "execution_count": 267,
   "id": "58c05fdf-ab62-4f74-9c3d-b4dbf8f9dc55",
   "metadata": {},
   "outputs": [
    {
     "data": {
      "text/plain": [
       "195"
      ]
     },
     "execution_count": 267,
     "metadata": {},
     "output_type": "execute_result"
    }
   ],
   "source": [
    "df[df[\"WorldBank_Estimate\"]<=46863.2][\"WorldBank_Estimate\"].count()"
   ]
  },
  {
   "cell_type": "code",
   "execution_count": null,
   "id": "a36546fa",
   "metadata": {},
   "outputs": [],
   "source": [
    "234316/10\n",
    "#1 bin size if bins not given any number"
   ]
  },
  {
   "cell_type": "code",
   "execution_count": 279,
   "id": "79c3d1e5",
   "metadata": {},
   "outputs": [
    {
     "data": {
      "image/png": "[encoded data removed]",
      "text/plain": [
       "<Figure size 1200x600 with 4 Axes>"
      ]
     },
     "metadata": {},
     "output_type": "display_data"
    }
   ],
   "source": [
    "df[[\"IMF_Estimate\", \"UN_Estimate\", \"WorldBank_Estimate\"]].hist(bins=3, figsize=(12,6))\n",
    "\n",
    "plt.show()"
   ]
  },
  {
   "cell_type": "code",
   "execution_count": 283,
   "id": "05e7fd91",
   "metadata": {},
   "outputs": [
    {
     "data": {
      "image/png": "[encoded data removed]",
      "text/plain": [
       "<Figure size 1500x800 with 4 Axes>"
      ]
     },
     "metadata": {},
     "output_type": "display_data"
    }
   ],
   "source": [
    "df[[\"IMF_Estimate\", \"UN_Estimate\", \"WorldBank_Estimate\"]].hist(bins=15, figsize=(15,8))\n",
    "\n",
    "#23400/15 = 15300\n",
    "plt.show()"
   ]
  },
  {
   "cell_type": "markdown",
   "id": "e70fb08b",
   "metadata": {
    "jp-MarkdownHeadingCollapsed": true
   },
   "source": [
    "### Correlation Heatmap"
   ]
  },
  {
   "cell_type": "code",
   "execution_count": 285,
   "id": "e9ddd23e",
   "metadata": {},
   "outputs": [
    {
     "data": {
      "text/html": [
       "<div>\n",
       "<style scoped>\n",
       "    .dataframe tbody tr th:only-of-type {\n",
       "        vertical-align: middle;\n",
       "    }\n",
       "\n",
       "    .dataframe tbody tr th {\n",
       "        vertical-align: top;\n",
       "    }\n",
       "\n",
       "    .dataframe thead th {\n",
       "        text-align: right;\n",
       "    }\n",
       "</style>\n",
       "<table border=\"1\" class=\"dataframe\">\n",
       "  <thead>\n",
       "    <tr style=\"text-align: right;\">\n",
       "      <th></th>\n",
       "      <th>IMF_Estimate</th>\n",
       "      <th>UN_Estimate</th>\n",
       "      <th>WorldBank_Estimate</th>\n",
       "    </tr>\n",
       "  </thead>\n",
       "  <tbody>\n",
       "    <tr>\n",
       "      <th>IMF_Estimate</th>\n",
       "      <td>1.000000</td>\n",
       "      <td>0.976263</td>\n",
       "      <td>0.974294</td>\n",
       "    </tr>\n",
       "    <tr>\n",
       "      <th>UN_Estimate</th>\n",
       "      <td>0.976263</td>\n",
       "      <td>1.000000</td>\n",
       "      <td>0.930331</td>\n",
       "    </tr>\n",
       "    <tr>\n",
       "      <th>WorldBank_Estimate</th>\n",
       "      <td>0.974294</td>\n",
       "      <td>0.930331</td>\n",
       "      <td>1.000000</td>\n",
       "    </tr>\n",
       "  </tbody>\n",
       "</table>\n",
       "</div>"
      ],
      "text/plain": [
       "                    IMF_Estimate  UN_Estimate  WorldBank_Estimate\n",
       "IMF_Estimate            1.000000     0.976263            0.974294\n",
       "UN_Estimate             0.976263     1.000000            0.930331\n",
       "WorldBank_Estimate      0.974294     0.930331            1.000000"
      ]
     },
     "execution_count": 285,
     "metadata": {},
     "output_type": "execute_result"
    }
   ],
   "source": [
    "df[[\"IMF_Estimate\", \"UN_Estimate\", \"WorldBank_Estimate\"]].corr()"
   ]
  },
  {
   "cell_type": "code",
   "execution_count": 287,
   "id": "f6dbc603",
   "metadata": {},
   "outputs": [
    {
     "data": {
      "image/png": "[encoded data removed]",
      "text/plain": [
       "<Figure size 900x600 with 2 Axes>"
      ]
     },
     "metadata": {},
     "output_type": "display_data"
    }
   ],
   "source": [
    "corr = df[[\"IMF_Estimate\", \"UN_Estimate\", \"WorldBank_Estimate\"]].corr()\n",
    "\n",
    "plt.figure(figsize=(9,6))\n",
    "sns.heatmap(corr)\n",
    "\n",
    "plt.show()"
   ]
  },
  {
   "cell_type": "code",
   "execution_count": 289,
   "id": "0ea2c2c6",
   "metadata": {},
   "outputs": [
    {
     "data": {
      "image/png": "[encoded data removed]",
      "text/plain": [
       "<Figure size 900x600 with 2 Axes>"
      ]
     },
     "metadata": {},
     "output_type": "display_data"
    }
   ],
   "source": [
    "corr = df[[\"IMF_Estimate\", \"UN_Estimate\", \"WorldBank_Estimate\"]].corr()\n",
    "\n",
    "plt.figure(figsize=(9,6))\n",
    "\n",
    "sns.heatmap(corr, annot=True)\n",
    "\n",
    "plt.show()"
   ]
  },
  {
   "cell_type": "code",
   "execution_count": 291,
   "id": "ec56839b",
   "metadata": {},
   "outputs": [
    {
     "data": {
      "image/png": "[encoded data removed]",
      "text/plain": [
       "<Figure size 900x600 with 2 Axes>"
      ]
     },
     "metadata": {},
     "output_type": "display_data"
    }
   ],
   "source": [
    "corr = df[[\"IMF_Estimate\", \"UN_Estimate\", \"WorldBank_Estimate\"]].corr()\n",
    "\n",
    "plt.figure(figsize=(9,6))\n",
    "\n",
    "sns.heatmap(corr, annot=True, fmt=\".2f\", cmap = 'GnBu', annot_kws={\"size\": 12})\n",
    "\n",
    "plt.show()"
   ]
  },
  {
   "cell_type": "code",
   "execution_count": 293,
   "id": "a4688e18",
   "metadata": {},
   "outputs": [
    {
     "data": {
      "image/png": "[encoded data removed]",
      "text/plain": [
       "<Figure size 900x600 with 2 Axes>"
      ]
     },
     "metadata": {},
     "output_type": "display_data"
    }
   ],
   "source": [
    "corr = df[[\"IMF_Estimate\", \"UN_Estimate\", \"WorldBank_Estimate\"]].corr()\n",
    "\n",
    "plt.figure(figsize=(9,6))\n",
    "\n",
    "sns.heatmap(corr, annot=True, cmap = 'Purples')\n",
    "\n",
    "plt.title(\"Correlation Map\")\n",
    "\n",
    "\n",
    "plt.show()"
   ]
  },
  {
   "cell_type": "code",
   "execution_count": 295,
   "id": "acba3c9a-0a72-40a0-80f7-be19ec50d5e0",
   "metadata": {},
   "outputs": [
    {
     "data": {
      "image/png": "[encoded data removed]",
      "text/plain": [
       "<Figure size 900x600 with 2 Axes>"
      ]
     },
     "metadata": {},
     "output_type": "display_data"
    }
   ],
   "source": [
    "corr = df.select_dtypes(include=[int, float]).corr()\n",
    " \n",
    "plt.figure(figsize=(9,6))\n",
    " \n",
    "sns.heatmap(corr, annot=True, cmap = 'Purples')\n",
    " \n",
    "plt.show()"
   ]
  },
  {
   "cell_type": "markdown",
   "id": "8ee4dc00",
   "metadata": {
    "jp-MarkdownHeadingCollapsed": true
   },
   "source": [
    "### Bar plot"
   ]
  },
  {
   "cell_type": "code",
   "execution_count": 297,
   "id": "4ca42efd",
   "metadata": {},
   "outputs": [
    {
     "data": {
      "text/html": [
       "<div>\n",
       "<style scoped>\n",
       "    .dataframe tbody tr th:only-of-type {\n",
       "        vertical-align: middle;\n",
       "    }\n",
       "\n",
       "    .dataframe tbody tr th {\n",
       "        vertical-align: top;\n",
       "    }\n",
       "\n",
       "    .dataframe thead th {\n",
       "        text-align: right;\n",
       "    }\n",
       "</style>\n",
       "<table border=\"1\" class=\"dataframe\">\n",
       "  <thead>\n",
       "    <tr style=\"text-align: right;\">\n",
       "      <th></th>\n",
       "      <th>Country/Territory</th>\n",
       "      <th>UN_Region</th>\n",
       "      <th>IMF_Estimate</th>\n",
       "      <th>IMF_Year</th>\n",
       "      <th>WorldBank_Estimate</th>\n",
       "      <th>WorldBank_Year</th>\n",
       "      <th>UN_Estimate</th>\n",
       "      <th>UN_Year</th>\n",
       "    </tr>\n",
       "  </thead>\n",
       "  <tbody>\n",
       "    <tr>\n",
       "      <th>1</th>\n",
       "      <td>Monaco</td>\n",
       "      <td>Europe</td>\n",
       "      <td>234316</td>\n",
       "      <td>0</td>\n",
       "      <td>234316</td>\n",
       "      <td>2021</td>\n",
       "      <td>234317</td>\n",
       "      <td>2021</td>\n",
       "    </tr>\n",
       "    <tr>\n",
       "      <th>2</th>\n",
       "      <td>Liechtenstein</td>\n",
       "      <td>Europe</td>\n",
       "      <td>163507</td>\n",
       "      <td>0</td>\n",
       "      <td>157755</td>\n",
       "      <td>2020</td>\n",
       "      <td>169260</td>\n",
       "      <td>2021</td>\n",
       "    </tr>\n",
       "    <tr>\n",
       "      <th>3</th>\n",
       "      <td>Luxembourg</td>\n",
       "      <td>Europe</td>\n",
       "      <td>132372</td>\n",
       "      <td>2023</td>\n",
       "      <td>133590</td>\n",
       "      <td>2021</td>\n",
       "      <td>133745</td>\n",
       "      <td>2021</td>\n",
       "    </tr>\n",
       "    <tr>\n",
       "      <th>4</th>\n",
       "      <td>Ireland</td>\n",
       "      <td>Europe</td>\n",
       "      <td>114581</td>\n",
       "      <td>2023</td>\n",
       "      <td>100172</td>\n",
       "      <td>2021</td>\n",
       "      <td>101109</td>\n",
       "      <td>2021</td>\n",
       "    </tr>\n",
       "    <tr>\n",
       "      <th>5</th>\n",
       "      <td>Bermuda</td>\n",
       "      <td>Americas</td>\n",
       "      <td>113371</td>\n",
       "      <td>0</td>\n",
       "      <td>114090</td>\n",
       "      <td>2021</td>\n",
       "      <td>112653</td>\n",
       "      <td>2021</td>\n",
       "    </tr>\n",
       "  </tbody>\n",
       "</table>\n",
       "</div>"
      ],
      "text/plain": [
       "  Country/Territory UN_Region  IMF_Estimate  IMF_Year  WorldBank_Estimate  \\\n",
       "1            Monaco    Europe        234316         0              234316   \n",
       "2     Liechtenstein    Europe        163507         0              157755   \n",
       "3        Luxembourg    Europe        132372      2023              133590   \n",
       "4           Ireland    Europe        114581      2023              100172   \n",
       "5           Bermuda  Americas        113371         0              114090   \n",
       "\n",
       "   WorldBank_Year  UN_Estimate  UN_Year  \n",
       "1            2021       234317     2021  \n",
       "2            2020       169260     2021  \n",
       "3            2021       133745     2021  \n",
       "4            2021       101109     2021  \n",
       "5            2021       112653     2021  "
      ]
     },
     "execution_count": 297,
     "metadata": {},
     "output_type": "execute_result"
    }
   ],
   "source": [
    "df.head()"
   ]
  },
  {
   "cell_type": "code",
   "execution_count": 299,
   "id": "09e70a00",
   "metadata": {},
   "outputs": [
    {
     "data": {
      "image/png": "[encoded data removed]",
      "text/plain": [
       "<Figure size 640x480 with 1 Axes>"
      ]
     },
     "metadata": {},
     "output_type": "display_data"
    }
   ],
   "source": [
    "sns.barplot(x=\"UN_Region\", y=\"WorldBank_Estimate\", data=df, errorbar=None)\n",
    "\n",
    "plt.show()"
   ]
  },
  {
   "cell_type": "code",
   "execution_count": 301,
   "id": "6a7c7377",
   "metadata": {},
   "outputs": [
    {
     "data": {
      "image/png": "[encoded data removed]",
      "text/plain": [
       "<Figure size 640x480 with 1 Axes>"
      ]
     },
     "metadata": {},
     "output_type": "display_data"
    }
   ],
   "source": [
    "sns.barplot(x=\"WorldBank_Estimate\", y=\"UN_Region\", data=df, errorbar=None)\n",
    "\n",
    "plt.show()"
   ]
  },
  {
   "cell_type": "code",
   "execution_count": 303,
   "id": "f8659907",
   "metadata": {},
   "outputs": [
    {
     "data": {
      "image/png": "[encoded data removed]",
      "text/plain": [
       "<Figure size 800x500 with 1 Axes>"
      ]
     },
     "metadata": {},
     "output_type": "display_data"
    }
   ],
   "source": [
    "fig = plt.figure(figsize = (8,5))\n",
    "\n",
    "ax = sns.barplot(x = \"IMF_Estimate\",  y = \"UN_Region\",  \n",
    "data = df, errorbar = None)\n",
    "\n",
    "ax.bar_label(ax.containers[0])\n",
    "\n",
    "plt.show()"
   ]
  },
  {
   "cell_type": "code",
   "execution_count": 305,
   "id": "9a15bcad",
   "metadata": {},
   "outputs": [
    {
     "data": {
      "image/png": "[encoded data removed]",
      "text/plain": [
       "<Figure size 800x500 with 1 Axes>"
      ]
     },
     "metadata": {},
     "output_type": "display_data"
    }
   ],
   "source": [
    "fig = plt.figure(figsize = (8,5)) \n",
    "ax = sns.barplot(x = \"UN_Region\",  y = \"IMF_Estimate\", \n",
    "                 data = df, errorbar = None) \n",
    "\n",
    "ax.bar_label(ax.containers[0]) \n",
    "\n",
    "\n",
    "ax.set_title(\"Regions by IMF Estimate\")\n",
    "plt.show()"
   ]
  },
  {
   "cell_type": "code",
   "execution_count": null,
   "id": "6e99479a",
   "metadata": {},
   "outputs": [],
   "source": []
  },
  {
   "cell_type": "markdown",
   "id": "f1aa35d0",
   "metadata": {
    "jp-MarkdownHeadingCollapsed": true
   },
   "source": [
    "### Scatter Plot"
   ]
  },
  {
   "cell_type": "code",
   "execution_count": 307,
   "id": "d8583563",
   "metadata": {},
   "outputs": [
    {
     "data": {
      "image/png": "[encoded data removed]",
      "text/plain": [
       "<Figure size 1000x600 with 1 Axes>"
      ]
     },
     "metadata": {},
     "output_type": "display_data"
    }
   ],
   "source": [
    "df.plot(x='UN_Region', y='UN_Estimate', kind='scatter',\n",
    "        figsize=(10,6),\n",
    "        title=\"Scatter Plot\")\n",
    "\n",
    "plt.show()"
   ]
  },
  {
   "cell_type": "code",
   "execution_count": null,
   "id": "67dc9155",
   "metadata": {},
   "outputs": [],
   "source": []
  },
  {
   "cell_type": "code",
   "execution_count": null,
   "id": "510f198a",
   "metadata": {},
   "outputs": [],
   "source": []
  },
  {
   "cell_type": "code",
   "execution_count": null,
   "id": "14284f4f",
   "metadata": {},
   "outputs": [],
   "source": []
  },
  {
   "cell_type": "code",
   "execution_count": null,
   "id": "f56493b0",
   "metadata": {},
   "outputs": [],
   "source": []
  },
  {
   "cell_type": "markdown",
   "id": "08663651",
   "metadata": {
    "jp-MarkdownHeadingCollapsed": true
   },
   "source": [
    "### Boxplot and Outliers"
   ]
  },
  {
   "attachments": {
    "da6a7715-3b1c-4165-a2a9-4dc8ca096bd7.png": {
     "image/png": "[encoded data removed]"
    }
   },
   "cell_type": "markdown",
   "id": "fb12e7bd-1553-4cd8-b19d-9cb3d4589107",
   "metadata": {},
   "source": [
    "![image.png](attachment:da6a7715-3b1c-4165-a2a9-4dc8ca096bd7.png)"
   ]
  },
  {
   "cell_type": "code",
   "execution_count": 309,
   "id": "3ceac0a3",
   "metadata": {},
   "outputs": [
    {
     "data": {
      "image/png": "[encoded data removed]",
      "text/plain": [
       "<Figure size 640x480 with 1 Axes>"
      ]
     },
     "metadata": {},
     "output_type": "display_data"
    }
   ],
   "source": [
    "sns.boxplot(x=df[\"UN_Estimate\"])\n",
    "\n",
    "plt.show()"
   ]
  },
  {
   "cell_type": "code",
   "execution_count": null,
   "id": "7081b2d4",
   "metadata": {},
   "outputs": [],
   "source": [
    "df[df[\"UN_Estimate\"]>50000].head()"
   ]
  },
  {
   "cell_type": "code",
   "execution_count": 311,
   "id": "99282133",
   "metadata": {},
   "outputs": [
    {
     "data": {
      "image/png": "[encoded data removed]",
      "text/plain": [
       "<Figure size 640x480 with 1 Axes>"
      ]
     },
     "metadata": {},
     "output_type": "display_data"
    }
   ],
   "source": [
    "sns.boxplot(x=df[\"WorldBank_Estimate\"])\n",
    "\n",
    "plt.show()"
   ]
  },
  {
   "cell_type": "code",
   "execution_count": 313,
   "id": "6ba80c49",
   "metadata": {},
   "outputs": [
    {
     "data": {
      "image/png": "[encoded data removed]",
      "text/plain": [
       "<Figure size 640x480 with 1 Axes>"
      ]
     },
     "metadata": {},
     "output_type": "display_data"
    }
   ],
   "source": [
    "sns.boxplot(x=df[\"IMF_Estimate\"])\n",
    "\n",
    "plt.show()"
   ]
  },
  {
   "cell_type": "code",
   "execution_count": null,
   "id": "983a04a2",
   "metadata": {},
   "outputs": [],
   "source": [
    "df[df[\"UN_Estimate\"]>100000]"
   ]
  },
  {
   "cell_type": "code",
   "execution_count": 315,
   "id": "91b0c382",
   "metadata": {},
   "outputs": [
    {
     "data": {
      "text/plain": [
       "17767.304932735427"
      ]
     },
     "execution_count": 315,
     "metadata": {},
     "output_type": "execute_result"
    }
   ],
   "source": [
    "df.UN_Estimate.mean()"
   ]
  },
  {
   "cell_type": "code",
   "execution_count": 317,
   "id": "bad9872e",
   "metadata": {},
   "outputs": [
    {
     "data": {
      "text/plain": [
       "(223, 8)"
      ]
     },
     "execution_count": 317,
     "metadata": {},
     "output_type": "execute_result"
    }
   ],
   "source": [
    "df.shape"
   ]
  },
  {
   "cell_type": "code",
   "execution_count": null,
   "id": "78b3c8ef",
   "metadata": {},
   "outputs": [],
   "source": []
  },
  {
   "cell_type": "markdown",
   "id": "080decce",
   "metadata": {
    "jp-MarkdownHeadingCollapsed": true
   },
   "source": [
    "## Create another dataframe called data excluding  5 countries with highest UN estimate"
   ]
  },
  {
   "cell_type": "code",
   "execution_count": null,
   "id": "1c0b325d",
   "metadata": {},
   "outputs": [],
   "source": [
    "data = df[-(df[\"UN_Estimate\"]>100000)]"
   ]
  },
  {
   "cell_type": "code",
   "execution_count": null,
   "id": "65788d80",
   "metadata": {},
   "outputs": [],
   "source": [
    "data.head()"
   ]
  },
  {
   "cell_type": "code",
   "execution_count": null,
   "id": "4690f065",
   "metadata": {},
   "outputs": [],
   "source": [
    "data.shape"
   ]
  },
  {
   "cell_type": "code",
   "execution_count": null,
   "id": "273c9a10",
   "metadata": {},
   "outputs": [],
   "source": [
    "data.UN_Estimate.mean()"
   ]
  },
  {
   "cell_type": "code",
   "execution_count": null,
   "id": "1ca86f8a-0ced-4e5b-990d-b16b8fa3377a",
   "metadata": {},
   "outputs": [],
   "source": [
    "df.UN_Estimate.mean()"
   ]
  },
  {
   "attachments": {
    "image.png": {
     "image/png": "[encoded data removed]"
    }
   },
   "cell_type": "markdown",
   "id": "f5e3f021",
   "metadata": {},
   "source": [
    "![image.png](attachment:image.png)"
   ]
  },
  {
   "cell_type": "code",
   "execution_count": null,
   "id": "860f66c6",
   "metadata": {},
   "outputs": [],
   "source": [
    "sns.boxplot(x=data[\"UN_Estimate\"])\n",
    "plt.show()"
   ]
  },
  {
   "cell_type": "markdown",
   "id": "d47b00f3",
   "metadata": {
    "jp-MarkdownHeadingCollapsed": true
   },
   "source": [
    "## Removing outliers"
   ]
  },
  {
   "attachments": {
    "da6a7715-3b1c-4165-a2a9-4dc8ca096bd7.png": {
     "image/png": "[encoded data removed]"
    }
   },
   "cell_type": "markdown",
   "id": "113a0eab-5238-4ec2-9acc-c2200a73ae85",
   "metadata": {},
   "source": [
    "![image.png](attachment:da6a7715-3b1c-4165-a2a9-4dc8ca096bd7.png)"
   ]
  },
  {
   "attachments": {
    "image.png": {
     "image/png": "[encoded data removed]"
    }
   },
   "cell_type": "markdown",
   "id": "3f18db3e-dbbe-4455-83b6-b4c25453dce7",
   "metadata": {},
   "source": [
    "![image.png](attachment:image.png)"
   ]
  },
  {
   "cell_type": "code",
   "execution_count": 319,
   "id": "81b2a144",
   "metadata": {},
   "outputs": [
    {
     "data": {
      "text/plain": [
       "2039.0"
      ]
     },
     "execution_count": 319,
     "metadata": {},
     "output_type": "execute_result"
    }
   ],
   "source": [
    "lower_q = df[\"UN_Estimate\"].quantile(0.25)\n",
    "lower_q"
   ]
  },
  {
   "cell_type": "code",
   "execution_count": 321,
   "id": "4d2d9908",
   "metadata": {},
   "outputs": [
    {
     "data": {
      "text/plain": [
       "20740.0"
      ]
     },
     "execution_count": 321,
     "metadata": {},
     "output_type": "execute_result"
    }
   ],
   "source": [
    "higher_q = df[\"UN_Estimate\"].quantile(0.75)\n",
    "higher_q"
   ]
  },
  {
   "cell_type": "code",
   "execution_count": 323,
   "id": "aed82f2e-fa8f-48ab-9cea-3bce39b624c9",
   "metadata": {},
   "outputs": [
    {
     "data": {
      "text/plain": [
       "18701.0"
      ]
     },
     "execution_count": 323,
     "metadata": {},
     "output_type": "execute_result"
    }
   ],
   "source": [
    "iqr = higher_q - lower_q\n",
    "iqr"
   ]
  },
  {
   "cell_type": "code",
   "execution_count": 325,
   "id": "305e72f9-4175-4f5f-851d-336258aa84f8",
   "metadata": {},
   "outputs": [
    {
     "data": {
      "text/plain": [
       "48791.5"
      ]
     },
     "execution_count": 325,
     "metadata": {},
     "output_type": "execute_result"
    }
   ],
   "source": [
    "upper_boundary = higher_q + 1.5 * iqr\n",
    "upper_boundary"
   ]
  },
  {
   "cell_type": "code",
   "execution_count": 327,
   "id": "f4c90c62-a405-4c6c-9ec4-b4f8af39c09c",
   "metadata": {},
   "outputs": [
    {
     "data": {
      "text/plain": [
       "-26012.5"
      ]
     },
     "execution_count": 327,
     "metadata": {},
     "output_type": "execute_result"
    }
   ],
   "source": [
    "lower_boundary = lower_q - 1.5 * iqr\n",
    "lower_boundary"
   ]
  },
  {
   "cell_type": "code",
   "execution_count": 329,
   "id": "76e66b47",
   "metadata": {},
   "outputs": [],
   "source": [
    "df_filtered = df[(df[\"UN_Estimate\"] < upper_boundary) & (df[\"UN_Estimate\"] > lower_boundary)]"
   ]
  },
  {
   "cell_type": "code",
   "execution_count": 331,
   "id": "69e39033",
   "metadata": {},
   "outputs": [
    {
     "data": {
      "text/html": [
       "<div>\n",
       "<style scoped>\n",
       "    .dataframe tbody tr th:only-of-type {\n",
       "        vertical-align: middle;\n",
       "    }\n",
       "\n",
       "    .dataframe tbody tr th {\n",
       "        vertical-align: top;\n",
       "    }\n",
       "\n",
       "    .dataframe thead th {\n",
       "        text-align: right;\n",
       "    }\n",
       "</style>\n",
       "<table border=\"1\" class=\"dataframe\">\n",
       "  <thead>\n",
       "    <tr style=\"text-align: right;\">\n",
       "      <th></th>\n",
       "      <th>Country/Territory</th>\n",
       "      <th>UN_Region</th>\n",
       "      <th>IMF_Estimate</th>\n",
       "      <th>IMF_Year</th>\n",
       "      <th>WorldBank_Estimate</th>\n",
       "      <th>WorldBank_Year</th>\n",
       "      <th>UN_Estimate</th>\n",
       "      <th>UN_Year</th>\n",
       "    </tr>\n",
       "  </thead>\n",
       "  <tbody>\n",
       "    <tr>\n",
       "      <th>9</th>\n",
       "      <td>Isle of Man</td>\n",
       "      <td>Europe</td>\n",
       "      <td>43579</td>\n",
       "      <td>0</td>\n",
       "      <td>87158</td>\n",
       "      <td>2019</td>\n",
       "      <td>0</td>\n",
       "      <td>0</td>\n",
       "    </tr>\n",
       "    <tr>\n",
       "      <th>14</th>\n",
       "      <td>Channel Islands</td>\n",
       "      <td>Europe</td>\n",
       "      <td>37576</td>\n",
       "      <td>0</td>\n",
       "      <td>75153</td>\n",
       "      <td>2007</td>\n",
       "      <td>0</td>\n",
       "      <td>0</td>\n",
       "    </tr>\n",
       "    <tr>\n",
       "      <th>15</th>\n",
       "      <td>Faroe Islands</td>\n",
       "      <td>Europe</td>\n",
       "      <td>34505</td>\n",
       "      <td>0</td>\n",
       "      <td>69010</td>\n",
       "      <td>2021</td>\n",
       "      <td>0</td>\n",
       "      <td>0</td>\n",
       "    </tr>\n",
       "    <tr>\n",
       "      <th>29</th>\n",
       "      <td>Macau</td>\n",
       "      <td>Asia</td>\n",
       "      <td>50571</td>\n",
       "      <td>2023</td>\n",
       "      <td>43874</td>\n",
       "      <td>2021</td>\n",
       "      <td>43555</td>\n",
       "      <td>2021</td>\n",
       "    </tr>\n",
       "    <tr>\n",
       "      <th>30</th>\n",
       "      <td>United Arab Emirates</td>\n",
       "      <td>Asia</td>\n",
       "      <td>49451</td>\n",
       "      <td>2023</td>\n",
       "      <td>44316</td>\n",
       "      <td>2021</td>\n",
       "      <td>43295</td>\n",
       "      <td>2021</td>\n",
       "    </tr>\n",
       "  </tbody>\n",
       "</table>\n",
       "</div>"
      ],
      "text/plain": [
       "       Country/Territory UN_Region  IMF_Estimate  IMF_Year  \\\n",
       "9            Isle of Man    Europe         43579         0   \n",
       "14       Channel Islands    Europe         37576         0   \n",
       "15         Faroe Islands    Europe         34505         0   \n",
       "29                 Macau      Asia         50571      2023   \n",
       "30  United Arab Emirates      Asia         49451      2023   \n",
       "\n",
       "    WorldBank_Estimate  WorldBank_Year  UN_Estimate  UN_Year  \n",
       "9                87158            2019            0        0  \n",
       "14               75153            2007            0        0  \n",
       "15               69010            2021            0        0  \n",
       "29               43874            2021        43555     2021  \n",
       "30               44316            2021        43295     2021  "
      ]
     },
     "execution_count": 331,
     "metadata": {},
     "output_type": "execute_result"
    }
   ],
   "source": [
    "df_filtered.head()"
   ]
  },
  {
   "cell_type": "code",
   "execution_count": 333,
   "id": "182221f6",
   "metadata": {},
   "outputs": [
    {
     "data": {
      "text/plain": [
       "(196, 8)"
      ]
     },
     "execution_count": 333,
     "metadata": {},
     "output_type": "execute_result"
    }
   ],
   "source": [
    "df_filtered.shape\n",
    "# there were 223 rows - 196 = 27 outliers dropped"
   ]
  },
  {
   "cell_type": "code",
   "execution_count": 335,
   "id": "e1c70288",
   "metadata": {},
   "outputs": [
    {
     "data": {
      "text/plain": [
       "9415.168367346938"
      ]
     },
     "execution_count": 335,
     "metadata": {},
     "output_type": "execute_result"
    }
   ],
   "source": [
    "df_filtered.UN_Estimate.mean()"
   ]
  },
  {
   "cell_type": "code",
   "execution_count": 337,
   "id": "97b2a6f8-8898-4184-acca-922ca7a303b2",
   "metadata": {},
   "outputs": [
    {
     "data": {
      "text/plain": [
       "17767.304932735427"
      ]
     },
     "execution_count": 337,
     "metadata": {},
     "output_type": "execute_result"
    }
   ],
   "source": [
    "df.UN_Estimate.mean()"
   ]
  },
  {
   "cell_type": "code",
   "execution_count": 339,
   "id": "1dbffbdf",
   "metadata": {},
   "outputs": [
    {
     "data": {
      "text/plain": [
       "11096.647959183674"
      ]
     },
     "execution_count": 339,
     "metadata": {},
     "output_type": "execute_result"
    }
   ],
   "source": [
    "#how can we create a table with following \n",
    "df_filtered.WorldBank_Estimate.mean()"
   ]
  },
  {
   "cell_type": "code",
   "execution_count": 341,
   "id": "17da2063-80e6-4530-b3f3-dd8af25402af",
   "metadata": {},
   "outputs": [
    {
     "data": {
      "text/plain": [
       "18927.417040358745"
      ]
     },
     "execution_count": 341,
     "metadata": {},
     "output_type": "execute_result"
    }
   ],
   "source": [
    "df.WorldBank_Estimate.mean()"
   ]
  },
  {
   "cell_type": "code",
   "execution_count": 343,
   "id": "6fee31d1",
   "metadata": {},
   "outputs": [
    {
     "data": {
      "text/plain": [
       "11538.882653061224"
      ]
     },
     "execution_count": 343,
     "metadata": {},
     "output_type": "execute_result"
    }
   ],
   "source": [
    "df_filtered.IMF_Estimate.mean()"
   ]
  },
  {
   "cell_type": "code",
   "execution_count": 345,
   "id": "7ed56b48-b1a1-4e70-b9cb-fecc961f2993",
   "metadata": {},
   "outputs": [
    {
     "data": {
      "text/plain": [
       "19935.022421524664"
      ]
     },
     "execution_count": 345,
     "metadata": {},
     "output_type": "execute_result"
    }
   ],
   "source": [
    "df.IMF_Estimate.mean()"
   ]
  },
  {
   "cell_type": "code",
   "execution_count": null,
   "id": "2dcdc901-c30d-4759-9a2b-548533540be2",
   "metadata": {},
   "outputs": [],
   "source": []
  }
 ],
 "metadata": {
  "kernelspec": {
   "display_name": "Python 3 (ipykernel)",
   "language": "python",
   "name": "python3"
  },
  "language_info": {
   "codemirror_mode": {
    "name": "ipython",
    "version": 3
   },
   "file_extension": ".py",
   "mimetype": "text/x-python",
   "name": "python",
   "nbconvert_exporter": "python",
   "pygments_lexer": "ipython3",
   "version": "3.12.7"
  }
 },
 "nbformat": 4,
 "nbformat_minor": 5
}
