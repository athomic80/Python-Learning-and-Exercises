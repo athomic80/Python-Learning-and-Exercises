{
 "cells": [
  {
   "cell_type": "markdown",
   "id": "3f395488",
   "metadata": {},
   "source": [
    "# Intro to Pandas\n",
    "by Ryan Orsinger"
   ]
  },
  {
   "cell_type": "markdown",
   "id": "2803c8da",
   "metadata": {},
   "source": [
    "## Module 2: Introducing DataFrames\n",
    "\n",
    "### Pandas DataFrames Basics - Part 1\n",
    "- How to make pandas DataFrames from other Python collections\n",
    "- Learning about your dataframe's properties and information\n",
    "- Selecting a single column\n",
    "- Adding new columns to a DataFrame\n",
    "- Renaming columns\n",
    "- Descriptive stats on the columns"
   ]
  },
  {
   "cell_type": "code",
   "execution_count": 18,
   "id": "30ad2d93",
   "metadata": {},
   "outputs": [],
   "source": [
    "import pandas as pd"
   ]
  },
  {
   "cell_type": "code",
   "execution_count": 12,
   "id": "3f78f0c9",
   "metadata": {},
   "outputs": [
    {
     "data": {
      "text/plain": [
       "[{'item': 'mango', 'quantity': 4, 'price': 2.99},\n",
       " {'item': 'bread', 'quantity': 2, 'price': 3.25},\n",
       " {'item': 'juice', 'quantity': 1, 'price': 5.9},\n",
       " {'item': 'orange', 'quantity': 3, 'price': 2.99},\n",
       " {'item': 'lime', 'quantity': 3, 'price': 0.3}]"
      ]
     },
     "execution_count": 12,
     "metadata": {},
     "output_type": "execute_result"
    }
   ],
   "source": [
    "# Creating a dataframe from a list of dictionaries\n",
    "basket = [\n",
    "    {\"item\": \"mango\", \"quantity\": 4, \"price\": 2.99},\n",
    "    {\"item\": \"bread\", \"quantity\": 2, \"price\": 3.25},\n",
    "    {\"item\": \"juice\", \"quantity\": 1, \"price\": 5.90},\n",
    "    {\"item\": \"orange\", \"quantity\": 3, \"price\": 2.99},\n",
    "    {\"item\": \"lime\", \"quantity\": 3, \"price\": 0.3},\n",
    "]\n",
    "basket"
   ]
  },
  {
   "cell_type": "code",
   "execution_count": 14,
   "id": "de47a542",
   "metadata": {},
   "outputs": [
    {
     "data": {
      "text/html": [
       "<div>\n",
       "<style scoped>\n",
       "    .dataframe tbody tr th:only-of-type {\n",
       "        vertical-align: middle;\n",
       "    }\n",
       "\n",
       "    .dataframe tbody tr th {\n",
       "        vertical-align: top;\n",
       "    }\n",
       "\n",
       "    .dataframe thead th {\n",
       "        text-align: right;\n",
       "    }\n",
       "</style>\n",
       "<table border=\"1\" class=\"dataframe\">\n",
       "  <thead>\n",
       "    <tr style=\"text-align: right;\">\n",
       "      <th></th>\n",
       "      <th>item</th>\n",
       "      <th>quantity</th>\n",
       "      <th>price</th>\n",
       "    </tr>\n",
       "  </thead>\n",
       "  <tbody>\n",
       "    <tr>\n",
       "      <th>0</th>\n",
       "      <td>mango</td>\n",
       "      <td>4</td>\n",
       "      <td>2.99</td>\n",
       "    </tr>\n",
       "    <tr>\n",
       "      <th>1</th>\n",
       "      <td>bread</td>\n",
       "      <td>2</td>\n",
       "      <td>3.25</td>\n",
       "    </tr>\n",
       "    <tr>\n",
       "      <th>2</th>\n",
       "      <td>juice</td>\n",
       "      <td>1</td>\n",
       "      <td>5.90</td>\n",
       "    </tr>\n",
       "    <tr>\n",
       "      <th>3</th>\n",
       "      <td>orange</td>\n",
       "      <td>3</td>\n",
       "      <td>2.99</td>\n",
       "    </tr>\n",
       "    <tr>\n",
       "      <th>4</th>\n",
       "      <td>lime</td>\n",
       "      <td>3</td>\n",
       "      <td>0.30</td>\n",
       "    </tr>\n",
       "  </tbody>\n",
       "</table>\n",
       "</div>"
      ],
      "text/plain": [
       "     item  quantity  price\n",
       "0   mango         4   2.99\n",
       "1   bread         2   3.25\n",
       "2   juice         1   5.90\n",
       "3  orange         3   2.99\n",
       "4    lime         3   0.30"
      ]
     },
     "execution_count": 14,
     "metadata": {},
     "output_type": "execute_result"
    }
   ],
   "source": [
    "# With dataframes, our columns are our variables or features\n",
    "# Each row represents a unique observation (usually)\n",
    "df = pd.DataFrame(basket)\n",
    "df"
   ]
  },
  {
   "cell_type": "code",
   "execution_count": 16,
   "id": "b1292792",
   "metadata": {},
   "outputs": [
    {
     "data": {
      "text/plain": [
       "{'item': ['mango', 'bread', 'juice', 'orange', 'lime'],\n",
       " 'quantity': [4, 2, 1, 3, 3],\n",
       " 'price': [2.99, 3.25, 5.9, 2.99, 0.3]}"
      ]
     },
     "execution_count": 16,
     "metadata": {},
     "output_type": "execute_result"
    }
   ],
   "source": [
    "# Creating a dataframe from a dictionary of lists\n",
    "basket = {\n",
    "    \"item\": [\"mango\", \"bread\", \"juice\", \"orange\", \"lime\"],\n",
    "    \"quantity\": [4, 2, 1, 3, 3],\n",
    "    \"price\": [2.99, 3.25, 5.90, 2.99, 0.30]\n",
    "}\n",
    "basket"
   ]
  },
  {
   "cell_type": "code",
   "execution_count": 20,
   "id": "58735ce3",
   "metadata": {},
   "outputs": [
    {
     "data": {
      "text/html": [
       "<div>\n",
       "<style scoped>\n",
       "    .dataframe tbody tr th:only-of-type {\n",
       "        vertical-align: middle;\n",
       "    }\n",
       "\n",
       "    .dataframe tbody tr th {\n",
       "        vertical-align: top;\n",
       "    }\n",
       "\n",
       "    .dataframe thead th {\n",
       "        text-align: right;\n",
       "    }\n",
       "</style>\n",
       "<table border=\"1\" class=\"dataframe\">\n",
       "  <thead>\n",
       "    <tr style=\"text-align: right;\">\n",
       "      <th></th>\n",
       "      <th>item</th>\n",
       "      <th>quantity</th>\n",
       "      <th>price</th>\n",
       "    </tr>\n",
       "  </thead>\n",
       "  <tbody>\n",
       "    <tr>\n",
       "      <th>0</th>\n",
       "      <td>mango</td>\n",
       "      <td>4</td>\n",
       "      <td>2.99</td>\n",
       "    </tr>\n",
       "    <tr>\n",
       "      <th>1</th>\n",
       "      <td>bread</td>\n",
       "      <td>2</td>\n",
       "      <td>3.25</td>\n",
       "    </tr>\n",
       "    <tr>\n",
       "      <th>2</th>\n",
       "      <td>juice</td>\n",
       "      <td>1</td>\n",
       "      <td>5.90</td>\n",
       "    </tr>\n",
       "    <tr>\n",
       "      <th>3</th>\n",
       "      <td>orange</td>\n",
       "      <td>3</td>\n",
       "      <td>2.99</td>\n",
       "    </tr>\n",
       "    <tr>\n",
       "      <th>4</th>\n",
       "      <td>lime</td>\n",
       "      <td>3</td>\n",
       "      <td>0.30</td>\n",
       "    </tr>\n",
       "  </tbody>\n",
       "</table>\n",
       "</div>"
      ],
      "text/plain": [
       "     item  quantity  price\n",
       "0   mango         4   2.99\n",
       "1   bread         2   3.25\n",
       "2   juice         1   5.90\n",
       "3  orange         3   2.99\n",
       "4    lime         3   0.30"
      ]
     },
     "execution_count": 20,
     "metadata": {},
     "output_type": "execute_result"
    }
   ],
   "source": [
    "pd.DataFrame(basket)"
   ]
  },
  {
   "cell_type": "code",
   "execution_count": 22,
   "id": "16868baf",
   "metadata": {},
   "outputs": [
    {
     "data": {
      "text/html": [
       "<div>\n",
       "<style scoped>\n",
       "    .dataframe tbody tr th:only-of-type {\n",
       "        vertical-align: middle;\n",
       "    }\n",
       "\n",
       "    .dataframe tbody tr th {\n",
       "        vertical-align: top;\n",
       "    }\n",
       "\n",
       "    .dataframe thead th {\n",
       "        text-align: right;\n",
       "    }\n",
       "</style>\n",
       "<table border=\"1\" class=\"dataframe\">\n",
       "  <thead>\n",
       "    <tr style=\"text-align: right;\">\n",
       "      <th></th>\n",
       "      <th>variable_a</th>\n",
       "      <th>variable_b</th>\n",
       "      <th>variable_c</th>\n",
       "    </tr>\n",
       "  </thead>\n",
       "  <tbody>\n",
       "    <tr>\n",
       "      <th>observation_1</th>\n",
       "      <td>1</td>\n",
       "      <td>2</td>\n",
       "      <td>3</td>\n",
       "    </tr>\n",
       "    <tr>\n",
       "      <th>observation_2</th>\n",
       "      <td>4</td>\n",
       "      <td>5</td>\n",
       "      <td>6</td>\n",
       "    </tr>\n",
       "    <tr>\n",
       "      <th>observation_3</th>\n",
       "      <td>7</td>\n",
       "      <td>8</td>\n",
       "      <td>9</td>\n",
       "    </tr>\n",
       "  </tbody>\n",
       "</table>\n",
       "</div>"
      ],
      "text/plain": [
       "               variable_a  variable_b  variable_c\n",
       "observation_1           1           2           3\n",
       "observation_2           4           5           6\n",
       "observation_3           7           8           9"
      ]
     },
     "execution_count": 22,
     "metadata": {},
     "output_type": "execute_result"
    }
   ],
   "source": [
    "# Creating a dataframe from a list of lists\n",
    "example = [\n",
    "    [1, 2, 3],\n",
    "    [4, 5, 6],\n",
    "    [7, 8, 9]\n",
    "]\n",
    "\n",
    "column_names = [\"variable_a\", \"variable_b\", \"variable_c\"]\n",
    "row_names = [\"observation_1\", \"observation_2\", \"observation_3\"]\n",
    "\n",
    "pd.DataFrame(example, columns=column_names, index=row_names)"
   ]
  },
  {
   "cell_type": "code",
   "execution_count": 24,
   "id": "3491ae56",
   "metadata": {},
   "outputs": [
    {
     "data": {
      "text/html": [
       "<div>\n",
       "<style scoped>\n",
       "    .dataframe tbody tr th:only-of-type {\n",
       "        vertical-align: middle;\n",
       "    }\n",
       "\n",
       "    .dataframe tbody tr th {\n",
       "        vertical-align: top;\n",
       "    }\n",
       "\n",
       "    .dataframe thead th {\n",
       "        text-align: right;\n",
       "    }\n",
       "</style>\n",
       "<table border=\"1\" class=\"dataframe\">\n",
       "  <thead>\n",
       "    <tr style=\"text-align: right;\">\n",
       "      <th></th>\n",
       "      <th>item</th>\n",
       "      <th>quantity</th>\n",
       "      <th>price</th>\n",
       "    </tr>\n",
       "  </thead>\n",
       "  <tbody>\n",
       "    <tr>\n",
       "      <th>0</th>\n",
       "      <td>Mango</td>\n",
       "      <td>2</td>\n",
       "      <td>2.99</td>\n",
       "    </tr>\n",
       "    <tr>\n",
       "      <th>1</th>\n",
       "      <td>Bread</td>\n",
       "      <td>2</td>\n",
       "      <td>3.25</td>\n",
       "    </tr>\n",
       "    <tr>\n",
       "      <th>2</th>\n",
       "      <td>Juice</td>\n",
       "      <td>1</td>\n",
       "      <td>5.90</td>\n",
       "    </tr>\n",
       "    <tr>\n",
       "      <th>3</th>\n",
       "      <td>Orange</td>\n",
       "      <td>3</td>\n",
       "      <td>2.99</td>\n",
       "    </tr>\n",
       "    <tr>\n",
       "      <th>4</th>\n",
       "      <td>Lime</td>\n",
       "      <td>3</td>\n",
       "      <td>0.30</td>\n",
       "    </tr>\n",
       "  </tbody>\n",
       "</table>\n",
       "</div>"
      ],
      "text/plain": [
       "     item  quantity  price\n",
       "0   Mango         2   2.99\n",
       "1   Bread         2   3.25\n",
       "2   Juice         1   5.90\n",
       "3  Orange         3   2.99\n",
       "4    Lime         3   0.30"
      ]
     },
     "execution_count": 24,
     "metadata": {},
     "output_type": "execute_result"
    }
   ],
   "source": [
    "# Creating an empty dataframe\n",
    "df = pd.DataFrame()\n",
    "\n",
    "# Adding columns to a dataframe\n",
    "# Any list-like data type can become a column\n",
    "df[\"item\"] = pd.Series([\"Mango\", \"Bread\", \"Juice\", \"Orange\", \"Lime\"]) #pandas series\n",
    "df[\"quantity\"] = [2, 2, 1, 3, 3] # list \n",
    "df[\"price\"] = (2.99, 3.25, 5.90, 2.99, 0.30) # tuple\n",
    "df"
   ]
  },
  {
   "cell_type": "code",
   "execution_count": 26,
   "id": "d10a4b7d",
   "metadata": {},
   "outputs": [
    {
     "data": {
      "text/plain": [
       "(5, 3)"
      ]
     },
     "execution_count": 26,
     "metadata": {},
     "output_type": "execute_result"
    }
   ],
   "source": [
    "# .shape returns rows, columns\n",
    "df.shape"
   ]
  },
  {
   "cell_type": "code",
   "execution_count": 28,
   "id": "2022035a",
   "metadata": {},
   "outputs": [
    {
     "data": {
      "text/plain": [
       "5"
      ]
     },
     "execution_count": 28,
     "metadata": {},
     "output_type": "execute_result"
    }
   ],
   "source": [
    "# Returns the rows\n",
    "df.shape[0]"
   ]
  },
  {
   "cell_type": "code",
   "execution_count": 30,
   "id": "609cdcb5",
   "metadata": {},
   "outputs": [
    {
     "data": {
      "text/plain": [
       "3"
      ]
     },
     "execution_count": 30,
     "metadata": {},
     "output_type": "execute_result"
    }
   ],
   "source": [
    "# Returns the number of columns\n",
    "df.shape[1]"
   ]
  },
  {
   "cell_type": "code",
   "execution_count": 32,
   "id": "cf2e6fcd",
   "metadata": {},
   "outputs": [
    {
     "data": {
      "text/plain": [
       "5"
      ]
     },
     "execution_count": 32,
     "metadata": {},
     "output_type": "execute_result"
    }
   ],
   "source": [
    "# len returns number of rows\n",
    "len(df)"
   ]
  },
  {
   "cell_type": "code",
   "execution_count": 34,
   "id": "edc6c56e",
   "metadata": {},
   "outputs": [
    {
     "data": {
      "text/plain": [
       "15"
      ]
     },
     "execution_count": 34,
     "metadata": {},
     "output_type": "execute_result"
    }
   ],
   "source": [
    "# size returns rows * columns\n",
    "df.size\n",
    "# 5 * 3 = 15"
   ]
  },
  {
   "cell_type": "code",
   "execution_count": 36,
   "id": "aac8d0e7",
   "metadata": {},
   "outputs": [
    {
     "data": {
      "text/html": [
       "<div>\n",
       "<style scoped>\n",
       "    .dataframe tbody tr th:only-of-type {\n",
       "        vertical-align: middle;\n",
       "    }\n",
       "\n",
       "    .dataframe tbody tr th {\n",
       "        vertical-align: top;\n",
       "    }\n",
       "\n",
       "    .dataframe thead th {\n",
       "        text-align: right;\n",
       "    }\n",
       "</style>\n",
       "<table border=\"1\" class=\"dataframe\">\n",
       "  <thead>\n",
       "    <tr style=\"text-align: right;\">\n",
       "      <th></th>\n",
       "      <th>item</th>\n",
       "      <th>quantity</th>\n",
       "      <th>price</th>\n",
       "      <th>subtotal</th>\n",
       "    </tr>\n",
       "  </thead>\n",
       "  <tbody>\n",
       "    <tr>\n",
       "      <th>0</th>\n",
       "      <td>Mango</td>\n",
       "      <td>2</td>\n",
       "      <td>2.99</td>\n",
       "      <td>5.98</td>\n",
       "    </tr>\n",
       "    <tr>\n",
       "      <th>1</th>\n",
       "      <td>Bread</td>\n",
       "      <td>2</td>\n",
       "      <td>3.25</td>\n",
       "      <td>6.50</td>\n",
       "    </tr>\n",
       "    <tr>\n",
       "      <th>2</th>\n",
       "      <td>Juice</td>\n",
       "      <td>1</td>\n",
       "      <td>5.90</td>\n",
       "      <td>5.90</td>\n",
       "    </tr>\n",
       "    <tr>\n",
       "      <th>3</th>\n",
       "      <td>Orange</td>\n",
       "      <td>3</td>\n",
       "      <td>2.99</td>\n",
       "      <td>8.97</td>\n",
       "    </tr>\n",
       "    <tr>\n",
       "      <th>4</th>\n",
       "      <td>Lime</td>\n",
       "      <td>3</td>\n",
       "      <td>0.30</td>\n",
       "      <td>0.90</td>\n",
       "    </tr>\n",
       "  </tbody>\n",
       "</table>\n",
       "</div>"
      ],
      "text/plain": [
       "     item  quantity  price  subtotal\n",
       "0   Mango         2   2.99      5.98\n",
       "1   Bread         2   3.25      6.50\n",
       "2   Juice         1   5.90      5.90\n",
       "3  Orange         3   2.99      8.97\n",
       "4    Lime         3   0.30      0.90"
      ]
     },
     "execution_count": 36,
     "metadata": {},
     "output_type": "execute_result"
    }
   ],
   "source": [
    "# Adding new columns to the dataframe\n",
    "df[\"subtotal\"] = df[\"quantity\"] * df[\"price\"]\n",
    "df"
   ]
  },
  {
   "cell_type": "code",
   "execution_count": 38,
   "id": "054bc713",
   "metadata": {},
   "outputs": [
    {
     "data": {
      "text/html": [
       "<div>\n",
       "<style scoped>\n",
       "    .dataframe tbody tr th:only-of-type {\n",
       "        vertical-align: middle;\n",
       "    }\n",
       "\n",
       "    .dataframe tbody tr th {\n",
       "        vertical-align: top;\n",
       "    }\n",
       "\n",
       "    .dataframe thead th {\n",
       "        text-align: right;\n",
       "    }\n",
       "</style>\n",
       "<table border=\"1\" class=\"dataframe\">\n",
       "  <thead>\n",
       "    <tr style=\"text-align: right;\">\n",
       "      <th></th>\n",
       "      <th>quantity</th>\n",
       "      <th>price</th>\n",
       "      <th>subtotal</th>\n",
       "    </tr>\n",
       "    <tr>\n",
       "      <th>item</th>\n",
       "      <th></th>\n",
       "      <th></th>\n",
       "      <th></th>\n",
       "    </tr>\n",
       "  </thead>\n",
       "  <tbody>\n",
       "    <tr>\n",
       "      <th>Mango</th>\n",
       "      <td>2</td>\n",
       "      <td>2.99</td>\n",
       "      <td>5.98</td>\n",
       "    </tr>\n",
       "    <tr>\n",
       "      <th>Bread</th>\n",
       "      <td>2</td>\n",
       "      <td>3.25</td>\n",
       "      <td>6.50</td>\n",
       "    </tr>\n",
       "    <tr>\n",
       "      <th>Juice</th>\n",
       "      <td>1</td>\n",
       "      <td>5.90</td>\n",
       "      <td>5.90</td>\n",
       "    </tr>\n",
       "    <tr>\n",
       "      <th>Orange</th>\n",
       "      <td>3</td>\n",
       "      <td>2.99</td>\n",
       "      <td>8.97</td>\n",
       "    </tr>\n",
       "    <tr>\n",
       "      <th>Lime</th>\n",
       "      <td>3</td>\n",
       "      <td>0.30</td>\n",
       "      <td>0.90</td>\n",
       "    </tr>\n",
       "  </tbody>\n",
       "</table>\n",
       "</div>"
      ],
      "text/plain": [
       "        quantity  price  subtotal\n",
       "item                             \n",
       "Mango          2   2.99      5.98\n",
       "Bread          2   3.25      6.50\n",
       "Juice          1   5.90      5.90\n",
       "Orange         3   2.99      8.97\n",
       "Lime           3   0.30      0.90"
      ]
     },
     "execution_count": 38,
     "metadata": {},
     "output_type": "execute_result"
    }
   ],
   "source": [
    "# set_index can overwrite the default index\n",
    "df.set_index(\"item\", inplace=True)\n",
    "df"
   ]
  },
  {
   "cell_type": "code",
   "execution_count": null,
   "id": "c599c8eb",
   "metadata": {},
   "outputs": [],
   "source": [
    "# Accessing the index values\n",
    "df.index"
   ]
  },
  {
   "cell_type": "code",
   "execution_count": 40,
   "id": "99349263",
   "metadata": {},
   "outputs": [
    {
     "data": {
      "text/html": [
       "<div>\n",
       "<style scoped>\n",
       "    .dataframe tbody tr th:only-of-type {\n",
       "        vertical-align: middle;\n",
       "    }\n",
       "\n",
       "    .dataframe tbody tr th {\n",
       "        vertical-align: top;\n",
       "    }\n",
       "\n",
       "    .dataframe thead th {\n",
       "        text-align: right;\n",
       "    }\n",
       "</style>\n",
       "<table border=\"1\" class=\"dataframe\">\n",
       "  <thead>\n",
       "    <tr style=\"text-align: right;\">\n",
       "      <th></th>\n",
       "      <th>quantity</th>\n",
       "      <th>price</th>\n",
       "      <th>subtotal</th>\n",
       "    </tr>\n",
       "    <tr>\n",
       "      <th>item</th>\n",
       "      <th></th>\n",
       "      <th></th>\n",
       "      <th></th>\n",
       "    </tr>\n",
       "  </thead>\n",
       "  <tbody>\n",
       "    <tr>\n",
       "      <th>mango</th>\n",
       "      <td>2</td>\n",
       "      <td>2.99</td>\n",
       "      <td>5.98</td>\n",
       "    </tr>\n",
       "    <tr>\n",
       "      <th>bread</th>\n",
       "      <td>2</td>\n",
       "      <td>3.25</td>\n",
       "      <td>6.50</td>\n",
       "    </tr>\n",
       "    <tr>\n",
       "      <th>juice</th>\n",
       "      <td>1</td>\n",
       "      <td>5.90</td>\n",
       "      <td>5.90</td>\n",
       "    </tr>\n",
       "    <tr>\n",
       "      <th>orange</th>\n",
       "      <td>3</td>\n",
       "      <td>2.99</td>\n",
       "      <td>8.97</td>\n",
       "    </tr>\n",
       "    <tr>\n",
       "      <th>lime</th>\n",
       "      <td>3</td>\n",
       "      <td>0.30</td>\n",
       "      <td>0.90</td>\n",
       "    </tr>\n",
       "  </tbody>\n",
       "</table>\n",
       "</div>"
      ],
      "text/plain": [
       "        quantity  price  subtotal\n",
       "item                             \n",
       "mango          2   2.99      5.98\n",
       "bread          2   3.25      6.50\n",
       "juice          1   5.90      5.90\n",
       "orange         3   2.99      8.97\n",
       "lime           3   0.30      0.90"
      ]
     },
     "execution_count": 40,
     "metadata": {},
     "output_type": "execute_result"
    }
   ],
   "source": [
    "# We can also overwrite the index with a Series of equal length\n",
    "df.index = df.index.str.lower()\n",
    "df"
   ]
  },
  {
   "cell_type": "code",
   "execution_count": 42,
   "id": "76e1132c",
   "metadata": {},
   "outputs": [
    {
     "data": {
      "text/plain": [
       "Index(['quantity', 'price', 'subtotal'], dtype='object')"
      ]
     },
     "execution_count": 42,
     "metadata": {},
     "output_type": "execute_result"
    }
   ],
   "source": [
    "# Accessing all the columns\n",
    "df.columns"
   ]
  },
  {
   "cell_type": "code",
   "execution_count": 44,
   "id": "2f3993ac",
   "metadata": {},
   "outputs": [
    {
     "data": {
      "text/html": [
       "<div>\n",
       "<style scoped>\n",
       "    .dataframe tbody tr th:only-of-type {\n",
       "        vertical-align: middle;\n",
       "    }\n",
       "\n",
       "    .dataframe tbody tr th {\n",
       "        vertical-align: top;\n",
       "    }\n",
       "\n",
       "    .dataframe thead th {\n",
       "        text-align: right;\n",
       "    }\n",
       "</style>\n",
       "<table border=\"1\" class=\"dataframe\">\n",
       "  <thead>\n",
       "    <tr style=\"text-align: right;\">\n",
       "      <th></th>\n",
       "      <th>quantity</th>\n",
       "      <th>price</th>\n",
       "      <th>subtotal</th>\n",
       "      <th>tax</th>\n",
       "    </tr>\n",
       "    <tr>\n",
       "      <th>item</th>\n",
       "      <th></th>\n",
       "      <th></th>\n",
       "      <th></th>\n",
       "      <th></th>\n",
       "    </tr>\n",
       "  </thead>\n",
       "  <tbody>\n",
       "    <tr>\n",
       "      <th>mango</th>\n",
       "      <td>2</td>\n",
       "      <td>2.99</td>\n",
       "      <td>5.98</td>\n",
       "      <td>0.07</td>\n",
       "    </tr>\n",
       "    <tr>\n",
       "      <th>bread</th>\n",
       "      <td>2</td>\n",
       "      <td>3.25</td>\n",
       "      <td>6.50</td>\n",
       "      <td>0.07</td>\n",
       "    </tr>\n",
       "    <tr>\n",
       "      <th>juice</th>\n",
       "      <td>1</td>\n",
       "      <td>5.90</td>\n",
       "      <td>5.90</td>\n",
       "      <td>0.07</td>\n",
       "    </tr>\n",
       "    <tr>\n",
       "      <th>orange</th>\n",
       "      <td>3</td>\n",
       "      <td>2.99</td>\n",
       "      <td>8.97</td>\n",
       "      <td>0.07</td>\n",
       "    </tr>\n",
       "    <tr>\n",
       "      <th>lime</th>\n",
       "      <td>3</td>\n",
       "      <td>0.30</td>\n",
       "      <td>0.90</td>\n",
       "      <td>0.07</td>\n",
       "    </tr>\n",
       "  </tbody>\n",
       "</table>\n",
       "</div>"
      ],
      "text/plain": [
       "        quantity  price  subtotal   tax\n",
       "item                                   \n",
       "mango          2   2.99      5.98  0.07\n",
       "bread          2   3.25      6.50  0.07\n",
       "juice          1   5.90      5.90  0.07\n",
       "orange         3   2.99      8.97  0.07\n",
       "lime           3   0.30      0.90  0.07"
      ]
     },
     "execution_count": 44,
     "metadata": {},
     "output_type": "execute_result"
    }
   ],
   "source": [
    "# Another example of creating a new column\n",
    "df[\"tax\"] = 0.07\n",
    "df"
   ]
  },
  {
   "cell_type": "code",
   "execution_count": 46,
   "id": "48831344",
   "metadata": {},
   "outputs": [
    {
     "data": {
      "text/html": [
       "<div>\n",
       "<style scoped>\n",
       "    .dataframe tbody tr th:only-of-type {\n",
       "        vertical-align: middle;\n",
       "    }\n",
       "\n",
       "    .dataframe tbody tr th {\n",
       "        vertical-align: top;\n",
       "    }\n",
       "\n",
       "    .dataframe thead th {\n",
       "        text-align: right;\n",
       "    }\n",
       "</style>\n",
       "<table border=\"1\" class=\"dataframe\">\n",
       "  <thead>\n",
       "    <tr style=\"text-align: right;\">\n",
       "      <th></th>\n",
       "      <th>quantity</th>\n",
       "      <th>price</th>\n",
       "      <th>subtotal</th>\n",
       "      <th>tax</th>\n",
       "      <th>total cost</th>\n",
       "    </tr>\n",
       "    <tr>\n",
       "      <th>item</th>\n",
       "      <th></th>\n",
       "      <th></th>\n",
       "      <th></th>\n",
       "      <th></th>\n",
       "      <th></th>\n",
       "    </tr>\n",
       "  </thead>\n",
       "  <tbody>\n",
       "    <tr>\n",
       "      <th>mango</th>\n",
       "      <td>2</td>\n",
       "      <td>2.99</td>\n",
       "      <td>5.98</td>\n",
       "      <td>0.07</td>\n",
       "      <td>6.3986</td>\n",
       "    </tr>\n",
       "    <tr>\n",
       "      <th>bread</th>\n",
       "      <td>2</td>\n",
       "      <td>3.25</td>\n",
       "      <td>6.50</td>\n",
       "      <td>0.07</td>\n",
       "      <td>6.9550</td>\n",
       "    </tr>\n",
       "    <tr>\n",
       "      <th>juice</th>\n",
       "      <td>1</td>\n",
       "      <td>5.90</td>\n",
       "      <td>5.90</td>\n",
       "      <td>0.07</td>\n",
       "      <td>6.3130</td>\n",
       "    </tr>\n",
       "    <tr>\n",
       "      <th>orange</th>\n",
       "      <td>3</td>\n",
       "      <td>2.99</td>\n",
       "      <td>8.97</td>\n",
       "      <td>0.07</td>\n",
       "      <td>9.5979</td>\n",
       "    </tr>\n",
       "    <tr>\n",
       "      <th>lime</th>\n",
       "      <td>3</td>\n",
       "      <td>0.30</td>\n",
       "      <td>0.90</td>\n",
       "      <td>0.07</td>\n",
       "      <td>0.9630</td>\n",
       "    </tr>\n",
       "  </tbody>\n",
       "</table>\n",
       "</div>"
      ],
      "text/plain": [
       "        quantity  price  subtotal   tax  total cost\n",
       "item                                               \n",
       "mango          2   2.99      5.98  0.07      6.3986\n",
       "bread          2   3.25      6.50  0.07      6.9550\n",
       "juice          1   5.90      5.90  0.07      6.3130\n",
       "orange         3   2.99      8.97  0.07      9.5979\n",
       "lime           3   0.30      0.90  0.07      0.9630"
      ]
     },
     "execution_count": 46,
     "metadata": {},
     "output_type": "execute_result"
    }
   ],
   "source": [
    "# The \"total cost\" column does not exist, but this bracket syntax creates it.\n",
    "df[\"total cost\"] = df[\"subtotal\"] + (df[\"subtotal\"] * df[\"tax\"])\n",
    "df"
   ]
  },
  {
   "cell_type": "code",
   "execution_count": 48,
   "id": "89e429b8",
   "metadata": {},
   "outputs": [
    {
     "data": {
      "text/plain": [
       "item\n",
       "mango     2.99\n",
       "bread     3.25\n",
       "juice     5.90\n",
       "orange    2.99\n",
       "lime      0.30\n",
       "Name: price, dtype: float64"
      ]
     },
     "execution_count": 48,
     "metadata": {},
     "output_type": "execute_result"
    }
   ],
   "source": [
    "# Dot syntax also allows for calling an existing column\n",
    "# Using .column syntax only works if the column exists already, has no spaces, and is not a dataframe method already\n",
    "df.price"
   ]
  },
  {
   "cell_type": "code",
   "execution_count": 50,
   "id": "3bfc453d-6fb3-4e12-83fd-9dc5d673e322",
   "metadata": {},
   "outputs": [
    {
     "data": {
      "text/plain": [
       "item\n",
       "mango     5.98\n",
       "bread     6.50\n",
       "juice     5.90\n",
       "orange    8.97\n",
       "lime      0.90\n",
       "Name: subtotal, dtype: float64"
      ]
     },
     "execution_count": 50,
     "metadata": {},
     "output_type": "execute_result"
    }
   ],
   "source": [
    "df.subtotal"
   ]
  },
  {
   "cell_type": "code",
   "execution_count": 52,
   "id": "5fc9b9b2",
   "metadata": {},
   "outputs": [
    {
     "data": {
      "text/plain": [
       "quantity        int64\n",
       "price         float64\n",
       "subtotal      float64\n",
       "tax           float64\n",
       "total cost    float64\n",
       "dtype: object"
      ]
     },
     "execution_count": 52,
     "metadata": {},
     "output_type": "execute_result"
    }
   ],
   "source": [
    "# .dtypes outputs the datatypes of all columns in the dataframe\n",
    "df.dtypes"
   ]
  },
  {
   "cell_type": "code",
   "execution_count": 54,
   "id": "42a266de",
   "metadata": {},
   "outputs": [
    {
     "name": "stdout",
     "output_type": "stream",
     "text": [
      "<class 'pandas.core.frame.DataFrame'>\n",
      "Index: 5 entries, mango to lime\n",
      "Data columns (total 5 columns):\n",
      " #   Column      Non-Null Count  Dtype  \n",
      "---  ------      --------------  -----  \n",
      " 0   quantity    5 non-null      int64  \n",
      " 1   price       5 non-null      float64\n",
      " 2   subtotal    5 non-null      float64\n",
      " 3   tax         5 non-null      float64\n",
      " 4   total cost  5 non-null      float64\n",
      "dtypes: float64(4), int64(1)\n",
      "memory usage: 412.0+ bytes\n"
     ]
    }
   ],
   "source": [
    "# .info returns datatype and non-null count\n",
    "df.info()"
   ]
  },
  {
   "cell_type": "code",
   "execution_count": 56,
   "id": "32df1baa",
   "metadata": {},
   "outputs": [
    {
     "data": {
      "text/plain": [
       "count    5.000000\n",
       "mean     3.086000\n",
       "std      1.982783\n",
       "min      0.300000\n",
       "25%      2.990000\n",
       "50%      2.990000\n",
       "75%      3.250000\n",
       "max      5.900000\n",
       "Name: price, dtype: float64"
      ]
     },
     "execution_count": 56,
     "metadata": {},
     "output_type": "execute_result"
    }
   ],
   "source": [
    "df.price.describe()\n",
    "# 25% 1st quarter\n",
    "# 75% 3rd querter\n",
    "# 50% median\n",
    "# std = standart deviation\n",
    "# if std > mean look out for outliers"
   ]
  },
  {
   "cell_type": "code",
   "execution_count": 58,
   "id": "08cbabc4-9244-474b-9f0f-1b13b0ea267f",
   "metadata": {},
   "outputs": [
    {
     "data": {
      "text/plain": [
       "item\n",
       "mango     2.99\n",
       "bread     3.25\n",
       "juice     5.90\n",
       "orange    2.99\n",
       "lime      0.30\n",
       "Name: price, dtype: float64"
      ]
     },
     "execution_count": 58,
     "metadata": {},
     "output_type": "execute_result"
    }
   ],
   "source": [
    "df.price"
   ]
  },
  {
   "cell_type": "code",
   "execution_count": 60,
   "id": "a30fc88f",
   "metadata": {},
   "outputs": [
    {
     "data": {
      "text/html": [
       "<div>\n",
       "<style scoped>\n",
       "    .dataframe tbody tr th:only-of-type {\n",
       "        vertical-align: middle;\n",
       "    }\n",
       "\n",
       "    .dataframe tbody tr th {\n",
       "        vertical-align: top;\n",
       "    }\n",
       "\n",
       "    .dataframe thead th {\n",
       "        text-align: right;\n",
       "    }\n",
       "</style>\n",
       "<table border=\"1\" class=\"dataframe\">\n",
       "  <thead>\n",
       "    <tr style=\"text-align: right;\">\n",
       "      <th></th>\n",
       "      <th>quantity</th>\n",
       "      <th>price</th>\n",
       "      <th>subtotal</th>\n",
       "      <th>tax</th>\n",
       "      <th>total cost</th>\n",
       "    </tr>\n",
       "  </thead>\n",
       "  <tbody>\n",
       "    <tr>\n",
       "      <th>count</th>\n",
       "      <td>5.00000</td>\n",
       "      <td>5.000000</td>\n",
       "      <td>5.000000</td>\n",
       "      <td>5.00</td>\n",
       "      <td>5.000000</td>\n",
       "    </tr>\n",
       "    <tr>\n",
       "      <th>mean</th>\n",
       "      <td>2.20000</td>\n",
       "      <td>3.086000</td>\n",
       "      <td>5.650000</td>\n",
       "      <td>0.07</td>\n",
       "      <td>6.045500</td>\n",
       "    </tr>\n",
       "    <tr>\n",
       "      <th>std</th>\n",
       "      <td>0.83666</td>\n",
       "      <td>1.982783</td>\n",
       "      <td>2.935933</td>\n",
       "      <td>0.00</td>\n",
       "      <td>3.141448</td>\n",
       "    </tr>\n",
       "    <tr>\n",
       "      <th>min</th>\n",
       "      <td>1.00000</td>\n",
       "      <td>0.300000</td>\n",
       "      <td>0.900000</td>\n",
       "      <td>0.07</td>\n",
       "      <td>0.963000</td>\n",
       "    </tr>\n",
       "    <tr>\n",
       "      <th>25%</th>\n",
       "      <td>2.00000</td>\n",
       "      <td>2.990000</td>\n",
       "      <td>5.900000</td>\n",
       "      <td>0.07</td>\n",
       "      <td>6.313000</td>\n",
       "    </tr>\n",
       "    <tr>\n",
       "      <th>50%</th>\n",
       "      <td>2.00000</td>\n",
       "      <td>2.990000</td>\n",
       "      <td>5.980000</td>\n",
       "      <td>0.07</td>\n",
       "      <td>6.398600</td>\n",
       "    </tr>\n",
       "    <tr>\n",
       "      <th>75%</th>\n",
       "      <td>3.00000</td>\n",
       "      <td>3.250000</td>\n",
       "      <td>6.500000</td>\n",
       "      <td>0.07</td>\n",
       "      <td>6.955000</td>\n",
       "    </tr>\n",
       "    <tr>\n",
       "      <th>max</th>\n",
       "      <td>3.00000</td>\n",
       "      <td>5.900000</td>\n",
       "      <td>8.970000</td>\n",
       "      <td>0.07</td>\n",
       "      <td>9.597900</td>\n",
       "    </tr>\n",
       "  </tbody>\n",
       "</table>\n",
       "</div>"
      ],
      "text/plain": [
       "       quantity     price  subtotal   tax  total cost\n",
       "count   5.00000  5.000000  5.000000  5.00    5.000000\n",
       "mean    2.20000  3.086000  5.650000  0.07    6.045500\n",
       "std     0.83666  1.982783  2.935933  0.00    3.141448\n",
       "min     1.00000  0.300000  0.900000  0.07    0.963000\n",
       "25%     2.00000  2.990000  5.900000  0.07    6.313000\n",
       "50%     2.00000  2.990000  5.980000  0.07    6.398600\n",
       "75%     3.00000  3.250000  6.500000  0.07    6.955000\n",
       "max     3.00000  5.900000  8.970000  0.07    9.597900"
      ]
     },
     "execution_count": 60,
     "metadata": {},
     "output_type": "execute_result"
    }
   ],
   "source": [
    "# Show descriptive stats for numeric columns\n",
    "df.describe()"
   ]
  },
  {
   "cell_type": "code",
   "execution_count": 62,
   "id": "a68bd228",
   "metadata": {},
   "outputs": [
    {
     "data": {
      "text/plain": [
       "pandas.core.series.Series"
      ]
     },
     "execution_count": 62,
     "metadata": {},
     "output_type": "execute_result"
    }
   ],
   "source": [
    "# A column in a dataframe is a series\n",
    "type(df.quantity)"
   ]
  },
  {
   "cell_type": "code",
   "execution_count": 64,
   "id": "302b7fb7",
   "metadata": {},
   "outputs": [
    {
     "data": {
      "text/plain": [
       "quantity\n",
       "2    2\n",
       "3    2\n",
       "1    1\n",
       "Name: count, dtype: int64"
      ]
     },
     "execution_count": 64,
     "metadata": {},
     "output_type": "execute_result"
    }
   ],
   "source": [
    "# .value_counts returns a series\n",
    "df.quantity.value_counts()"
   ]
  },
  {
   "cell_type": "code",
   "execution_count": 66,
   "id": "32c5003b",
   "metadata": {},
   "outputs": [
    {
     "data": {
      "text/plain": [
       "quantity      2.2000\n",
       "price         3.0860\n",
       "subtotal      5.6500\n",
       "tax           0.0700\n",
       "total cost    6.0455\n",
       "dtype: float64"
      ]
     },
     "execution_count": 66,
     "metadata": {},
     "output_type": "execute_result"
    }
   ],
   "source": [
    "# Aggregate functions can run on all the numeric values in the dataframe\n",
    "df.mean()"
   ]
  },
  {
   "cell_type": "code",
   "execution_count": 68,
   "id": "a34b3597",
   "metadata": {},
   "outputs": [
    {
     "data": {
      "text/plain": [
       "quantity      2.0000\n",
       "price         2.9900\n",
       "subtotal      5.9800\n",
       "tax           0.0700\n",
       "total cost    6.3986\n",
       "dtype: float64"
      ]
     },
     "execution_count": 68,
     "metadata": {},
     "output_type": "execute_result"
    }
   ],
   "source": [
    "# Obtain the median of all numeric columns\n",
    "df.median()"
   ]
  },
  {
   "cell_type": "code",
   "execution_count": 70,
   "id": "9ba2daf1",
   "metadata": {},
   "outputs": [
    {
     "data": {
      "text/plain": [
       "quantity      0.836660\n",
       "price         1.982783\n",
       "subtotal      2.935933\n",
       "tax           0.000000\n",
       "total cost    3.141448\n",
       "dtype: float64"
      ]
     },
     "execution_count": 70,
     "metadata": {},
     "output_type": "execute_result"
    }
   ],
   "source": [
    "# Standard deviation of all the numeric columns\n",
    "df.std()"
   ]
  },
  {
   "cell_type": "code",
   "execution_count": 72,
   "id": "2882d338",
   "metadata": {},
   "outputs": [
    {
     "data": {
      "text/html": [
       "<div>\n",
       "<style scoped>\n",
       "    .dataframe tbody tr th:only-of-type {\n",
       "        vertical-align: middle;\n",
       "    }\n",
       "\n",
       "    .dataframe tbody tr th {\n",
       "        vertical-align: top;\n",
       "    }\n",
       "\n",
       "    .dataframe thead th {\n",
       "        text-align: right;\n",
       "    }\n",
       "</style>\n",
       "<table border=\"1\" class=\"dataframe\">\n",
       "  <thead>\n",
       "    <tr style=\"text-align: right;\">\n",
       "      <th></th>\n",
       "      <th>quantity</th>\n",
       "      <th>price</th>\n",
       "      <th>subtotal</th>\n",
       "      <th>tax</th>\n",
       "      <th>total cost</th>\n",
       "      <th>shape</th>\n",
       "    </tr>\n",
       "    <tr>\n",
       "      <th>item</th>\n",
       "      <th></th>\n",
       "      <th></th>\n",
       "      <th></th>\n",
       "      <th></th>\n",
       "      <th></th>\n",
       "      <th></th>\n",
       "    </tr>\n",
       "  </thead>\n",
       "  <tbody>\n",
       "    <tr>\n",
       "      <th>mango</th>\n",
       "      <td>2</td>\n",
       "      <td>2.99</td>\n",
       "      <td>5.98</td>\n",
       "      <td>0.07</td>\n",
       "      <td>6.3986</td>\n",
       "      <td>round</td>\n",
       "    </tr>\n",
       "    <tr>\n",
       "      <th>bread</th>\n",
       "      <td>2</td>\n",
       "      <td>3.25</td>\n",
       "      <td>6.50</td>\n",
       "      <td>0.07</td>\n",
       "      <td>6.9550</td>\n",
       "      <td>loaf</td>\n",
       "    </tr>\n",
       "    <tr>\n",
       "      <th>juice</th>\n",
       "      <td>1</td>\n",
       "      <td>5.90</td>\n",
       "      <td>5.90</td>\n",
       "      <td>0.07</td>\n",
       "      <td>6.3130</td>\n",
       "      <td>jug</td>\n",
       "    </tr>\n",
       "    <tr>\n",
       "      <th>orange</th>\n",
       "      <td>3</td>\n",
       "      <td>2.99</td>\n",
       "      <td>8.97</td>\n",
       "      <td>0.07</td>\n",
       "      <td>9.5979</td>\n",
       "      <td>round</td>\n",
       "    </tr>\n",
       "    <tr>\n",
       "      <th>lime</th>\n",
       "      <td>3</td>\n",
       "      <td>0.30</td>\n",
       "      <td>0.90</td>\n",
       "      <td>0.07</td>\n",
       "      <td>0.9630</td>\n",
       "      <td>round</td>\n",
       "    </tr>\n",
       "  </tbody>\n",
       "</table>\n",
       "</div>"
      ],
      "text/plain": [
       "        quantity  price  subtotal   tax  total cost  shape\n",
       "item                                                      \n",
       "mango          2   2.99      5.98  0.07      6.3986  round\n",
       "bread          2   3.25      6.50  0.07      6.9550   loaf\n",
       "juice          1   5.90      5.90  0.07      6.3130    jug\n",
       "orange         3   2.99      8.97  0.07      9.5979  round\n",
       "lime           3   0.30      0.90  0.07      0.9630  round"
      ]
     },
     "execution_count": 72,
     "metadata": {},
     "output_type": "execute_result"
    }
   ],
   "source": [
    "# The square bracket syntax can be used to access column names with spaces\n",
    "# Same with column names that are methods on the dataframe object\n",
    "# Recommend avoiding column names with spaces, removing spaces when you encounter them\n",
    "# Recommend avoiding naming columns after dataframe method\n",
    "df[\"shape\"] = [\"round\", \"loaf\", \"jug\", \"round\", \"round\"]\n",
    "df"
   ]
  },
  {
   "cell_type": "code",
   "execution_count": 74,
   "id": "fed7bb27",
   "metadata": {},
   "outputs": [
    {
     "data": {
      "text/plain": [
       "(5, 6)"
      ]
     },
     "execution_count": 74,
     "metadata": {},
     "output_type": "execute_result"
    }
   ],
   "source": [
    "# Remember that the .shape attribute shows # rows, #columns\n",
    "df.shape"
   ]
  },
  {
   "cell_type": "code",
   "execution_count": 76,
   "id": "966087d2",
   "metadata": {},
   "outputs": [
    {
     "data": {
      "text/plain": [
       "item\n",
       "mango     round\n",
       "bread      loaf\n",
       "juice       jug\n",
       "orange    round\n",
       "lime      round\n",
       "Name: shape, dtype: object"
      ]
     },
     "execution_count": 76,
     "metadata": {},
     "output_type": "execute_result"
    }
   ],
   "source": [
    "# The bracket quote syntax returns the column\n",
    "df[\"shape\"]"
   ]
  },
  {
   "cell_type": "code",
   "execution_count": 80,
   "id": "e4dd538e",
   "metadata": {},
   "outputs": [
    {
     "data": {
      "text/html": [
       "<div>\n",
       "<style scoped>\n",
       "    .dataframe tbody tr th:only-of-type {\n",
       "        vertical-align: middle;\n",
       "    }\n",
       "\n",
       "    .dataframe tbody tr th {\n",
       "        vertical-align: top;\n",
       "    }\n",
       "\n",
       "    .dataframe thead th {\n",
       "        text-align: right;\n",
       "    }\n",
       "</style>\n",
       "<table border=\"1\" class=\"dataframe\">\n",
       "  <thead>\n",
       "    <tr style=\"text-align: right;\">\n",
       "      <th></th>\n",
       "      <th>quantity</th>\n",
       "      <th>price</th>\n",
       "      <th>subtotal</th>\n",
       "      <th>tax</th>\n",
       "      <th>total</th>\n",
       "      <th>item_shape</th>\n",
       "    </tr>\n",
       "    <tr>\n",
       "      <th>item</th>\n",
       "      <th></th>\n",
       "      <th></th>\n",
       "      <th></th>\n",
       "      <th></th>\n",
       "      <th></th>\n",
       "      <th></th>\n",
       "    </tr>\n",
       "  </thead>\n",
       "  <tbody>\n",
       "    <tr>\n",
       "      <th>mango</th>\n",
       "      <td>2</td>\n",
       "      <td>2.99</td>\n",
       "      <td>5.98</td>\n",
       "      <td>0.07</td>\n",
       "      <td>6.3986</td>\n",
       "      <td>round</td>\n",
       "    </tr>\n",
       "    <tr>\n",
       "      <th>bread</th>\n",
       "      <td>2</td>\n",
       "      <td>3.25</td>\n",
       "      <td>6.50</td>\n",
       "      <td>0.07</td>\n",
       "      <td>6.9550</td>\n",
       "      <td>loaf</td>\n",
       "    </tr>\n",
       "    <tr>\n",
       "      <th>juice</th>\n",
       "      <td>1</td>\n",
       "      <td>5.90</td>\n",
       "      <td>5.90</td>\n",
       "      <td>0.07</td>\n",
       "      <td>6.3130</td>\n",
       "      <td>jug</td>\n",
       "    </tr>\n",
       "    <tr>\n",
       "      <th>orange</th>\n",
       "      <td>3</td>\n",
       "      <td>2.99</td>\n",
       "      <td>8.97</td>\n",
       "      <td>0.07</td>\n",
       "      <td>9.5979</td>\n",
       "      <td>round</td>\n",
       "    </tr>\n",
       "    <tr>\n",
       "      <th>lime</th>\n",
       "      <td>3</td>\n",
       "      <td>0.30</td>\n",
       "      <td>0.90</td>\n",
       "      <td>0.07</td>\n",
       "      <td>0.9630</td>\n",
       "      <td>round</td>\n",
       "    </tr>\n",
       "  </tbody>\n",
       "</table>\n",
       "</div>"
      ],
      "text/plain": [
       "        quantity  price  subtotal   tax   total item_shape\n",
       "item                                                      \n",
       "mango          2   2.99      5.98  0.07  6.3986      round\n",
       "bread          2   3.25      6.50  0.07  6.9550       loaf\n",
       "juice          1   5.90      5.90  0.07  6.3130        jug\n",
       "orange         3   2.99      8.97  0.07  9.5979      round\n",
       "lime           3   0.30      0.90  0.07  0.9630      round"
      ]
     },
     "execution_count": 80,
     "metadata": {},
     "output_type": "execute_result"
    }
   ],
   "source": [
    "# Naming columns the same as built-in dataframe methods and spaces in column names are not helpful\n",
    "# .rename allows for renaming columns in a dataframe using a dictionary\n",
    "df.rename(columns={\"shape\": \"item_shape\", \"total cost\": \"total\"}, inplace=True)\n",
    "df"
   ]
  },
  {
   "cell_type": "markdown",
   "id": "0e5976e6",
   "metadata": {},
   "source": [
    "## Exercises\n",
    "- Assign dataframe named `df` out of the following list of dictionaries.\n",
    "```\n",
    "items = [\n",
    "    {\"item name\": \"USB cable\", \"price\": \"$10.99\", \"type\": \"USB C to USB C\"},\n",
    "    {\"item name\": \"USB cable\", \"price\": \"$10.99\", \"type\": \"USB A to USB C\"},\n",
    "    {\"item name\": \"Batteries\", \"price\": \"$9.99\", \"type\": \"AA\"},\n",
    "    {\"item name\": \"Batteries\", \"price\": \"$8.99\", \"type\": \"AAA\"},\n",
    "    {\"item name\": \"Mouse\", \"price\": \"$12.99\", \"type\": \"Wireless USB\"},\n",
    "]\n",
    "```\n",
    "- Rename the `item name` column to `item_name`\n",
    "- Add a column named `units_sold` to this dataframe and assign the values `[41, 113, 54, 35, 22]`\n",
    "- Convert the price column into a float (hint: remove non-numeric characters before attempting to convert the data type to a float)\n",
    "- Create a new column named `total_revenue` that holds the `price` column times the `units_sold` column\n",
    "- Round the `total_revenue` column values to the nearest whole number. (hint: search or consult the pandas documentation"
   ]
  },
  {
   "cell_type": "code",
   "execution_count": 180,
   "id": "ebbe0e53-a18f-44b0-8dcf-583c8a4a77d2",
   "metadata": {},
   "outputs": [],
   "source": [
    "import pandas as pd"
   ]
  },
  {
   "cell_type": "code",
   "execution_count": 182,
   "id": "ced77590",
   "metadata": {},
   "outputs": [],
   "source": [
    "# Assign dataframe named `df` out of the following list of dictionaries\n",
    "items = [\n",
    "    {\"item name\": \"USB cable\", \"price\": \"$10.99\", \"type\": \"USB C to USB C\"},\n",
    "    {\"item name\": \"USB cable\", \"price\": \"$10.99\", \"type\": \"USB A to USB C\"},\n",
    "    {\"item name\": \"Batteries\", \"price\": \"$9.99\", \"type\": \"AA\"},\n",
    "    {\"item name\": \"Batteries\", \"price\": \"$8.99\", \"type\": \"AAA\"},\n",
    "    {\"item name\": \"Mouse\", \"price\": \"$12.99\", \"type\": \"Wireless USB\"},\n",
    "]"
   ]
  },
  {
   "cell_type": "code",
   "execution_count": 184,
   "id": "2c345d49-7c78-4350-a668-88c17c9d8b54",
   "metadata": {},
   "outputs": [
    {
     "data": {
      "text/plain": [
       "[{'item name': 'USB cable', 'price': '$10.99', 'type': 'USB C to USB C'},\n",
       " {'item name': 'USB cable', 'price': '$10.99', 'type': 'USB A to USB C'},\n",
       " {'item name': 'Batteries', 'price': '$9.99', 'type': 'AA'},\n",
       " {'item name': 'Batteries', 'price': '$8.99', 'type': 'AAA'},\n",
       " {'item name': 'Mouse', 'price': '$12.99', 'type': 'Wireless USB'}]"
      ]
     },
     "execution_count": 184,
     "metadata": {},
     "output_type": "execute_result"
    }
   ],
   "source": [
    "items"
   ]
  },
  {
   "cell_type": "code",
   "execution_count": 186,
   "id": "d7a38ea6-2725-4583-a4ea-5055abb8f89f",
   "metadata": {},
   "outputs": [],
   "source": [
    "df = pd.DataFrame(items)"
   ]
  },
  {
   "cell_type": "code",
   "execution_count": 188,
   "id": "d8001dbd-492a-48b1-8006-69cd8c95d0e2",
   "metadata": {},
   "outputs": [
    {
     "data": {
      "text/html": [
       "<div>\n",
       "<style scoped>\n",
       "    .dataframe tbody tr th:only-of-type {\n",
       "        vertical-align: middle;\n",
       "    }\n",
       "\n",
       "    .dataframe tbody tr th {\n",
       "        vertical-align: top;\n",
       "    }\n",
       "\n",
       "    .dataframe thead th {\n",
       "        text-align: right;\n",
       "    }\n",
       "</style>\n",
       "<table border=\"1\" class=\"dataframe\">\n",
       "  <thead>\n",
       "    <tr style=\"text-align: right;\">\n",
       "      <th></th>\n",
       "      <th>item name</th>\n",
       "      <th>price</th>\n",
       "      <th>type</th>\n",
       "    </tr>\n",
       "  </thead>\n",
       "  <tbody>\n",
       "    <tr>\n",
       "      <th>0</th>\n",
       "      <td>USB cable</td>\n",
       "      <td>$10.99</td>\n",
       "      <td>USB C to USB C</td>\n",
       "    </tr>\n",
       "    <tr>\n",
       "      <th>1</th>\n",
       "      <td>USB cable</td>\n",
       "      <td>$10.99</td>\n",
       "      <td>USB A to USB C</td>\n",
       "    </tr>\n",
       "    <tr>\n",
       "      <th>2</th>\n",
       "      <td>Batteries</td>\n",
       "      <td>$9.99</td>\n",
       "      <td>AA</td>\n",
       "    </tr>\n",
       "    <tr>\n",
       "      <th>3</th>\n",
       "      <td>Batteries</td>\n",
       "      <td>$8.99</td>\n",
       "      <td>AAA</td>\n",
       "    </tr>\n",
       "    <tr>\n",
       "      <th>4</th>\n",
       "      <td>Mouse</td>\n",
       "      <td>$12.99</td>\n",
       "      <td>Wireless USB</td>\n",
       "    </tr>\n",
       "  </tbody>\n",
       "</table>\n",
       "</div>"
      ],
      "text/plain": [
       "   item name   price            type\n",
       "0  USB cable  $10.99  USB C to USB C\n",
       "1  USB cable  $10.99  USB A to USB C\n",
       "2  Batteries   $9.99              AA\n",
       "3  Batteries   $8.99             AAA\n",
       "4      Mouse  $12.99    Wireless USB"
      ]
     },
     "execution_count": 188,
     "metadata": {},
     "output_type": "execute_result"
    }
   ],
   "source": [
    "df"
   ]
  },
  {
   "cell_type": "code",
   "execution_count": 90,
   "id": "c295cbbe",
   "metadata": {},
   "outputs": [
    {
     "data": {
      "text/html": [
       "<div>\n",
       "<style scoped>\n",
       "    .dataframe tbody tr th:only-of-type {\n",
       "        vertical-align: middle;\n",
       "    }\n",
       "\n",
       "    .dataframe tbody tr th {\n",
       "        vertical-align: top;\n",
       "    }\n",
       "\n",
       "    .dataframe thead th {\n",
       "        text-align: right;\n",
       "    }\n",
       "</style>\n",
       "<table border=\"1\" class=\"dataframe\">\n",
       "  <thead>\n",
       "    <tr style=\"text-align: right;\">\n",
       "      <th></th>\n",
       "      <th>item_name</th>\n",
       "      <th>price</th>\n",
       "      <th>type</th>\n",
       "    </tr>\n",
       "  </thead>\n",
       "  <tbody>\n",
       "    <tr>\n",
       "      <th>0</th>\n",
       "      <td>USB cable</td>\n",
       "      <td>$10.99</td>\n",
       "      <td>USB C to USB C</td>\n",
       "    </tr>\n",
       "    <tr>\n",
       "      <th>1</th>\n",
       "      <td>USB cable</td>\n",
       "      <td>$10.99</td>\n",
       "      <td>USB A to USB C</td>\n",
       "    </tr>\n",
       "    <tr>\n",
       "      <th>2</th>\n",
       "      <td>Batteries</td>\n",
       "      <td>$9.99</td>\n",
       "      <td>AA</td>\n",
       "    </tr>\n",
       "    <tr>\n",
       "      <th>3</th>\n",
       "      <td>Batteries</td>\n",
       "      <td>$8.99</td>\n",
       "      <td>AAA</td>\n",
       "    </tr>\n",
       "    <tr>\n",
       "      <th>4</th>\n",
       "      <td>Mouse</td>\n",
       "      <td>$12.99</td>\n",
       "      <td>Wireless USB</td>\n",
       "    </tr>\n",
       "  </tbody>\n",
       "</table>\n",
       "</div>"
      ],
      "text/plain": [
       "   item_name   price            type\n",
       "0  USB cable  $10.99  USB C to USB C\n",
       "1  USB cable  $10.99  USB A to USB C\n",
       "2  Batteries   $9.99              AA\n",
       "3  Batteries   $8.99             AAA\n",
       "4      Mouse  $12.99    Wireless USB"
      ]
     },
     "execution_count": 90,
     "metadata": {},
     "output_type": "execute_result"
    }
   ],
   "source": [
    "# Rename the item name column to item_name\n",
    "df.rename(columns={\"item name\": \"item_name\"}, inplace=True)\n",
    "df"
   ]
  },
  {
   "cell_type": "code",
   "execution_count": 92,
   "id": "1cf96712",
   "metadata": {},
   "outputs": [
    {
     "data": {
      "text/html": [
       "<div>\n",
       "<style scoped>\n",
       "    .dataframe tbody tr th:only-of-type {\n",
       "        vertical-align: middle;\n",
       "    }\n",
       "\n",
       "    .dataframe tbody tr th {\n",
       "        vertical-align: top;\n",
       "    }\n",
       "\n",
       "    .dataframe thead th {\n",
       "        text-align: right;\n",
       "    }\n",
       "</style>\n",
       "<table border=\"1\" class=\"dataframe\">\n",
       "  <thead>\n",
       "    <tr style=\"text-align: right;\">\n",
       "      <th></th>\n",
       "      <th>item_name</th>\n",
       "      <th>price</th>\n",
       "      <th>type</th>\n",
       "      <th>units_sold</th>\n",
       "    </tr>\n",
       "  </thead>\n",
       "  <tbody>\n",
       "    <tr>\n",
       "      <th>0</th>\n",
       "      <td>USB cable</td>\n",
       "      <td>$10.99</td>\n",
       "      <td>USB C to USB C</td>\n",
       "      <td>41</td>\n",
       "    </tr>\n",
       "    <tr>\n",
       "      <th>1</th>\n",
       "      <td>USB cable</td>\n",
       "      <td>$10.99</td>\n",
       "      <td>USB A to USB C</td>\n",
       "      <td>113</td>\n",
       "    </tr>\n",
       "    <tr>\n",
       "      <th>2</th>\n",
       "      <td>Batteries</td>\n",
       "      <td>$9.99</td>\n",
       "      <td>AA</td>\n",
       "      <td>54</td>\n",
       "    </tr>\n",
       "    <tr>\n",
       "      <th>3</th>\n",
       "      <td>Batteries</td>\n",
       "      <td>$8.99</td>\n",
       "      <td>AAA</td>\n",
       "      <td>35</td>\n",
       "    </tr>\n",
       "    <tr>\n",
       "      <th>4</th>\n",
       "      <td>Mouse</td>\n",
       "      <td>$12.99</td>\n",
       "      <td>Wireless USB</td>\n",
       "      <td>22</td>\n",
       "    </tr>\n",
       "  </tbody>\n",
       "</table>\n",
       "</div>"
      ],
      "text/plain": [
       "   item_name   price            type  units_sold\n",
       "0  USB cable  $10.99  USB C to USB C          41\n",
       "1  USB cable  $10.99  USB A to USB C         113\n",
       "2  Batteries   $9.99              AA          54\n",
       "3  Batteries   $8.99             AAA          35\n",
       "4      Mouse  $12.99    Wireless USB          22"
      ]
     },
     "execution_count": 92,
     "metadata": {},
     "output_type": "execute_result"
    }
   ],
   "source": [
    "# Add a column named units_sold to this dataframe and assign the values [41, 113, 54, 35, 22]\n",
    "df[\"units_sold\"] = [41,113,54,35,22]\n",
    "df"
   ]
  },
  {
   "cell_type": "code",
   "execution_count": 190,
   "id": "c8d2ec24",
   "metadata": {},
   "outputs": [],
   "source": [
    "# Convert the price column into a float data type\n",
    "df[\"price\"]=df[\"price\"].str.replace(\"$\",\"\", regex=False)"
   ]
  },
  {
   "cell_type": "code",
   "execution_count": 192,
   "id": "bdfd98fb-fc02-4cf3-9ff5-062ce19a4e25",
   "metadata": {},
   "outputs": [],
   "source": [
    "df['price'] = pd.to_numeric(df['price'], errors='coerce')"
   ]
  },
  {
   "cell_type": "code",
   "execution_count": 194,
   "id": "3a075246-afaa-4fbc-9fdb-a2970cae5c42",
   "metadata": {},
   "outputs": [
    {
     "data": {
      "text/plain": [
       "0    10.99\n",
       "1    10.99\n",
       "2     9.99\n",
       "3     8.99\n",
       "4    12.99\n",
       "Name: price, dtype: float64"
      ]
     },
     "execution_count": 194,
     "metadata": {},
     "output_type": "execute_result"
    }
   ],
   "source": [
    "df.price"
   ]
  },
  {
   "cell_type": "code",
   "execution_count": 196,
   "id": "fbc9017a",
   "metadata": {},
   "outputs": [
    {
     "data": {
      "text/html": [
       "<div>\n",
       "<style scoped>\n",
       "    .dataframe tbody tr th:only-of-type {\n",
       "        vertical-align: middle;\n",
       "    }\n",
       "\n",
       "    .dataframe tbody tr th {\n",
       "        vertical-align: top;\n",
       "    }\n",
       "\n",
       "    .dataframe thead th {\n",
       "        text-align: right;\n",
       "    }\n",
       "</style>\n",
       "<table border=\"1\" class=\"dataframe\">\n",
       "  <thead>\n",
       "    <tr style=\"text-align: right;\">\n",
       "      <th></th>\n",
       "      <th>item name</th>\n",
       "      <th>price</th>\n",
       "      <th>type</th>\n",
       "      <th>total_revenue</th>\n",
       "    </tr>\n",
       "  </thead>\n",
       "  <tbody>\n",
       "    <tr>\n",
       "      <th>0</th>\n",
       "      <td>USB cable</td>\n",
       "      <td>10.99</td>\n",
       "      <td>USB C to USB C</td>\n",
       "      <td>120.7801</td>\n",
       "    </tr>\n",
       "    <tr>\n",
       "      <th>1</th>\n",
       "      <td>USB cable</td>\n",
       "      <td>10.99</td>\n",
       "      <td>USB A to USB C</td>\n",
       "      <td>120.7801</td>\n",
       "    </tr>\n",
       "    <tr>\n",
       "      <th>2</th>\n",
       "      <td>Batteries</td>\n",
       "      <td>9.99</td>\n",
       "      <td>AA</td>\n",
       "      <td>99.8001</td>\n",
       "    </tr>\n",
       "    <tr>\n",
       "      <th>3</th>\n",
       "      <td>Batteries</td>\n",
       "      <td>8.99</td>\n",
       "      <td>AAA</td>\n",
       "      <td>80.8201</td>\n",
       "    </tr>\n",
       "    <tr>\n",
       "      <th>4</th>\n",
       "      <td>Mouse</td>\n",
       "      <td>12.99</td>\n",
       "      <td>Wireless USB</td>\n",
       "      <td>168.7401</td>\n",
       "    </tr>\n",
       "  </tbody>\n",
       "</table>\n",
       "</div>"
      ],
      "text/plain": [
       "   item name  price            type  total_revenue\n",
       "0  USB cable  10.99  USB C to USB C       120.7801\n",
       "1  USB cable  10.99  USB A to USB C       120.7801\n",
       "2  Batteries   9.99              AA        99.8001\n",
       "3  Batteries   8.99             AAA        80.8201\n",
       "4      Mouse  12.99    Wireless USB       168.7401"
      ]
     },
     "execution_count": 196,
     "metadata": {},
     "output_type": "execute_result"
    }
   ],
   "source": [
    "# Create a new column named \"total_revenue\" that holds the `price` column times the `units_sold` column\n",
    "df[\"total_revenue\"] = df[\"price\"] * df[\"price\"]\n",
    "df"
   ]
  },
  {
   "cell_type": "code",
   "execution_count": 198,
   "id": "d0737961",
   "metadata": {},
   "outputs": [
    {
     "data": {
      "text/html": [
       "<div>\n",
       "<style scoped>\n",
       "    .dataframe tbody tr th:only-of-type {\n",
       "        vertical-align: middle;\n",
       "    }\n",
       "\n",
       "    .dataframe tbody tr th {\n",
       "        vertical-align: top;\n",
       "    }\n",
       "\n",
       "    .dataframe thead th {\n",
       "        text-align: right;\n",
       "    }\n",
       "</style>\n",
       "<table border=\"1\" class=\"dataframe\">\n",
       "  <thead>\n",
       "    <tr style=\"text-align: right;\">\n",
       "      <th></th>\n",
       "      <th>item name</th>\n",
       "      <th>price</th>\n",
       "      <th>type</th>\n",
       "      <th>total_revenue</th>\n",
       "    </tr>\n",
       "  </thead>\n",
       "  <tbody>\n",
       "    <tr>\n",
       "      <th>0</th>\n",
       "      <td>USB cable</td>\n",
       "      <td>10.99</td>\n",
       "      <td>USB C to USB C</td>\n",
       "      <td>121.0</td>\n",
       "    </tr>\n",
       "    <tr>\n",
       "      <th>1</th>\n",
       "      <td>USB cable</td>\n",
       "      <td>10.99</td>\n",
       "      <td>USB A to USB C</td>\n",
       "      <td>121.0</td>\n",
       "    </tr>\n",
       "    <tr>\n",
       "      <th>2</th>\n",
       "      <td>Batteries</td>\n",
       "      <td>9.99</td>\n",
       "      <td>AA</td>\n",
       "      <td>100.0</td>\n",
       "    </tr>\n",
       "    <tr>\n",
       "      <th>3</th>\n",
       "      <td>Batteries</td>\n",
       "      <td>8.99</td>\n",
       "      <td>AAA</td>\n",
       "      <td>81.0</td>\n",
       "    </tr>\n",
       "    <tr>\n",
       "      <th>4</th>\n",
       "      <td>Mouse</td>\n",
       "      <td>12.99</td>\n",
       "      <td>Wireless USB</td>\n",
       "      <td>169.0</td>\n",
       "    </tr>\n",
       "  </tbody>\n",
       "</table>\n",
       "</div>"
      ],
      "text/plain": [
       "   item name  price            type  total_revenue\n",
       "0  USB cable  10.99  USB C to USB C          121.0\n",
       "1  USB cable  10.99  USB A to USB C          121.0\n",
       "2  Batteries   9.99              AA          100.0\n",
       "3  Batteries   8.99             AAA           81.0\n",
       "4      Mouse  12.99    Wireless USB          169.0"
      ]
     },
     "execution_count": 198,
     "metadata": {},
     "output_type": "execute_result"
    }
   ],
   "source": [
    "# Round the total_revenue column values to the nearest whole number.\n",
    "df[\"total_revenue\"] = df[\"total_revenue\"].round()\n",
    "df"
   ]
  },
  {
   "cell_type": "code",
   "execution_count": 204,
   "id": "a1851c0e-6ce9-4ed2-bd83-af084eb083eb",
   "metadata": {},
   "outputs": [
    {
     "name": "stdout",
     "output_type": "stream",
     "text": [
      "File exported successfully!\n"
     ]
    }
   ],
   "source": [
    "# export file in csv\n",
    "df.to_csv('02_Pandas.csv', index=False)\n",
    "print(\"File exported successfully!\")"
   ]
  },
  {
   "cell_type": "code",
   "execution_count": 202,
   "id": "31f38c18-22a9-480f-9afb-31a31a92b131",
   "metadata": {},
   "outputs": [
    {
     "name": "stdout",
     "output_type": "stream",
     "text": [
      "File exported successfully!\n"
     ]
    }
   ],
   "source": [
    "# export file in excel\n",
    "df.to_excel('02_Pandas_Excel.xlsx', index=False)\n",
    "print(\"File exported successfully!\")"
   ]
  },
  {
   "cell_type": "code",
   "execution_count": null,
   "id": "e2d6bb81-ffd3-401b-ab77-38c4a8afbc60",
   "metadata": {},
   "outputs": [],
   "source": []
  }
 ],
 "metadata": {
  "kernelspec": {
   "display_name": "Python 3 (ipykernel)",
   "language": "python",
   "name": "python3"
  },
  "language_info": {
   "codemirror_mode": {
    "name": "ipython",
    "version": 3
   },
   "file_extension": ".py",
   "mimetype": "text/x-python",
   "name": "python",
   "nbconvert_exporter": "python",
   "pygments_lexer": "ipython3",
   "version": "3.12.7"
  }
 },
 "nbformat": 4,
 "nbformat_minor": 5
}
