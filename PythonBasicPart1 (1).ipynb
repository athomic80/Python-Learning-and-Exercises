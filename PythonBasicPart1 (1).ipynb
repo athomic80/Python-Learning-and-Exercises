{
 "cells": [
  {
   "cell_type": "markdown",
   "id": "5a219c8c-f451-423a-bd92-6ea2644c6cd1",
   "metadata": {
    "jp-MarkdownHeadingCollapsed": true
   },
   "source": [
    "# Basics"
   ]
  },
  {
   "cell_type": "code",
   "execution_count": 4,
   "id": "0ff004d4-6be2-48b6-bb22-7e7f0fa8cac5",
   "metadata": {},
   "outputs": [
    {
     "name": "stdout",
     "output_type": "stream",
     "text": [
      "Hello World\n"
     ]
    }
   ],
   "source": [
    "print (\"Hello World\")"
   ]
  },
  {
   "cell_type": "code",
   "execution_count": 6,
   "id": "f19b1885-1c1d-4334-8c91-fc27f5d8d14a",
   "metadata": {},
   "outputs": [
    {
     "data": {
      "text/plain": [
       "6"
      ]
     },
     "execution_count": 6,
     "metadata": {},
     "output_type": "execute_result"
    }
   ],
   "source": [
    "2+4"
   ]
  },
  {
   "cell_type": "code",
   "execution_count": 8,
   "id": "2fe86d46-491b-41d0-8aa8-49c9004d46f7",
   "metadata": {},
   "outputs": [
    {
     "data": {
      "text/plain": [
       "7.0"
      ]
     },
     "execution_count": 8,
     "metadata": {},
     "output_type": "execute_result"
    }
   ],
   "source": [
    "21/3"
   ]
  },
  {
   "cell_type": "code",
   "execution_count": 10,
   "id": "593d6da7-cc5d-4da8-aba3-ec9a26060390",
   "metadata": {},
   "outputs": [
    {
     "data": {
      "text/plain": [
       "16"
      ]
     },
     "execution_count": 10,
     "metadata": {},
     "output_type": "execute_result"
    }
   ],
   "source": [
    "4*4"
   ]
  },
  {
   "cell_type": "code",
   "execution_count": 262,
   "id": "8f1918e3-020d-4b56-8533-0c8c89501a12",
   "metadata": {},
   "outputs": [],
   "source": [
    "# use # for titles in markdown, increase number of # (###) for smaller text"
   ]
  },
  {
   "cell_type": "markdown",
   "id": "216a11a2-0aed-4885-a36d-a904a566ae9d",
   "metadata": {
    "jp-MarkdownHeadingCollapsed": true
   },
   "source": [
    "# None shall Pass!!!\n",
    "## The holy hand grenade of Antioch\n",
    "watery tarts throwing swords is no basis for a system of government"
   ]
  },
  {
   "cell_type": "raw",
   "id": "23ebfd0c-d037-490f-9624-f744821fd001",
   "metadata": {},
   "source": [
    "This is a cell in raw text"
   ]
  },
  {
   "cell_type": "code",
   "execution_count": 21,
   "id": "21ea706a-dea5-4815-80db-20a8a149faff",
   "metadata": {},
   "outputs": [
    {
     "name": "stdout",
     "output_type": "stream",
     "text": [
      "This is an EX-Parrot\n"
     ]
    }
   ],
   "source": [
    "print(\"This is an EX-Parrot\")"
   ]
  },
  {
   "cell_type": "code",
   "execution_count": 40,
   "id": "f05f3817-c6f7-43bb-b5bd-9be6f6504393",
   "metadata": {},
   "outputs": [
    {
     "name": "stdout",
     "output_type": "stream",
     "text": [
      "No, it's just resting\n"
     ]
    }
   ],
   "source": [
    "print(\"No, it's just resting\")"
   ]
  },
  {
   "cell_type": "code",
   "execution_count": 42,
   "id": "7555f527-a592-4947-abf0-890bc0c77c9c",
   "metadata": {},
   "outputs": [
    {
     "name": "stdout",
     "output_type": "stream",
     "text": [
      "3.14\n"
     ]
    }
   ],
   "source": [
    "print(3.14)"
   ]
  },
  {
   "cell_type": "code",
   "execution_count": 44,
   "id": "c396a09e-ce35-4227-8a14-c0df5ac43ecb",
   "metadata": {},
   "outputs": [
    {
     "name": "stdout",
     "output_type": "stream",
     "text": [
      "3.14\n"
     ]
    }
   ],
   "source": [
    "print(\"3.14\")"
   ]
  },
  {
   "cell_type": "code",
   "execution_count": 46,
   "id": "4ea2d47c-a0dd-4da2-9265-21d2552e5dbd",
   "metadata": {},
   "outputs": [
    {
     "name": "stdout",
     "output_type": "stream",
     "text": [
      "6.28\n"
     ]
    }
   ],
   "source": [
    "print(3.14*2)"
   ]
  },
  {
   "cell_type": "code",
   "execution_count": 48,
   "id": "ddb1bdb4-0235-4537-940e-4f6e4d034842",
   "metadata": {},
   "outputs": [
    {
     "name": "stdout",
     "output_type": "stream",
     "text": [
      "3.143.14\n"
     ]
    }
   ],
   "source": [
    "print(\"3.14\"*2)"
   ]
  },
  {
   "cell_type": "code",
   "execution_count": 50,
   "id": "02783963-cf9e-4550-9505-ddeaab30bcfc",
   "metadata": {},
   "outputs": [
    {
     "name": "stdout",
     "output_type": "stream",
     "text": [
      "<class 'float'>\n"
     ]
    }
   ],
   "source": [
    "print(type(3.14))"
   ]
  },
  {
   "cell_type": "code",
   "execution_count": 52,
   "id": "e6c61a2e-1027-400b-9e78-8e659df48fbd",
   "metadata": {},
   "outputs": [
    {
     "name": "stdout",
     "output_type": "stream",
     "text": [
      "<class 'str'>\n"
     ]
    }
   ],
   "source": [
    "print(type(\"3.14\"))"
   ]
  },
  {
   "cell_type": "code",
   "execution_count": 54,
   "id": "5e7287bd-7b3f-46e4-adeb-815b1ab7b787",
   "metadata": {},
   "outputs": [
    {
     "ename": "SyntaxError",
     "evalue": "unterminated string literal (detected at line 1) (3150522118.py, line 1)",
     "output_type": "error",
     "traceback": [
      "\u001b[1;36m  Cell \u001b[1;32mIn[54], line 1\u001b[1;36m\u001b[0m\n\u001b[1;33m    print(\"I love Python')\u001b[0m\n\u001b[1;37m          ^\u001b[0m\n\u001b[1;31mSyntaxError\u001b[0m\u001b[1;31m:\u001b[0m unterminated string literal (detected at line 1)\n"
     ]
    }
   ],
   "source": [
    "print(\"I love Python')\n",
    "    "
   ]
  },
  {
   "cell_type": "code",
   "execution_count": 56,
   "id": "288abbc7-f8b4-4d96-af03-d1e7ac53ec42",
   "metadata": {},
   "outputs": [
    {
     "ename": "NameError",
     "evalue": "name 'pirnt' is not defined",
     "output_type": "error",
     "traceback": [
      "\u001b[1;31m---------------------------------------------------------------------------\u001b[0m",
      "\u001b[1;31mNameError\u001b[0m                                 Traceback (most recent call last)",
      "Cell \u001b[1;32mIn[56], line 1\u001b[0m\n\u001b[1;32m----> 1\u001b[0m pirnt(\u001b[38;5;124m\"\u001b[39m\u001b[38;5;124mI love Python\u001b[39m\u001b[38;5;124m\"\u001b[39m)\n",
      "\u001b[1;31mNameError\u001b[0m: name 'pirnt' is not defined"
     ]
    }
   ],
   "source": [
    "pirnt(\"I love Python\")"
   ]
  },
  {
   "cell_type": "code",
   "execution_count": 58,
   "id": "95aecc6d-5b7f-4f77-ae8a-9b09e02ecfeb",
   "metadata": {},
   "outputs": [
    {
     "data": {
      "text/plain": [
       "\u001b[1;31mSignature:\u001b[0m \u001b[0mprint\u001b[0m\u001b[1;33m(\u001b[0m\u001b[1;33m*\u001b[0m\u001b[0margs\u001b[0m\u001b[1;33m,\u001b[0m \u001b[0msep\u001b[0m\u001b[1;33m=\u001b[0m\u001b[1;34m' '\u001b[0m\u001b[1;33m,\u001b[0m \u001b[0mend\u001b[0m\u001b[1;33m=\u001b[0m\u001b[1;34m'\\n'\u001b[0m\u001b[1;33m,\u001b[0m \u001b[0mfile\u001b[0m\u001b[1;33m=\u001b[0m\u001b[1;32mNone\u001b[0m\u001b[1;33m,\u001b[0m \u001b[0mflush\u001b[0m\u001b[1;33m=\u001b[0m\u001b[1;32mFalse\u001b[0m\u001b[1;33m)\u001b[0m\u001b[1;33m\u001b[0m\u001b[1;33m\u001b[0m\u001b[0m\n",
       "\u001b[1;31mDocstring:\u001b[0m\n",
       "Prints the values to a stream, or to sys.stdout by default.\n",
       "\n",
       "sep\n",
       "  string inserted between values, default a space.\n",
       "end\n",
       "  string appended after the last value, default a newline.\n",
       "file\n",
       "  a file-like object (stream); defaults to the current sys.stdout.\n",
       "flush\n",
       "  whether to forcibly flush the stream.\n",
       "\u001b[1;31mType:\u001b[0m      builtin_function_or_method"
      ]
     },
     "metadata": {},
     "output_type": "display_data"
    }
   ],
   "source": [
    "?print"
   ]
  },
  {
   "cell_type": "code",
   "execution_count": 60,
   "id": "11b8d31d-53d3-41d0-a102-0f9f16d6f560",
   "metadata": {},
   "outputs": [
    {
     "data": {
      "text/plain": [
       "\u001b[1;31mInit signature:\u001b[0m \u001b[0mtype\u001b[0m\u001b[1;33m(\u001b[0m\u001b[0mself\u001b[0m\u001b[1;33m,\u001b[0m \u001b[1;33m/\u001b[0m\u001b[1;33m,\u001b[0m \u001b[1;33m*\u001b[0m\u001b[0margs\u001b[0m\u001b[1;33m,\u001b[0m \u001b[1;33m**\u001b[0m\u001b[0mkwargs\u001b[0m\u001b[1;33m)\u001b[0m\u001b[1;33m\u001b[0m\u001b[1;33m\u001b[0m\u001b[0m\n",
       "\u001b[1;31mDocstring:\u001b[0m     \n",
       "type(object) -> the object's type\n",
       "type(name, bases, dict, **kwds) -> a new type\n",
       "\u001b[1;31mType:\u001b[0m           type\n",
       "\u001b[1;31mSubclasses:\u001b[0m     ABCMeta, EnumType, _AnyMeta, NamedTupleMeta, _TypedDictMeta, _DeprecatedType, _ABC, MetaHasDescriptors, PyCStructType, UnionType, ..."
      ]
     },
     "metadata": {},
     "output_type": "display_data"
    }
   ],
   "source": [
    "?type"
   ]
  },
  {
   "cell_type": "code",
   "execution_count": 62,
   "id": "1531a91f-cc04-4369-93b0-8554d44571ff",
   "metadata": {},
   "outputs": [
    {
     "name": "stdout",
     "output_type": "stream",
     "text": [
      "0.625\n"
     ]
    }
   ],
   "source": [
    "print(5/8)"
   ]
  },
  {
   "cell_type": "code",
   "execution_count": 64,
   "id": "a0f33e1a-f535-486c-83f9-f0f9582f2e51",
   "metadata": {},
   "outputs": [
    {
     "name": "stdout",
     "output_type": "stream",
     "text": [
      "8.571428571428571\n"
     ]
    }
   ],
   "source": [
    "print(20*3/7)"
   ]
  },
  {
   "cell_type": "code",
   "execution_count": 66,
   "id": "a567ce8f-f60f-47f6-a0e9-57a495538d82",
   "metadata": {},
   "outputs": [
    {
     "ename": "TypeError",
     "evalue": "'int' object is not iterable",
     "output_type": "error",
     "traceback": [
      "\u001b[1;31m---------------------------------------------------------------------------\u001b[0m",
      "\u001b[1;31mTypeError\u001b[0m                                 Traceback (most recent call last)",
      "Cell \u001b[1;32mIn[66], line 1\u001b[0m\n\u001b[1;32m----> 1\u001b[0m \u001b[38;5;28msum\u001b[39m(\u001b[38;5;241m2\u001b[39m,\u001b[38;5;241m3\u001b[39m)\n",
      "\u001b[1;31mTypeError\u001b[0m: 'int' object is not iterable"
     ]
    }
   ],
   "source": [
    "sum(2,3)"
   ]
  },
  {
   "cell_type": "code",
   "execution_count": 68,
   "id": "cf406ce4-63b8-4b2d-9687-2095c1ac07d6",
   "metadata": {},
   "outputs": [
    {
     "ename": "TypeError",
     "evalue": "'int' object is not iterable",
     "output_type": "error",
     "traceback": [
      "\u001b[1;31m---------------------------------------------------------------------------\u001b[0m",
      "\u001b[1;31mTypeError\u001b[0m                                 Traceback (most recent call last)",
      "Cell \u001b[1;32mIn[68], line 1\u001b[0m\n\u001b[1;32m----> 1\u001b[0m \u001b[38;5;28msum\u001b[39m(\u001b[38;5;241m2\u001b[39m\u001b[38;5;241m+\u001b[39m\u001b[38;5;241m3\u001b[39m)\n",
      "\u001b[1;31mTypeError\u001b[0m: 'int' object is not iterable"
     ]
    }
   ],
   "source": [
    "sum(2+3)"
   ]
  },
  {
   "cell_type": "code",
   "execution_count": 74,
   "id": "0aba4df3-059a-48e0-9421-ca2826099844",
   "metadata": {},
   "outputs": [
    {
     "name": "stdout",
     "output_type": "stream",
     "text": [
      "NOBODY expects the Spanish Inquisition!\n",
      "Our chief weapon is surprise...surprise and fear...fear and surprise....\n",
      "\n",
      "Our two weapons are fear and surprise...and ruthless efficiency....\n",
      "Our *three* weapons are fear, surprise, and ruthless efficiency...\n",
      "\n",
      "and an almost fanatical devotion to the Pope.... Our *four*...no... *Amongst* our weapons....\n",
      "Amongst our weaponry...are such elements as fear, surprise....\n",
      "\n",
      "I'll come in again.\n"
     ]
    }
   ],
   "source": [
    "print(\"NOBODY expects the Spanish Inquisition!\\nOur chief weapon is surprise...surprise and fear...fear and surprise....\")\n",
    "print()\n",
    "print(\"Our two weapons are fear and surprise...and ruthless efficiency....\\nOur *three* weapons are fear, surprise, and ruthless efficiency...\")\n",
    "print()\n",
    "print(\"and an almost fanatical devotion to the Pope.... Our *four*...no... *Amongst* our weapons....\\nAmongst our weaponry...are such elements as fear, surprise....\")\n",
    "print()\n",
    "print(\"I'll come in again.\")"
   ]
  },
  {
   "cell_type": "code",
   "execution_count": 3,
   "id": "3d4fbec8-ae6a-4624-be59-a341b2dd011e",
   "metadata": {},
   "outputs": [
    {
     "name": "stdout",
     "output_type": "stream",
     "text": [
      "abc\n"
     ]
    }
   ],
   "source": [
    "print(\"a\" + \"b\" + \"c\")"
   ]
  },
  {
   "cell_type": "code",
   "execution_count": 5,
   "id": "114b4d4e-35f9-4c01-95c2-9fd7ea61d041",
   "metadata": {},
   "outputs": [
    {
     "name": "stdout",
     "output_type": "stream",
     "text": [
      "a b c\n"
     ]
    }
   ],
   "source": [
    "print(\"a\" , \"b\" , \"c\")"
   ]
  },
  {
   "cell_type": "code",
   "execution_count": 15,
   "id": "8c9270d2-2439-4546-a66d-e7ad64233ba2",
   "metadata": {},
   "outputs": [
    {
     "name": "stdout",
     "output_type": "stream",
     "text": [
      "The itsy bitsy spider climbed up the waterspout.\n"
     ]
    }
   ],
   "source": [
    "print(\"The itsy bitsy spider\",\"climbed up\",\"the waterspout.\")"
   ]
  },
  {
   "cell_type": "code",
   "execution_count": 9,
   "id": "754f2916-e17e-4fa1-b741-8e78eec7edc9",
   "metadata": {},
   "outputs": [
    {
     "name": "stdout",
     "output_type": "stream",
     "text": [
      "The itsy bitsy spiderclimbed upthe waterspout.\n"
     ]
    }
   ],
   "source": [
    "print(\"The itsy bitsy spider\" + \"climbed up\" + \"the waterspout.\")"
   ]
  },
  {
   "cell_type": "code",
   "execution_count": 11,
   "id": "4c7d58f3-548e-43f8-a758-7dbb0d721f14",
   "metadata": {},
   "outputs": [
    {
     "name": "stdout",
     "output_type": "stream",
     "text": [
      "The itsy bitsy spider climbed up the waterspout.\n"
     ]
    }
   ],
   "source": [
    "print(\"The itsy bitsy spider \" + \"climbed up \" + \"the waterspout.\")"
   ]
  },
  {
   "cell_type": "code",
   "execution_count": 17,
   "id": "7269b24f-b651-4657-b7d6-4af9ff0a4d46",
   "metadata": {},
   "outputs": [
    {
     "name": "stdout",
     "output_type": "stream",
     "text": [
      "My name is Python\n",
      "Monty Python\n"
     ]
    }
   ],
   "source": [
    "print(\"My name is\",\"Python\")\n",
    "print(\"Monty Python\")"
   ]
  },
  {
   "cell_type": "code",
   "execution_count": 25,
   "id": "8304d6c6-f2cf-4a1d-b481-85af29cd1810",
   "metadata": {},
   "outputs": [
    {
     "name": "stdout",
     "output_type": "stream",
     "text": [
      "My name is *Python\n",
      "Monty Python\n"
     ]
    }
   ],
   "source": [
    "print(\"My name is\",\"Python\",sep=\" *\")\n",
    "print(\"Monty Python\")"
   ]
  },
  {
   "cell_type": "code",
   "execution_count": 23,
   "id": "aff57ebe-a363-4905-a338-3ae3750b47ff",
   "metadata": {},
   "outputs": [
    {
     "name": "stdout",
     "output_type": "stream",
     "text": [
      "My name is_Python\n",
      "Monty Python\n"
     ]
    }
   ],
   "source": [
    "print(\"My name is\",\"Python\",sep=\"_\")\n",
    "print(\"Monty Python\")"
   ]
  },
  {
   "cell_type": "raw",
   "id": "3ec6f023-5ab3-486d-94ec-5da81962e9d5",
   "metadata": {},
   "source": [
    "# seperator aguements must come at the end - positional arguements always follow keyword arguments"
   ]
  },
  {
   "cell_type": "code",
   "execution_count": 27,
   "id": "8336aea8-dab5-46a8-9732-0916d83deb6c",
   "metadata": {},
   "outputs": [
    {
     "name": "stdout",
     "output_type": "stream",
     "text": [
      "My name is Python\n",
      "Monty Python!"
     ]
    }
   ],
   "source": [
    "print(\"My name is\",\"Python\")\n",
    "print(\"Monty Python\",end=\"!\")"
   ]
  },
  {
   "cell_type": "raw",
   "id": "6f7d2bb8-476f-4e41-8dd7-0cdbafe7ec28",
   "metadata": {},
   "source": [
    "\\ backslash character announces that the next string has a seperate meaning eg. \\n means newline"
   ]
  },
  {
   "cell_type": "code",
   "execution_count": 39,
   "id": "911d5bdc-aa9a-4b60-9095-4888996eded3",
   "metadata": {},
   "outputs": [
    {
     "name": "stdout",
     "output_type": "stream",
     "text": [
      "My name is Python\n",
      "Monty Python\n"
     ]
    }
   ],
   "source": [
    "print(\"My name is Python\\nMonty Python\")"
   ]
  },
  {
   "cell_type": "markdown",
   "id": "35f487a2-4b9d-48e6-a854-f79dcb2b3162",
   "metadata": {
    "jp-MarkdownHeadingCollapsed": true
   },
   "source": [
    "# Boolean logic - true or false"
   ]
  },
  {
   "cell_type": "code",
   "execution_count": 41,
   "id": "7edfe6bd-9c71-474e-af4e-f000ff1a4862",
   "metadata": {},
   "outputs": [
    {
     "name": "stdout",
     "output_type": "stream",
     "text": [
      "False\n"
     ]
    }
   ],
   "source": [
    "print(3>4)"
   ]
  },
  {
   "cell_type": "code",
   "execution_count": 43,
   "id": "2d5aec7a-e117-4abc-bae5-b03071bb1128",
   "metadata": {},
   "outputs": [
    {
     "name": "stdout",
     "output_type": "stream",
     "text": [
      "True\n"
     ]
    }
   ],
   "source": [
    "print(3<4)"
   ]
  },
  {
   "cell_type": "markdown",
   "id": "91f4d4c0-9637-4305-bc5a-746a8dd78158",
   "metadata": {
    "jp-MarkdownHeadingCollapsed": true
   },
   "source": [
    "# Arithmetic"
   ]
  },
  {
   "cell_type": "raw",
   "id": "dd3fa8a6-04e1-4641-8de1-0b102516142a",
   "metadata": {},
   "source": [
    "# arithmetic"
   ]
  },
  {
   "cell_type": "code",
   "execution_count": 45,
   "id": "af135f91-7173-417d-98b6-06df6fc022b0",
   "metadata": {},
   "outputs": [
    {
     "name": "stdout",
     "output_type": "stream",
     "text": [
      "35\n"
     ]
    }
   ],
   "source": [
    "print(30+5)"
   ]
  },
  {
   "cell_type": "code",
   "execution_count": 47,
   "id": "035e2b6e-0480-43be-918f-95340a13125b",
   "metadata": {},
   "outputs": [
    {
     "name": "stdout",
     "output_type": "stream",
     "text": [
      "25\n"
     ]
    }
   ],
   "source": [
    "print(30-5)"
   ]
  },
  {
   "cell_type": "code",
   "execution_count": 49,
   "id": "d1929e36-0e5e-4c03-813a-9750a38b2dbd",
   "metadata": {},
   "outputs": [
    {
     "name": "stdout",
     "output_type": "stream",
     "text": [
      "6.0\n"
     ]
    }
   ],
   "source": [
    "print(30/5)"
   ]
  },
  {
   "cell_type": "code",
   "execution_count": 51,
   "id": "58a7cbd4-4400-468a-86e2-88ff1cd6ae4a",
   "metadata": {},
   "outputs": [
    {
     "name": "stdout",
     "output_type": "stream",
     "text": [
      "150\n"
     ]
    }
   ],
   "source": [
    "print(30*5)"
   ]
  },
  {
   "cell_type": "raw",
   "id": "1d2ac916-32c0-4be4-8e1f-0af6f32bbc38",
   "metadata": {},
   "source": [
    "// Floor division (x//y) (the number of times the second number fits into the first number)"
   ]
  },
  {
   "cell_type": "code",
   "execution_count": 57,
   "id": "fcc026f1-dfdf-4def-9098-42bc07f222ad",
   "metadata": {},
   "outputs": [
    {
     "name": "stdout",
     "output_type": "stream",
     "text": [
      "6\n"
     ]
    }
   ],
   "source": [
    "print(30//5)"
   ]
  },
  {
   "cell_type": "code",
   "execution_count": 67,
   "id": "d3954759-8509-48fe-9187-0247d473bc22",
   "metadata": {},
   "outputs": [
    {
     "name": "stdout",
     "output_type": "stream",
     "text": [
      "11291\n"
     ]
    }
   ],
   "source": [
    "print(146789//13)"
   ]
  },
  {
   "cell_type": "raw",
   "id": "d1cbe3a2-e7b4-4cc9-b8fc-7ff80deb7db1",
   "metadata": {},
   "source": [
    "% - Modulus (x%y) - displays just the remainder following division"
   ]
  },
  {
   "cell_type": "code",
   "execution_count": 63,
   "id": "5bf14831-4f9c-412c-8cb9-177e9b513148",
   "metadata": {},
   "outputs": [
    {
     "name": "stdout",
     "output_type": "stream",
     "text": [
      "2\n"
     ]
    }
   ],
   "source": [
    "print(14%3)"
   ]
  },
  {
   "cell_type": "code",
   "execution_count": 65,
   "id": "b9d5e5e4-d66c-4f38-9308-53ec8b2b76aa",
   "metadata": {},
   "outputs": [
    {
     "name": "stdout",
     "output_type": "stream",
     "text": [
      "6\n"
     ]
    }
   ],
   "source": [
    "print(146789%13)"
   ]
  },
  {
   "cell_type": "raw",
   "id": "99229985-9ca6-42e7-b26c-a1792efc5cd8",
   "metadata": {},
   "source": [
    "** - Exponentiation (x**y) - multiply by the power of"
   ]
  },
  {
   "cell_type": "code",
   "execution_count": 73,
   "id": "f5959243-f913-4545-841b-f960628f42ad",
   "metadata": {},
   "outputs": [
    {
     "name": "stdout",
     "output_type": "stream",
     "text": [
      "100\n"
     ]
    }
   ],
   "source": [
    "print(10**2) # 10 * 10"
   ]
  },
  {
   "cell_type": "code",
   "execution_count": 71,
   "id": "d0bd0486-cf97-4362-a081-f139a8d7809a",
   "metadata": {},
   "outputs": [
    {
     "name": "stdout",
     "output_type": "stream",
     "text": [
      "27\n"
     ]
    }
   ],
   "source": [
    "print(3**3) # 3 * 3 * 3"
   ]
  },
  {
   "cell_type": "code",
   "execution_count": 83,
   "id": "bf752740-9407-42f2-b22d-8ec2c002eb66",
   "metadata": {},
   "outputs": [
    {
     "name": "stdout",
     "output_type": "stream",
     "text": [
      "10.0\n"
     ]
    }
   ],
   "source": [
    "print(100**0.5)"
   ]
  },
  {
   "cell_type": "code",
   "execution_count": 85,
   "id": "979ab406-9d8a-4311-99c8-c5fee043e209",
   "metadata": {},
   "outputs": [],
   "source": [
    "# to designate a comment line"
   ]
  },
  {
   "cell_type": "code",
   "execution_count": 91,
   "id": "02411c0e-e879-4c00-b17e-ddb4f287884f",
   "metadata": {},
   "outputs": [],
   "source": [
    "# Structure of declaration - variable name = \"value\""
   ]
  },
  {
   "cell_type": "code",
   "execution_count": 93,
   "id": "14891e4f-324d-44eb-b2f6-d9f60a704036",
   "metadata": {},
   "outputs": [],
   "source": [
    "planet = \"Mars\"\n",
    "myname = \"Alex\"\n",
    "my_age = 44"
   ]
  },
  {
   "cell_type": "code",
   "execution_count": 95,
   "id": "cb980783-6458-456c-85bd-0d2b03fa1351",
   "metadata": {},
   "outputs": [],
   "source": [
    "# doesn't print a result but is saved."
   ]
  },
  {
   "cell_type": "code",
   "execution_count": 97,
   "id": "5a821e0b-450b-4efa-a9c7-1affce6bbeab",
   "metadata": {},
   "outputs": [
    {
     "name": "stdout",
     "output_type": "stream",
     "text": [
      "Mars\n"
     ]
    }
   ],
   "source": [
    "print(planet)"
   ]
  },
  {
   "cell_type": "code",
   "execution_count": 99,
   "id": "84b504aa-1cf2-4cd2-b693-104961e870e2",
   "metadata": {},
   "outputs": [
    {
     "name": "stdout",
     "output_type": "stream",
     "text": [
      "Alex\n"
     ]
    }
   ],
   "source": [
    "print(myname)"
   ]
  },
  {
   "cell_type": "code",
   "execution_count": 101,
   "id": "8c22ecce-51c9-4926-a3d4-2069eb3474f5",
   "metadata": {},
   "outputs": [
    {
     "name": "stdout",
     "output_type": "stream",
     "text": [
      "44\n"
     ]
    }
   ],
   "source": [
    "print(my_age)"
   ]
  },
  {
   "cell_type": "code",
   "execution_count": 103,
   "id": "b1feee23-0380-4112-b781-74d8151f6509",
   "metadata": {},
   "outputs": [
    {
     "name": "stdout",
     "output_type": "stream",
     "text": [
      "I will be 54 in 10 years\n"
     ]
    }
   ],
   "source": [
    "print(\"I will be\", my_age+10, \"in 10 years\")"
   ]
  },
  {
   "cell_type": "code",
   "execution_count": 105,
   "id": "033fb869-3bc0-4279-abd7-4f60fd056c28",
   "metadata": {},
   "outputs": [
    {
     "name": "stdout",
     "output_type": "stream",
     "text": [
      "Alex will be the first human on Mars\n"
     ]
    }
   ],
   "source": [
    "print(myname, \"will be the first human on\", planet)"
   ]
  },
  {
   "cell_type": "code",
   "execution_count": 107,
   "id": "689f6d52-6a7f-417c-888d-d203476ce038",
   "metadata": {},
   "outputs": [],
   "source": [
    "my_age = 33\n",
    "your_age = 30\n",
    "my_age = your_age"
   ]
  },
  {
   "cell_type": "code",
   "execution_count": 109,
   "id": "6961af6d-2ccc-4886-a17b-f6148c3b755b",
   "metadata": {},
   "outputs": [
    {
     "name": "stdout",
     "output_type": "stream",
     "text": [
      "30\n"
     ]
    }
   ],
   "source": [
    "print(my_age)"
   ]
  },
  {
   "cell_type": "code",
   "execution_count": 113,
   "id": "7d21a0c0-5225-488e-9719-e59876792a89",
   "metadata": {},
   "outputs": [],
   "source": [
    "# do not use keywords for variable names as this will break the definition of the function (eg. print = 10)"
   ]
  },
  {
   "cell_type": "code",
   "execution_count": 139,
   "id": "6887fbd6-75ef-4509-bd6b-7a3353d2f429",
   "metadata": {},
   "outputs": [],
   "source": [
    "my_name = \"Alexander Thompson\""
   ]
  },
  {
   "cell_type": "code",
   "execution_count": 143,
   "id": "d03fa48d-1363-4bf2-90c0-3998fcb82f15",
   "metadata": {},
   "outputs": [
    {
     "name": "stdout",
     "output_type": "stream",
     "text": [
      "Alexander Thompson\n"
     ]
    }
   ],
   "source": [
    "print(my_name)"
   ]
  },
  {
   "cell_type": "code",
   "execution_count": 146,
   "id": "4027873e-9225-409b-9189-bf9324f2babd",
   "metadata": {},
   "outputs": [
    {
     "name": "stdout",
     "output_type": "stream",
     "text": [
      "<class 'str'>\n"
     ]
    }
   ],
   "source": [
    "print(type(my_name))"
   ]
  },
  {
   "cell_type": "code",
   "execution_count": 148,
   "id": "96bbeac8-a3c1-4f5e-82a8-edd96cbe614e",
   "metadata": {},
   "outputs": [
    {
     "name": "stdout",
     "output_type": "stream",
     "text": [
      "18\n"
     ]
    }
   ],
   "source": [
    "print(len(my_name))"
   ]
  },
  {
   "cell_type": "markdown",
   "id": "31847bc0-4923-4049-a657-d4e9f3d57423",
   "metadata": {
    "jp-MarkdownHeadingCollapsed": true
   },
   "source": [
    "# input function"
   ]
  },
  {
   "cell_type": "code",
   "execution_count": 151,
   "id": "a835d4c9-2c7e-4440-a4d0-b8a7c76a3550",
   "metadata": {},
   "outputs": [
    {
     "name": "stdout",
     "output_type": "stream",
     "text": [
      "tell me anything\n"
     ]
    },
    {
     "name": "stdin",
     "output_type": "stream",
     "text": [
      " custard creams are the best biscuit\n"
     ]
    },
    {
     "name": "stdout",
     "output_type": "stream",
     "text": [
      "Hmmm... custard creams are the best biscuit ...really\n"
     ]
    }
   ],
   "source": [
    "print(\"tell me anything\")\n",
    "anything = input()\n",
    "print(\"Hmmm...\", anything, \"...really\")"
   ]
  },
  {
   "cell_type": "code",
   "execution_count": 153,
   "id": "4ea71d01-8420-44ea-8d0b-6dc9ae302e3f",
   "metadata": {},
   "outputs": [
    {
     "name": "stdout",
     "output_type": "stream",
     "text": [
      "tell me anything\n"
     ]
    },
    {
     "name": "stdin",
     "output_type": "stream",
     "text": [
      " what\n"
     ]
    },
    {
     "name": "stdout",
     "output_type": "stream",
     "text": [
      "Hmmm... what ...really\n"
     ]
    }
   ],
   "source": [
    "print(\"tell me anything\")\n",
    "anything = input()\n",
    "print(\"Hmmm...\", anything, \"...really\")"
   ]
  },
  {
   "cell_type": "code",
   "execution_count": 155,
   "id": "0157a05e-7a0d-4be2-aa8b-2ca5d302bc1a",
   "metadata": {},
   "outputs": [
    {
     "name": "stdin",
     "output_type": "stream",
     "text": [
      "tell me anything I am that guy\n"
     ]
    },
    {
     "name": "stdout",
     "output_type": "stream",
     "text": [
      "Hmmm... I am that guy ...really\n"
     ]
    }
   ],
   "source": [
    "anything = input(\"tell me anything\")\n",
    "print(\"Hmmm...\", anything, \"...really\")"
   ]
  },
  {
   "cell_type": "code",
   "execution_count": 159,
   "id": "2512d4fe-51a0-455e-8bb9-7ef0014376b9",
   "metadata": {},
   "outputs": [],
   "source": [
    "# input values are stings not intergers by default"
   ]
  },
  {
   "cell_type": "code",
   "execution_count": 174,
   "id": "87da7c2d-7f9e-4723-8bc4-4fe88453f996",
   "metadata": {},
   "outputs": [
    {
     "name": "stdin",
     "output_type": "stream",
     "text": [
      "Tell me anything... 20\n"
     ]
    },
    {
     "name": "stdout",
     "output_type": "stream",
     "text": [
      "<class 'str'>\n",
      "10.0\n"
     ]
    }
   ],
   "source": [
    "anything = input(\"Tell me anything...\")\n",
    " \n",
    "print(type(anything))\n",
    " \n",
    "print(int(anything)/2)\n",
    " "
   ]
  },
  {
   "cell_type": "code",
   "execution_count": 176,
   "id": "299e6cf7-7f2c-4d1f-a531-22a7d5e57ffb",
   "metadata": {},
   "outputs": [
    {
     "name": "stdin",
     "output_type": "stream",
     "text": [
      "Give me a number:  50\n"
     ]
    },
    {
     "name": "stdout",
     "output_type": "stream",
     "text": [
      "<class 'str'>\n",
      "Half of 50 is 25.0\n"
     ]
    }
   ],
   "source": [
    "anything = input(\"Give me a number: \")\n",
    " \n",
    "print(type(anything))\n",
    " \n",
    "print(f\"Half of {anything} is\", float(anything)/2)"
   ]
  },
  {
   "cell_type": "code",
   "execution_count": 178,
   "id": "dc0076d1-b616-4303-a4d1-7bb0528ad55a",
   "metadata": {},
   "outputs": [
    {
     "name": "stdin",
     "output_type": "stream",
     "text": [
      "Give me a number:  13.9\n"
     ]
    },
    {
     "name": "stdout",
     "output_type": "stream",
     "text": [
      "<class 'str'>\n",
      "Half of 13.9 is 6.95\n"
     ]
    }
   ],
   "source": [
    "anything = input(\"Give me a number: \")\n",
    " \n",
    "print(type(anything))\n",
    " \n",
    "print(f\"Half of {anything} is\", float(anything)/2)"
   ]
  },
  {
   "cell_type": "code",
   "execution_count": 182,
   "id": "9a3736d1-f12f-492b-8212-4ed0cc6cc475",
   "metadata": {},
   "outputs": [
    {
     "name": "stdout",
     "output_type": "stream",
     "text": [
      "Give me 2 integers and I will calculate exponentiation\n"
     ]
    },
    {
     "name": "stdin",
     "output_type": "stream",
     "text": [
      "Enter first number:  2\n",
      "Enter second number:  4\n"
     ]
    },
    {
     "name": "stdout",
     "output_type": "stream",
     "text": [
      "2 to the power of 4 is 16\n"
     ]
    }
   ],
   "source": [
    "print(\"Give me 2 integers and I will calculate exponentiation\")\n",
    "number1 = int(input(\"Enter first number: \"))\n",
    "number2 = int(input(\"Enter second number: \"))\n",
    "print(f\"{number1} to the power of {number2} is\", number1**number2)"
   ]
  },
  {
   "cell_type": "code",
   "execution_count": 184,
   "id": "fa8bd316-c8a5-4b8b-81cb-ef2286d89c50",
   "metadata": {},
   "outputs": [
    {
     "name": "stdout",
     "output_type": "stream",
     "text": [
      "Give me 2 integers and I will calculate exponentiation\n"
     ]
    },
    {
     "name": "stdin",
     "output_type": "stream",
     "text": [
      "Enter first number:  2\n",
      "Enter second number:  4\n"
     ]
    },
    {
     "name": "stdout",
     "output_type": "stream",
     "text": [
      "2 to the power of 4 is 16.\n",
      "4 to the power of 2 is 16."
     ]
    }
   ],
   "source": [
    "print(\"Give me 2 integers and I will calculate exponentiation\")\n",
    "number1 = int(input(\"Enter first number: \"))\n",
    "number2 = int(input(\"Enter second number: \"))\n",
    "print(f\"{number1} to the power of {number2} is\", number1**number2, end=\".\")\n",
    "print()\n",
    "print(f\"{number2} to the power of {number1} is\", number2**number1, end=\".\")"
   ]
  },
  {
   "cell_type": "markdown",
   "id": "38f76d98-b8a0-4700-991f-4ec1087edde2",
   "metadata": {
    "jp-MarkdownHeadingCollapsed": true
   },
   "source": [
    "# casting"
   ]
  },
  {
   "cell_type": "code",
   "execution_count": 167,
   "id": "1dea3d04-3bcc-4835-ac09-1aac54770b6a",
   "metadata": {},
   "outputs": [
    {
     "name": "stdout",
     "output_type": "stream",
     "text": [
      "<class 'str'>\n",
      "<class 'int'>\n",
      "3\n"
     ]
    }
   ],
   "source": [
    "a = \"3\"\n",
    "print(type(a))\n",
    "b = int(a)\n",
    "print(type(b))\n",
    "print(b)"
   ]
  },
  {
   "cell_type": "code",
   "execution_count": 169,
   "id": "bc28fd15-23fb-42f8-a719-da89374709b0",
   "metadata": {},
   "outputs": [
    {
     "name": "stdout",
     "output_type": "stream",
     "text": [
      "<class 'str'>\n",
      "<class 'float'>\n",
      "3.14\n"
     ]
    }
   ],
   "source": [
    "a = \"3.14\"\n",
    "print(type(a))\n",
    "b = float(a)\n",
    "print(type(b))\n",
    "print(b)"
   ]
  },
  {
   "cell_type": "code",
   "execution_count": 171,
   "id": "39a42e9c-dd51-477e-a303-3244ef5f2034",
   "metadata": {},
   "outputs": [
    {
     "name": "stdout",
     "output_type": "stream",
     "text": [
      "<class 'float'>\n",
      "3.14\n",
      "<class 'str'>\n"
     ]
    }
   ],
   "source": [
    "a = 3.14\n",
    "print(type(a))\n",
    "b = str(a)\n",
    "print(b)\n",
    "print(type(b))"
   ]
  },
  {
   "cell_type": "code",
   "execution_count": 188,
   "id": "e72cf330-866f-4eea-abde-f0190922b26c",
   "metadata": {},
   "outputs": [
    {
     "name": "stdout",
     "output_type": "stream",
     "text": [
      "This is a square calculator.\n"
     ]
    },
    {
     "name": "stdin",
     "output_type": "stream",
     "text": [
      "Enter a number:  5\n"
     ]
    },
    {
     "name": "stdout",
     "output_type": "stream",
     "text": [
      "5.0 square is 25.0\n"
     ]
    }
   ],
   "source": [
    "print(\"This is a square calculator.\")\n",
    "anything = float(input(\"Enter a number: \"))\n",
    "something = anything ** 2.0\n",
    "print(anything, \"square is\", something)"
   ]
  },
  {
   "cell_type": "code",
   "execution_count": 226,
   "id": "3759a21f-62de-4b41-aa00-6c27e9d6ebac",
   "metadata": {},
   "outputs": [],
   "source": [
    "# exercise - Design a calculator that will get two numbers from user, make arithmetic operations and display the result."
   ]
  },
  {
   "cell_type": "code",
   "execution_count": 224,
   "id": "ec474548-0c88-4517-af26-71dc18ab6d76",
   "metadata": {},
   "outputs": [
    {
     "name": "stdin",
     "output_type": "stream",
     "text": [
      "Enter a number:  200\n",
      "Enter a number:  10\n"
     ]
    },
    {
     "name": "stdout",
     "output_type": "stream",
     "text": [
      "10.0 is 5.0 percent of 200.0\n"
     ]
    }
   ],
   "source": [
    "number1 = float(input(\"Enter a number: \"))\n",
    "number2 = float(input(\"Enter a number: \"))\n",
    "number3 = 100/number1*number2\n",
    "print(number2, \"is\", number3, \"percent of\", number1)"
   ]
  },
  {
   "cell_type": "code",
   "execution_count": 228,
   "id": "aa0cb958-9d7d-41c8-baab-550fdffd395e",
   "metadata": {},
   "outputs": [
    {
     "name": "stdin",
     "output_type": "stream",
     "text": [
      "Enter a number:  200\n",
      "Enter a number:  10\n"
     ]
    },
    {
     "name": "stdout",
     "output_type": "stream",
     "text": [
      "10 is 5.0 percent of 200\n"
     ]
    }
   ],
   "source": [
    "number1 = int(input(\"Enter a number: \"))\n",
    "number2 = int(input(\"Enter a number: \"))\n",
    "number3 = 100/number1*number2\n",
    "print(number2, \"is\", number3, \"percent of\", number1)"
   ]
  },
  {
   "cell_type": "code",
   "execution_count": 230,
   "id": "c190dfac-613c-4845-b3c7-da0512b13ec9",
   "metadata": {},
   "outputs": [
    {
     "name": "stdout",
     "output_type": "stream",
     "text": [
      "Hello World\n"
     ]
    }
   ],
   "source": [
    "print('Hello', 'World')"
   ]
  },
  {
   "cell_type": "code",
   "execution_count": 232,
   "id": "ef932798-78a9-42f3-b155-30a433666936",
   "metadata": {},
   "outputs": [],
   "source": [
    "x = 5"
   ]
  },
  {
   "cell_type": "code",
   "execution_count": 234,
   "id": "ce4cfce0-4c83-4ae6-89e1-ca913afffa67",
   "metadata": {},
   "outputs": [
    {
     "name": "stdout",
     "output_type": "stream",
     "text": [
      "5\n"
     ]
    }
   ],
   "source": [
    "print(x)"
   ]
  },
  {
   "cell_type": "code",
   "execution_count": 236,
   "id": "ac29ff8f-64ab-496d-9a47-4816b24e4492",
   "metadata": {},
   "outputs": [],
   "source": [
    "x = 'John'"
   ]
  },
  {
   "cell_type": "code",
   "execution_count": 238,
   "id": "97d483c1-301c-4d52-87f8-e39bde838609",
   "metadata": {},
   "outputs": [
    {
     "name": "stdout",
     "output_type": "stream",
     "text": [
      "John\n"
     ]
    }
   ],
   "source": [
    "print(x)"
   ]
  },
  {
   "cell_type": "code",
   "execution_count": 240,
   "id": "54d4068b-491d-4da7-8092-e4c1a7274ef8",
   "metadata": {},
   "outputs": [],
   "source": [
    "A = 5"
   ]
  },
  {
   "cell_type": "code",
   "execution_count": 242,
   "id": "1587ab3c-2dd3-4314-9025-2652f6369733",
   "metadata": {},
   "outputs": [
    {
     "name": "stdout",
     "output_type": "stream",
     "text": [
      "5\n"
     ]
    }
   ],
   "source": [
    "print(A)"
   ]
  },
  {
   "cell_type": "code",
   "execution_count": 244,
   "id": "36d627e8-a1bf-4585-9e4f-a1dfa36ff8b5",
   "metadata": {},
   "outputs": [
    {
     "name": "stdout",
     "output_type": "stream",
     "text": [
      "HelloWorld\n"
     ]
    }
   ],
   "source": [
    "a = 'Hello'\n",
    "b = 'World'\n",
    "print(a + b)"
   ]
  },
  {
   "cell_type": "code",
   "execution_count": 246,
   "id": "fdaeaa3f-8397-4989-9bc1-072efe91c850",
   "metadata": {},
   "outputs": [
    {
     "name": "stdout",
     "output_type": "stream",
     "text": [
      "9\n"
     ]
    }
   ],
   "source": [
    "a = 4\n",
    "b = 5\n",
    "print(a + b)"
   ]
  },
  {
   "cell_type": "code",
   "execution_count": 248,
   "id": "b2c7c75d-18c7-46c2-aa4d-d33f798bae72",
   "metadata": {},
   "outputs": [
    {
     "name": "stdout",
     "output_type": "stream",
     "text": [
      "<class 'str'>\n"
     ]
    }
   ],
   "source": [
    "print(type(x))"
   ]
  },
  {
   "cell_type": "code",
   "execution_count": 250,
   "id": "eb70a7d7-c344-4c64-9e4d-5604e5b7f480",
   "metadata": {},
   "outputs": [
    {
     "name": "stdout",
     "output_type": "stream",
     "text": [
      "<class 'int'>\n"
     ]
    }
   ],
   "source": [
    "x = 5\n",
    "print(type(x))"
   ]
  },
  {
   "cell_type": "code",
   "execution_count": 252,
   "id": "88d3fccc-63f0-48ec-9c94-ed2933e2fada",
   "metadata": {},
   "outputs": [
    {
     "name": "stdout",
     "output_type": "stream",
     "text": [
      "<class 'str'>\n"
     ]
    }
   ],
   "source": [
    "x = \"Hello World\"\n",
    "print(type(x))"
   ]
  },
  {
   "cell_type": "code",
   "execution_count": 254,
   "id": "6278b028-7e6e-4f3e-aa0f-ccc8f257f035",
   "metadata": {},
   "outputs": [
    {
     "name": "stdout",
     "output_type": "stream",
     "text": [
      "<class 'float'>\n"
     ]
    }
   ],
   "source": [
    "x = 20.5\n",
    "print(type(x))"
   ]
  },
  {
   "cell_type": "code",
   "execution_count": 256,
   "id": "9424ec13-77d4-4548-807b-d5b1df2da10e",
   "metadata": {},
   "outputs": [
    {
     "name": "stdout",
     "output_type": "stream",
     "text": [
      "35\n"
     ]
    }
   ],
   "source": [
    "print(int(35.88))"
   ]
  },
  {
   "cell_type": "code",
   "execution_count": 258,
   "id": "88cfb24e-4860-46b3-af68-a2adcaf970a6",
   "metadata": {},
   "outputs": [
    {
     "name": "stdout",
     "output_type": "stream",
     "text": [
      "35.0\n"
     ]
    }
   ],
   "source": [
    "print(float(35))"
   ]
  },
  {
   "cell_type": "code",
   "execution_count": 260,
   "id": "b4f32e96-dbd0-4f2c-a58a-cb16f31850f8",
   "metadata": {},
   "outputs": [
    {
     "name": "stdout",
     "output_type": "stream",
     "text": [
      "35.8\n"
     ]
    }
   ],
   "source": [
    "print(str(35.80))"
   ]
  },
  {
   "cell_type": "code",
   "execution_count": 262,
   "id": "6a8b211d-bef1-4186-9c89-3d12c7e35915",
   "metadata": {},
   "outputs": [
    {
     "name": "stdout",
     "output_type": "stream",
     "text": [
      "WelcomeCoders\n"
     ]
    }
   ],
   "source": [
    "x = 'Welcome'\n",
    "y = 'Coders'\n",
    "print(x + y)"
   ]
  },
  {
   "cell_type": "code",
   "execution_count": 266,
   "id": "ab2f445e-128f-4543-a2cc-a8cea3626f97",
   "metadata": {},
   "outputs": [
    {
     "name": "stdout",
     "output_type": "stream",
     "text": [
      "Join the party\n"
     ]
    }
   ],
   "source": [
    "a = 'Join'\n",
    "b = 'the'\n",
    "c = 'party'\n",
    "print(a + \" \" + b + \" \" + c)"
   ]
  },
  {
   "cell_type": "code",
   "execution_count": 268,
   "id": "eb4a796f-c80f-4c53-807b-a4a36288f481",
   "metadata": {},
   "outputs": [
    {
     "ename": "SyntaxError",
     "evalue": "positional argument follows keyword argument (3521117779.py, line 1)",
     "output_type": "error",
     "traceback": [
      "\u001b[1;36m  Cell \u001b[1;32mIn[268], line 1\u001b[1;36m\u001b[0m\n\u001b[1;33m    print(sep=\"&\", \"fish\", \"chips\")\u001b[0m\n\u001b[1;37m                                  ^\u001b[0m\n\u001b[1;31mSyntaxError\u001b[0m\u001b[1;31m:\u001b[0m positional argument follows keyword argument\n"
     ]
    }
   ],
   "source": [
    "print(sep=\"&\", \"fish\", \"chips\")"
   ]
  },
  {
   "cell_type": "code",
   "execution_count": 270,
   "id": "e70e94b1-f3ce-476c-81b3-09ea04e34a9a",
   "metadata": {},
   "outputs": [
    {
     "name": "stdout",
     "output_type": "stream",
     "text": [
      "Greg's book.\n"
     ]
    }
   ],
   "source": [
    "print('Greg\\'s book.')"
   ]
  },
  {
   "cell_type": "code",
   "execution_count": 274,
   "id": "e3afecf7-35c2-406b-aed8-7dd842f2b385",
   "metadata": {},
   "outputs": [
    {
     "ename": "SyntaxError",
     "evalue": "unterminated string literal (detected at line 1) (2101838058.py, line 1)",
     "output_type": "error",
     "traceback": [
      "\u001b[1;36m  Cell \u001b[1;32mIn[274], line 1\u001b[1;36m\u001b[0m\n\u001b[1;33m    print('\"Greg's book.\"')\u001b[0m\n\u001b[1;37m                        ^\u001b[0m\n\u001b[1;31mSyntaxError\u001b[0m\u001b[1;31m:\u001b[0m unterminated string literal (detected at line 1)\n"
     ]
    }
   ],
   "source": [
    "print('\"Greg's book.\"')"
   ]
  },
  {
   "cell_type": "code",
   "execution_count": 276,
   "id": "73c08cf2-0b89-4f8e-a23b-1ba4f9d9ce4b",
   "metadata": {},
   "outputs": [
    {
     "name": "stdout",
     "output_type": "stream",
     "text": [
      "3\n"
     ]
    }
   ],
   "source": [
    "var = 2\n",
    "var = 3\n",
    "print(var)"
   ]
  },
  {
   "cell_type": "code",
   "execution_count": 278,
   "id": "ae7a33b1-d8a6-480d-8eb1-1cd59e82ed05",
   "metadata": {},
   "outputs": [
    {
     "name": "stdin",
     "output_type": "stream",
     "text": [
      "Enter a number:  2\n"
     ]
    },
    {
     "name": "stdout",
     "output_type": "stream",
     "text": [
      "55\n"
     ]
    }
   ],
   "source": [
    "x = int(input(\"Enter a number: \")) # The user enters 2\n",
    "print(x * \"5\")"
   ]
  },
  {
   "cell_type": "code",
   "execution_count": 280,
   "id": "ad017e20-8eb1-46c7-bfc0-a3e65b4d4359",
   "metadata": {},
   "outputs": [
    {
     "name": "stdin",
     "output_type": "stream",
     "text": [
      "Enter a number:  2\n"
     ]
    },
    {
     "name": "stdout",
     "output_type": "stream",
     "text": [
      "<class 'str'>\n"
     ]
    }
   ],
   "source": [
    "x = input(\"Enter a number: \") # The user enters 2\n",
    "print(type(x))"
   ]
  },
  {
   "cell_type": "markdown",
   "id": "9bfed22e-18f3-43e9-b095-a1b9e671883d",
   "metadata": {
    "jp-MarkdownHeadingCollapsed": true
   },
   "source": [
    "# day 1 Exercise"
   ]
  },
  {
   "cell_type": "code",
   "execution_count": 288,
   "id": "f104315a-7e87-4b0f-bcb1-417ca632e3d3",
   "metadata": {},
   "outputs": [
    {
     "name": "stdin",
     "output_type": "stream",
     "text": [
      "enter name Burt\n",
      "enter age 52\n"
     ]
    },
    {
     "name": "stdout",
     "output_type": "stream",
     "text": [
      "Hi Burt congrats on turning 52 today.\n"
     ]
    }
   ],
   "source": [
    "name = input(\"enter name\")\n",
    "age = input(\"enter age\")\n",
    "print(\"Hi\", name, \"congrats on turning\", age, \"today.\")"
   ]
  },
  {
   "cell_type": "code",
   "execution_count": 306,
   "id": "1c3d6caa-b418-4bd5-9cf7-d0c648706bf5",
   "metadata": {},
   "outputs": [
    {
     "name": "stdin",
     "output_type": "stream",
     "text": [
      "enter_length 5\n",
      "enter_width 3\n"
     ]
    },
    {
     "name": "stdout",
     "output_type": "stream",
     "text": [
      "carpet required is 15.0\n"
     ]
    }
   ],
   "source": [
    "leng = float(input(\"enter_length\"))\n",
    "wid = float(input(\"enter_width\"))\n",
    "area = leng * wid\n",
    "print(\"carpet required is\", area)"
   ]
  },
  {
   "cell_type": "code",
   "execution_count": 312,
   "id": "8c330d8c-eb17-4b6d-b7ea-df9981c288f7",
   "metadata": {},
   "outputs": [
    {
     "name": "stdin",
     "output_type": "stream",
     "text": [
      "temp in celsius 24\n"
     ]
    },
    {
     "name": "stdout",
     "output_type": "stream",
     "text": [
      "75.2\n"
     ]
    }
   ],
   "source": [
    "temp = float(input(\"temp in celsius\"))\n",
    "fahrenheit = 9/5 * temp + 32\n",
    "print(fahrenheit)"
   ]
  },
  {
   "cell_type": "code",
   "execution_count": 314,
   "id": "be3ee15a-039b-47e1-9c01-2786f985d8d3",
   "metadata": {},
   "outputs": [
    {
     "name": "stdin",
     "output_type": "stream",
     "text": [
      "enter distance 1\n"
     ]
    },
    {
     "name": "stdout",
     "output_type": "stream",
     "text": [
      "0.621371 miles\n",
      "1.609344 kilometers\n"
     ]
    }
   ],
   "source": [
    "distance = float(input(\"enter distance\"))\n",
    "miles = distance * 0.621371\n",
    "km = distance * 1.609344\n",
    "print(miles, \"miles\")\n",
    "print(km, \"kilometers\")\n"
   ]
  },
  {
   "cell_type": "code",
   "execution_count": 320,
   "id": "65d0e2a8-6d69-4f9c-b8f6-2f41f26ca7f1",
   "metadata": {},
   "outputs": [
    {
     "name": "stdin",
     "output_type": "stream",
     "text": [
      "Enter a 3-digit number:  265\n"
     ]
    },
    {
     "name": "stdout",
     "output_type": "stream",
     "text": [
      "The sum of the digits of 265 is 13.\n"
     ]
    }
   ],
   "source": [
    "number = int(input(\"Enter a 3-digit number: \"))\n",
    "hundreds = number // 100\n",
    "tens = (number % 100) // 10\n",
    "ones = number % 10\n",
    "sum_of_digits = hundreds + tens + ones\n",
    "print(f\"The sum of the digits of {number} is {sum_of_digits}.\")"
   ]
  },
  {
   "cell_type": "code",
   "execution_count": 328,
   "id": "6349216c-113f-4402-a60d-390604ae3b05",
   "metadata": {},
   "outputs": [
    {
     "name": "stdin",
     "output_type": "stream",
     "text": [
      "Enter 4-digit number: 1234\n"
     ]
    },
    {
     "name": "stdout",
     "output_type": "stream",
     "text": [
      "The reverse of 1234 is 4321.\n"
     ]
    }
   ],
   "source": [
    "number = int(input(\"Enter 4-digit number:\"))\n",
    "thousands = number // 1000\n",
    "hundreds = (number % 1000) // 100\n",
    "tens = (number % 100) // 10\n",
    "ones = number % 10\n",
    "new_number = ones * 1000 + tens * 100 + hundreds * 10 + thousands\n",
    "print(f\"The reverse of {number} is {new_number}.\")"
   ]
  },
  {
   "cell_type": "markdown",
   "id": "2890763a-4619-4693-9928-661b72110612",
   "metadata": {
    "jp-MarkdownHeadingCollapsed": true
   },
   "source": [
    "# Comparison Operators"
   ]
  },
  {
   "cell_type": "code",
   "execution_count": 1,
   "id": "56d58247-5ae7-4a03-89e0-e2c384f8310f",
   "metadata": {},
   "outputs": [],
   "source": [
    "# == Operator"
   ]
  },
  {
   "cell_type": "code",
   "execution_count": 3,
   "id": "3a606844-2095-425f-8e0d-19b0c71cda5c",
   "metadata": {},
   "outputs": [
    {
     "name": "stdout",
     "output_type": "stream",
     "text": [
      "False\n"
     ]
    }
   ],
   "source": [
    "a = 2\n",
    "b = 3\n",
    "print(a == b)"
   ]
  },
  {
   "cell_type": "code",
   "execution_count": 6,
   "id": "5610c84b-0d0f-4c9a-a289-9482b7d63084",
   "metadata": {},
   "outputs": [
    {
     "name": "stdout",
     "output_type": "stream",
     "text": [
      "True\n"
     ]
    }
   ],
   "source": [
    "print(a==2)"
   ]
  },
  {
   "cell_type": "code",
   "execution_count": 8,
   "id": "002bc3a1-d548-4f2f-9a4d-00b096461600",
   "metadata": {},
   "outputs": [
    {
     "name": "stdout",
     "output_type": "stream",
     "text": [
      "False\n"
     ]
    }
   ],
   "source": [
    "print(2==3)"
   ]
  },
  {
   "cell_type": "code",
   "execution_count": 10,
   "id": "e6a550e3-0d79-4334-b135-ce7f2495237b",
   "metadata": {},
   "outputs": [
    {
     "name": "stdout",
     "output_type": "stream",
     "text": [
      "False\n"
     ]
    }
   ],
   "source": [
    "print(2>=3)"
   ]
  },
  {
   "cell_type": "code",
   "execution_count": 12,
   "id": "d161d992-b82b-416e-9b80-1e37d38a3efb",
   "metadata": {},
   "outputs": [
    {
     "name": "stdout",
     "output_type": "stream",
     "text": [
      "True\n"
     ]
    }
   ],
   "source": [
    "print(2<=3)"
   ]
  },
  {
   "cell_type": "code",
   "execution_count": 14,
   "id": "4b9a4a12-4037-4997-96de-a26a0498043b",
   "metadata": {},
   "outputs": [
    {
     "name": "stdout",
     "output_type": "stream",
     "text": [
      "False\n"
     ]
    }
   ],
   "source": [
    "print(100<99)"
   ]
  },
  {
   "cell_type": "code",
   "execution_count": 16,
   "id": "ef16549a-f8ca-4c5b-9a12-433b71e4d5a3",
   "metadata": {},
   "outputs": [],
   "source": [
    "# != operator - Not Equal to"
   ]
  },
  {
   "cell_type": "code",
   "execution_count": 18,
   "id": "46c07103-68d9-435b-b2a9-64145e908a15",
   "metadata": {},
   "outputs": [
    {
     "name": "stdout",
     "output_type": "stream",
     "text": [
      "True\n"
     ]
    }
   ],
   "source": [
    "print(2!=3)"
   ]
  },
  {
   "cell_type": "code",
   "execution_count": 20,
   "id": "5b36f0c4-b389-4045-aa28-ba762d95debf",
   "metadata": {},
   "outputs": [
    {
     "name": "stdout",
     "output_type": "stream",
     "text": [
      "True\n"
     ]
    }
   ],
   "source": [
    "print(a!=b)"
   ]
  },
  {
   "cell_type": "code",
   "execution_count": 24,
   "id": "41293e74-7fb1-4297-86d7-418ad2800f50",
   "metadata": {},
   "outputs": [
    {
     "name": "stdout",
     "output_type": "stream",
     "text": [
      "False\n"
     ]
    }
   ],
   "source": [
    "print(3!=3)"
   ]
  },
  {
   "cell_type": "code",
   "execution_count": 27,
   "id": "0012fd4d-f671-4b2c-b288-fc005931e499",
   "metadata": {},
   "outputs": [],
   "source": [
    "# > greater than, < lesser than, >= greater or aqual to, <= lesser or equal to"
   ]
  },
  {
   "cell_type": "code",
   "execution_count": 33,
   "id": "1fd028d2-d45e-46e9-924c-96fafe1f760b",
   "metadata": {},
   "outputs": [
    {
     "name": "stdin",
     "output_type": "stream",
     "text": [
      "Enter Number here 101\n"
     ]
    },
    {
     "name": "stdout",
     "output_type": "stream",
     "text": [
      "True\n"
     ]
    }
   ],
   "source": [
    "n = int(input(\"Enter Number here\"))\n",
    "print(n>=100)"
   ]
  },
  {
   "cell_type": "code",
   "execution_count": 35,
   "id": "dd2e6286-cc51-46b1-bfd5-fb8f1c40d2be",
   "metadata": {},
   "outputs": [
    {
     "name": "stdin",
     "output_type": "stream",
     "text": [
      "Enter Number here 99\n"
     ]
    },
    {
     "name": "stdout",
     "output_type": "stream",
     "text": [
      "False\n"
     ]
    }
   ],
   "source": [
    "n = int(input(\"Enter Number here\"))\n",
    "print(n>=100)"
   ]
  },
  {
   "cell_type": "code",
   "execution_count": 37,
   "id": "ee52ff54-0e33-429c-a7f3-aca01c332255",
   "metadata": {},
   "outputs": [
    {
     "name": "stdin",
     "output_type": "stream",
     "text": [
      "Enter Number here 100\n"
     ]
    },
    {
     "name": "stdout",
     "output_type": "stream",
     "text": [
      "True\n"
     ]
    }
   ],
   "source": [
    "n = int(input(\"Enter Number here\"))\n",
    "print(n>=100)"
   ]
  },
  {
   "cell_type": "markdown",
   "id": "028a1b31-f2f1-43a8-ac16-527fd703341b",
   "metadata": {
    "jp-MarkdownHeadingCollapsed": true
   },
   "source": [
    "# if statements"
   ]
  },
  {
   "cell_type": "code",
   "execution_count": 48,
   "id": "36d321ba-86bb-4bb8-8b06-5436853759a9",
   "metadata": {},
   "outputs": [
    {
     "name": "stdout",
     "output_type": "stream",
     "text": [
      "b is greater than a\n"
     ]
    }
   ],
   "source": [
    "a=33\n",
    "b=100\n",
    "if b>a:\n",
    "    print(\"b is greater than a\")"
   ]
  },
  {
   "cell_type": "code",
   "execution_count": 50,
   "id": "98ac7de0-1373-4cfa-ac50-f19ecbfaded9",
   "metadata": {},
   "outputs": [],
   "source": [
    "a=133\n",
    "b=100\n",
    "if b>a:\n",
    "    print(\"b is greater than a\")"
   ]
  },
  {
   "cell_type": "code",
   "execution_count": 52,
   "id": "cc64fc8b-7c4c-4e35-bb1d-2efd9a79008c",
   "metadata": {},
   "outputs": [
    {
     "name": "stdout",
     "output_type": "stream",
     "text": [
      "b is greater than a\n"
     ]
    }
   ],
   "source": [
    "a=33\n",
    "b=100\n",
    "if b>a:\n",
    "    print(\"b is greater than a\")\n",
    "if b<a:\n",
    "    print(\"a is greater than b\")"
   ]
  },
  {
   "cell_type": "code",
   "execution_count": 54,
   "id": "ec0665e4-1eeb-4794-9dc3-f38f083d9478",
   "metadata": {},
   "outputs": [
    {
     "name": "stdout",
     "output_type": "stream",
     "text": [
      "a is greater than b\n"
     ]
    }
   ],
   "source": [
    "a=133\n",
    "b=100\n",
    "if b>a:\n",
    "    print(\"b is greater than a\")\n",
    "if b<a:\n",
    "    print(\"a is greater than b\")"
   ]
  },
  {
   "cell_type": "code",
   "execution_count": 62,
   "id": "60ac7960-52cd-423f-94c4-dbd2def58147",
   "metadata": {},
   "outputs": [
    {
     "name": "stdin",
     "output_type": "stream",
     "text": [
      "Enter Number here 101\n"
     ]
    },
    {
     "name": "stdout",
     "output_type": "stream",
     "text": [
      "Your number is greater or equal to 100\n"
     ]
    }
   ],
   "source": [
    "n = int(input(\"Enter Number here\"))\n",
    "if n >=100:\n",
    "    print(\"Your number is greater or equal to 100\")\n",
    "if n <100:\n",
    "    print(\"Your number is less than 100\")"
   ]
  },
  {
   "cell_type": "code",
   "execution_count": 64,
   "id": "62079325-2359-4bae-b0f2-5a8fe1c796ea",
   "metadata": {},
   "outputs": [],
   "source": [
    "# elif and else statements (must come after if)"
   ]
  },
  {
   "cell_type": "code",
   "execution_count": 70,
   "id": "a13d3d70-ed15-41df-9d6d-d7d31cefddf6",
   "metadata": {},
   "outputs": [
    {
     "name": "stdin",
     "output_type": "stream",
     "text": [
      "Enter Number here 99\n"
     ]
    },
    {
     "name": "stdout",
     "output_type": "stream",
     "text": [
      "Your number is less than 100\n"
     ]
    }
   ],
   "source": [
    "n = int(input(\"Enter Number here\"))\n",
    "if n >100:\n",
    "    print(\"Your number is greater than 100\")\n",
    "elif n <100:\n",
    "    print(\"Your number is less than 100\")\n",
    "else:\n",
    "    print(\"Your number is equal to 100\")"
   ]
  },
  {
   "cell_type": "code",
   "execution_count": 74,
   "id": "7ae3071f-600f-47ed-84f0-562505e6c7ba",
   "metadata": {},
   "outputs": [
    {
     "name": "stdin",
     "output_type": "stream",
     "text": [
      "Enter password 1234\n"
     ]
    },
    {
     "name": "stdout",
     "output_type": "stream",
     "text": [
      "Your password is Correct\n"
     ]
    }
   ],
   "source": [
    "password = 1234\n",
    "user_password = int(input(\"Enter password\"))\n",
    "if user_password == password:\n",
    "    print(\"Your password is Correct\")\n",
    "else:\n",
    "    print(\"Password incorrect, please try again\")"
   ]
  },
  {
   "cell_type": "code",
   "execution_count": 76,
   "id": "49b9b942-4437-41c0-928b-a458ee0ea7a2",
   "metadata": {},
   "outputs": [
    {
     "name": "stdin",
     "output_type": "stream",
     "text": [
      "Enter password 123\n"
     ]
    },
    {
     "name": "stdout",
     "output_type": "stream",
     "text": [
      "Password incorrect, please try again\n"
     ]
    }
   ],
   "source": [
    "password = 1234\n",
    "user_password = int(input(\"Enter password\"))\n",
    "if user_password == password:\n",
    "    print(\"Your password is Correct\")\n",
    "else:\n",
    "    print(\"Password incorrect, please try again\")"
   ]
  },
  {
   "cell_type": "code",
   "execution_count": 84,
   "id": "f97c18b8-ecd4-4a3f-aff4-5b6442be360a",
   "metadata": {},
   "outputs": [
    {
     "name": "stdout",
     "output_type": "stream",
     "text": [
      "Enter two numbers and I will find the larger number\n"
     ]
    },
    {
     "name": "stdin",
     "output_type": "stream",
     "text": [
      "Enter your first number 99\n",
      "Enter your second number 100\n"
     ]
    },
    {
     "name": "stdout",
     "output_type": "stream",
     "text": [
      "The larger number is 100.0\n"
     ]
    }
   ],
   "source": [
    "print(\"Enter two numbers and I will find the larger number\")\n",
    "number1 = float(input(\"Enter your first number\"))\n",
    "number2 = float(input(\"Enter your second number\"))\n",
    "if number1 > number2:\n",
    "                larger_number = number1\n",
    "else:\n",
    "                larger_number = number2\n",
    "print(\"The larger number is\", larger_number)\n",
    "                "
   ]
  },
  {
   "cell_type": "code",
   "execution_count": 98,
   "id": "90f17f2c-e684-469d-a064-ba11dd865fe8",
   "metadata": {},
   "outputs": [
    {
     "name": "stdout",
     "output_type": "stream",
     "text": [
      "Enter two numbers and I will find the larger number\n"
     ]
    },
    {
     "name": "stdin",
     "output_type": "stream",
     "text": [
      "Enter your first number 99\n",
      "Enter your second number 99\n"
     ]
    },
    {
     "name": "stdout",
     "output_type": "stream",
     "text": [
      "They are equal\n",
      "This calculation is complete\n"
     ]
    }
   ],
   "source": [
    "print(\"Enter two numbers and I will find the larger number\")\n",
    "number1 = float(input(\"Enter your first number\"))\n",
    "number2 = float(input(\"Enter your second number\"))\n",
    "if number1 > number2:\n",
    "    larger_number = number1\n",
    "elif number2 > number1:\n",
    "    larger_number = number2\n",
    "    print(\"The larger number is\", larger_number)\n",
    "else:\n",
    "    print(\"They are equal\")\n",
    "print(\"This calculation is complete\")"
   ]
  },
  {
   "cell_type": "code",
   "execution_count": 114,
   "id": "84b83a32-cda5-433d-a3da-58dbef0b3a57",
   "metadata": {},
   "outputs": [
    {
     "name": "stdin",
     "output_type": "stream",
     "text": [
      "Enter number here: -1\n"
     ]
    },
    {
     "name": "stdout",
     "output_type": "stream",
     "text": [
      "This is a negative number\n"
     ]
    }
   ],
   "source": [
    "n = float(input(\"Enter number here:\"))\n",
    "if n > 0:\n",
    "    print(\"This is a positive number\")\n",
    "elif n < 0:\n",
    "    print(\"This is a negative number\")\n",
    "else:\n",
    "    print(\"The number is 0\")"
   ]
  },
  {
   "cell_type": "code",
   "execution_count": 133,
   "id": "0d38ca77-3267-4853-b9b0-d20b0f728435",
   "metadata": {},
   "outputs": [
    {
     "name": "stdin",
     "output_type": "stream",
     "text": [
      "Enter whole number here: 10\n"
     ]
    },
    {
     "name": "stdout",
     "output_type": "stream",
     "text": [
      "This is an even number\n"
     ]
    }
   ],
   "source": [
    "n = int(input(\"Enter whole number here:\"))\n",
    "if n % 2 == 0:\n",
    "    print(\"This is an even number\")\n",
    "else:\n",
    "    print(\"This is an odd number\")"
   ]
  },
  {
   "cell_type": "markdown",
   "id": "327d6739-9e0a-4d1e-8f06-e9bc9a9d1f45",
   "metadata": {
    "jp-MarkdownHeadingCollapsed": true
   },
   "source": [
    "# While Loop"
   ]
  },
  {
   "cell_type": "code",
   "execution_count": 136,
   "id": "1c8cca6d-61dd-4812-a63b-cf4d8f1608e3",
   "metadata": {},
   "outputs": [
    {
     "name": "stdout",
     "output_type": "stream",
     "text": [
      "1\n",
      "2\n",
      "3\n",
      "4\n",
      "5\n"
     ]
    }
   ],
   "source": [
    "i = 1\n",
    "while i < 6:\n",
    "    print(i)\n",
    "    i +=1"
   ]
  },
  {
   "cell_type": "code",
   "execution_count": 138,
   "id": "fd4988ba-4e74-48f9-a773-41c0451838d6",
   "metadata": {},
   "outputs": [],
   "source": [
    "# print all odd numbers between 1 and 10"
   ]
  },
  {
   "cell_type": "code",
   "execution_count": 144,
   "id": "e861c313-cc62-465c-aaa5-6dd4d2bf7a93",
   "metadata": {},
   "outputs": [
    {
     "name": "stdout",
     "output_type": "stream",
     "text": [
      "1\n",
      "3\n",
      "5\n",
      "7\n",
      "9\n"
     ]
    }
   ],
   "source": [
    "i=1\n",
    "while i<11:\n",
    "    if i %2 != 0:\n",
    "        print(i)\n",
    "    i +=1"
   ]
  },
  {
   "cell_type": "code",
   "execution_count": 146,
   "id": "ed588506-72cf-4b61-b564-c843c5151c7a",
   "metadata": {},
   "outputs": [
    {
     "name": "stdout",
     "output_type": "stream",
     "text": [
      "1\n",
      "3\n",
      "5\n",
      "7\n",
      "9\n"
     ]
    }
   ],
   "source": [
    "i = 1\n",
    "while i<11:\n",
    "    print(i)\n",
    "    i +=2"
   ]
  },
  {
   "cell_type": "code",
   "execution_count": 148,
   "id": "0496036f-0555-400c-bd4f-5993073649fa",
   "metadata": {},
   "outputs": [],
   "source": [
    "# make sure to avoid an endless loop as this can break the program"
   ]
  },
  {
   "cell_type": "code",
   "execution_count": 152,
   "id": "25377e42-7d51-40b8-823f-5122b2d73ee2",
   "metadata": {},
   "outputs": [
    {
     "name": "stdout",
     "output_type": "stream",
     "text": [
      "1\n",
      "2\n",
      "3\n"
     ]
    }
   ],
   "source": [
    "i = 1\n",
    "while i <6:\n",
    "    print(i)\n",
    "    if i==3:\n",
    "        break\n",
    "    i +=1"
   ]
  },
  {
   "cell_type": "code",
   "execution_count": 156,
   "id": "4de50fe9-2fcd-486d-8516-10f35f0cd877",
   "metadata": {},
   "outputs": [
    {
     "name": "stdin",
     "output_type": "stream",
     "text": [
      "Please enter your password 123\n",
      "Password incorrect. Please try again 1234\n"
     ]
    },
    {
     "name": "stdout",
     "output_type": "stream",
     "text": [
      "Your password is correct. Welcome!\n"
     ]
    }
   ],
   "source": [
    "password = 1234\n",
    "user_password = int(input(\"Please enter your password\"))\n",
    "if password == user_password:\n",
    "    print(\"Correct password. Welcome\")\n",
    "while password != user_password: \n",
    "    user_password = int(input(\"Password incorrect. Please try again\"))\n",
    "    if user_password == password:\n",
    "        print(\"Your password is correct. Welcome!\")\n",
    "        break\n",
    "    else:\n",
    "        print(\"You entered incorrect password. Try again\")"
   ]
  },
  {
   "cell_type": "code",
   "execution_count": 168,
   "id": "a72686f1-d081-474c-84af-db12026fbe17",
   "metadata": {},
   "outputs": [],
   "source": [
    "# lopp of even numbers up to 10"
   ]
  },
  {
   "cell_type": "code",
   "execution_count": 170,
   "id": "302dafb8-a452-4788-a319-37cb1b3fd373",
   "metadata": {},
   "outputs": [
    {
     "name": "stdout",
     "output_type": "stream",
     "text": [
      "0\n",
      "2\n",
      "4\n",
      "6\n",
      "8\n",
      "10\n"
     ]
    }
   ],
   "source": [
    "x=0\n",
    "while x<11:\n",
    "    if x %2 == 0:\n",
    "        print(x)\n",
    "    x +=1"
   ]
  },
  {
   "cell_type": "code",
   "execution_count": 172,
   "id": "ee13162a-2728-4ccc-8265-3cd193c4d21a",
   "metadata": {},
   "outputs": [
    {
     "name": "stdout",
     "output_type": "stream",
     "text": [
      "0\n",
      "2\n",
      "4\n",
      "6\n",
      "8\n",
      "10\n"
     ]
    }
   ],
   "source": [
    "x=0\n",
    "while x<11:\n",
    "    print(x)\n",
    "    x +=2"
   ]
  },
  {
   "cell_type": "raw",
   "id": "5e523719-8cc7-42eb-9eaf-523631b79ac2",
   "metadata": {},
   "source": [
    "# Let's play famous “guessing a number game” using while loop.\n",
    "Write a program that:\n",
    "Takes the number from user\n",
    "Compares the number the user entered with the number you assigned and then gives a message “Little lower” or “Little higher” till the user knows it."
   ]
  },
  {
   "cell_type": "code",
   "execution_count": 198,
   "id": "f5491214-337f-4d00-8b16-24d27a7090af",
   "metadata": {},
   "outputs": [
    {
     "name": "stdin",
     "output_type": "stream",
     "text": [
      "Enter a number here: 10\n",
      "try higher: 100\n",
      "try lower: 43\n"
     ]
    },
    {
     "name": "stdout",
     "output_type": "stream",
     "text": [
      "Well done, you guessed right!\n"
     ]
    }
   ],
   "source": [
    "n = 43\n",
    "number = int(input(\"Enter a number here:\"))\n",
    "if number == n:\n",
    "    print(\"Well done, you guessed right!\")\n",
    "while number != n:\n",
    "    if number > n:\n",
    "        number = int(input(\"try lower:\"))\n",
    "    elif number < n:\n",
    "        number = int(input(\"try higher:\"))\n",
    "print(\"Well done, you guessed right!\")"
   ]
  },
  {
   "cell_type": "markdown",
   "id": "d0a87c1e-25e9-48bf-9af3-a72b4fdb731c",
   "metadata": {
    "jp-MarkdownHeadingCollapsed": true
   },
   "source": [
    "# For Loop"
   ]
  },
  {
   "cell_type": "code",
   "execution_count": 201,
   "id": "718e0bd4-a3c6-449d-94e1-947a22660ea2",
   "metadata": {},
   "outputs": [
    {
     "name": "stdout",
     "output_type": "stream",
     "text": [
      "u\n",
      "n\n",
      "k\n",
      "n\n",
      "o\n",
      "w\n",
      "n\n"
     ]
    }
   ],
   "source": [
    "myname = \"unknown\"\n",
    "for i in myname:\n",
    "    print(i)"
   ]
  },
  {
   "cell_type": "code",
   "execution_count": 203,
   "id": "a34d9ee6-cec2-4518-96a6-2da2fa6509f1",
   "metadata": {},
   "outputs": [
    {
     "name": "stdout",
     "output_type": "stream",
     "text": [
      "w\n",
      "a\n",
      "t\n",
      "e\n",
      "r\n",
      "m\n",
      "e\n",
      "l\n",
      "o\n",
      "n\n"
     ]
    }
   ],
   "source": [
    "for i in \"watermelon\":\n",
    "    print(i)"
   ]
  },
  {
   "cell_type": "code",
   "execution_count": 205,
   "id": "1816e757-a522-4762-a88e-58da0a5e629c",
   "metadata": {},
   "outputs": [],
   "source": [
    "# start, stop, step"
   ]
  },
  {
   "cell_type": "code",
   "execution_count": 209,
   "id": "1e80f177-c732-483e-b82f-6bdf1c3d2efc",
   "metadata": {},
   "outputs": [
    {
     "name": "stdout",
     "output_type": "stream",
     "text": [
      "Number from 1 to 50 which are multiples of 7.\n",
      "7\n",
      "14\n",
      "21\n",
      "28\n",
      "35\n",
      "42\n",
      "49\n"
     ]
    }
   ],
   "source": [
    "print(\"Number from 1 to 50 which are multiples of 7.\")\n",
    "for i in range(1,51):\n",
    "    if i %7 == 0:\n",
    "        print(i)"
   ]
  },
  {
   "cell_type": "code",
   "execution_count": 211,
   "id": "e050d4dd-69df-473f-aac5-b7bebc97f5e6",
   "metadata": {},
   "outputs": [
    {
     "name": "stdout",
     "output_type": "stream",
     "text": [
      "21\n"
     ]
    }
   ],
   "source": [
    "# Given list of numbers\n",
    "\n",
    "numbers = [3, 7, 1, 8, 2]\n",
    " \n",
    "# Your task: Use a for loop to find the total sum of the numbers\n",
    "\n",
    "total = 0\n",
    " \n",
    "for i in numbers:\n",
    "\n",
    "    total += i\n",
    "\n",
    "print(total)\n",
    " "
   ]
  },
  {
   "cell_type": "code",
   "execution_count": 213,
   "id": "c45b3535-8254-4948-9dfd-883b21782db5",
   "metadata": {},
   "outputs": [
    {
     "name": "stdout",
     "output_type": "stream",
     "text": [
      "enter an integer and I will calcualte factorials\n"
     ]
    },
    {
     "name": "stdin",
     "output_type": "stream",
     "text": [
      "Enter your number: 22\n"
     ]
    },
    {
     "name": "stdout",
     "output_type": "stream",
     "text": [
      "1124000727777607680000\n"
     ]
    }
   ],
   "source": [
    "print(\"enter an integer and I will calcualte factorials\")\n",
    "number = int(input(\"Enter your number:\"))\n",
    "factorial = 1\n",
    "for i in range(1, number+1):\n",
    "    factorial *= i\n",
    "print(factorial)"
   ]
  },
  {
   "cell_type": "code",
   "execution_count": 241,
   "id": "4acb8316-15ab-48e7-9d34-85e0a315d982",
   "metadata": {},
   "outputs": [
    {
     "name": "stdout",
     "output_type": "stream",
     "text": [
      "1\n",
      "2\n",
      "fizz\n",
      "4\n",
      "buzz\n",
      "fizz\n",
      "7\n",
      "8\n",
      "fizz\n",
      "buzz\n",
      "11\n",
      "fizz\n",
      "13\n",
      "14\n",
      "fizzbuzz\n",
      "16\n",
      "17\n",
      "fizz\n",
      "19\n",
      "buzz\n",
      "fizz\n",
      "22\n",
      "23\n",
      "fizz\n",
      "buzz\n",
      "26\n",
      "fizz\n",
      "28\n",
      "29\n",
      "fizzbuzz\n",
      "31\n",
      "32\n",
      "fizz\n",
      "34\n",
      "buzz\n",
      "fizz\n",
      "37\n",
      "38\n",
      "fizz\n",
      "buzz\n",
      "41\n",
      "fizz\n",
      "43\n",
      "44\n",
      "fizzbuzz\n",
      "46\n",
      "47\n",
      "fizz\n",
      "49\n",
      "buzz\n",
      "fizz\n",
      "52\n",
      "53\n",
      "fizz\n",
      "buzz\n",
      "56\n",
      "fizz\n",
      "58\n",
      "59\n",
      "fizzbuzz\n",
      "61\n",
      "62\n",
      "fizz\n",
      "64\n",
      "buzz\n",
      "fizz\n",
      "67\n",
      "68\n",
      "fizz\n",
      "buzz\n",
      "71\n",
      "fizz\n",
      "73\n",
      "74\n",
      "fizzbuzz\n",
      "76\n",
      "77\n",
      "fizz\n",
      "79\n",
      "buzz\n",
      "fizz\n",
      "82\n",
      "83\n",
      "fizz\n",
      "buzz\n",
      "86\n",
      "fizz\n",
      "88\n",
      "89\n",
      "fizzbuzz\n",
      "91\n",
      "92\n",
      "fizz\n",
      "94\n",
      "buzz\n",
      "fizz\n",
      "97\n",
      "98\n",
      "fizz\n",
      "buzz\n"
     ]
    }
   ],
   "source": [
    "for i in range(1, 101):\n",
    "    if i %3 ==0 and i %5 ==0:\n",
    "        print(\"fizzbuzz\")\n",
    "    elif i %3 ==0:\n",
    "        print(\"fizz\")\n",
    "    elif i %5 ==0:\n",
    "        print(\"buzz\")\n",
    "    else:\n",
    "        print(i)\n",
    "        "
   ]
  },
  {
   "cell_type": "markdown",
   "id": "9340bd6c-6c30-4fba-9c5d-f6d2bd5f9a69",
   "metadata": {
    "jp-MarkdownHeadingCollapsed": true
   },
   "source": [
    "# end of day 2 test"
   ]
  },
  {
   "cell_type": "code",
   "execution_count": 243,
   "id": "f4e1ea6b-f81a-4cf3-a3e4-e549cd4c6035",
   "metadata": {},
   "outputs": [
    {
     "name": "stdout",
     "output_type": "stream",
     "text": [
      "False\n",
      "True\n"
     ]
    }
   ],
   "source": [
    "x = 5\n",
    "y = 10\n",
    "z = 8\n",
    "print(x > y)\n",
    "print(y > z)"
   ]
  },
  {
   "cell_type": "code",
   "execution_count": 245,
   "id": "1d3d38a0-c8db-4b81-ad76-5c42bb3396a0",
   "metadata": {},
   "outputs": [
    {
     "name": "stdout",
     "output_type": "stream",
     "text": [
      "False\n",
      "True\n"
     ]
    }
   ],
   "source": [
    "x, y, z = 5, 10, 8\n",
    "print(x > z)\n",
    "print((y - 5) == x)"
   ]
  },
  {
   "cell_type": "code",
   "execution_count": 247,
   "id": "e8dc53f8-d417-49d7-8204-60a4698515eb",
   "metadata": {},
   "outputs": [
    {
     "name": "stdout",
     "output_type": "stream",
     "text": [
      "True\n",
      "True\n"
     ]
    }
   ],
   "source": [
    "x = 10\n",
    "\n",
    "if x == 10:\n",
    "    print(x == 10)\n",
    "if x > 5:\n",
    "    print(x > 5)\n",
    "if x < 10:\n",
    "    print(x < 10)"
   ]
  },
  {
   "cell_type": "code",
   "execution_count": 249,
   "id": "3546eba4-b964-4282-9115-1c1ebe5c1f16",
   "metadata": {},
   "outputs": [
    {
     "name": "stdout",
     "output_type": "stream",
     "text": [
      "-1\n",
      "0\n",
      "1\n",
      "2\n",
      "3\n"
     ]
    }
   ],
   "source": [
    "n = range(4)\n",
    " \n",
    "for num in n:\n",
    "    print(num - 1)\n",
    "else:\n",
    "    print(num)\n"
   ]
  },
  {
   "cell_type": "code",
   "execution_count": 251,
   "id": "70922efd-c301-4f47-b176-3d00b9acf656",
   "metadata": {},
   "outputs": [
    {
     "name": "stdout",
     "output_type": "stream",
     "text": [
      "4\n",
      "3\n",
      "2\n"
     ]
    }
   ],
   "source": [
    "n = 3\n",
    " \n",
    "while n > 0:\n",
    "    print(n + 1)\n",
    "    n -= 1"
   ]
  },
  {
   "cell_type": "code",
   "execution_count": 253,
   "id": "d8b1412b-58cc-40e9-b0b4-72bcc163bfac",
   "metadata": {},
   "outputs": [
    {
     "name": "stdout",
     "output_type": "stream",
     "text": [
      "0\n",
      "3\n",
      "6\n",
      "9\n",
      "12\n",
      "15\n",
      "18\n"
     ]
    }
   ],
   "source": [
    "for i in range(0, 20, 3):\n",
    "    print(i)\n"
   ]
  },
  {
   "cell_type": "code",
   "execution_count": 255,
   "id": "d06d0a86-77a2-4685-9f12-d56bab6c5bcc",
   "metadata": {},
   "outputs": [
    {
     "name": "stdout",
     "output_type": "stream",
     "text": [
      "*\n",
      "*\n"
     ]
    }
   ],
   "source": [
    "i = 0\n",
    "while i <= 3 :\n",
    "    i += 2\n",
    "    print(\"*\")"
   ]
  },
  {
   "cell_type": "code",
   "execution_count": 257,
   "id": "d343bbce-0a82-4ee8-9f2d-f8d3ae8732eb",
   "metadata": {},
   "outputs": [
    {
     "name": "stdout",
     "output_type": "stream",
     "text": [
      "#\n",
      "#\n",
      "#\n"
     ]
    }
   ],
   "source": [
    "var = 0\n",
    "while var < 6:\n",
    "    var += 1\n",
    "    if var % 2 == 0:\n",
    "        print(\"#\")"
   ]
  },
  {
   "cell_type": "code",
   "execution_count": null,
   "id": "771b7f0e-9928-4543-953c-65809321c146",
   "metadata": {},
   "outputs": [],
   "source": []
  }
 ],
 "metadata": {
  "kernelspec": {
   "display_name": "Python 3 (ipykernel)",
   "language": "python",
   "name": "python3"
  },
  "language_info": {
   "codemirror_mode": {
    "name": "ipython",
    "version": 3
   },
   "file_extension": ".py",
   "mimetype": "text/x-python",
   "name": "python",
   "nbconvert_exporter": "python",
   "pygments_lexer": "ipython3",
   "version": "3.12.7"
  }
 },
 "nbformat": 4,
 "nbformat_minor": 5
}
